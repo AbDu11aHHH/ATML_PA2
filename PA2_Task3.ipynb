{
  "cells": [
    {
      "cell_type": "code",
      "execution_count": null,
      "metadata": {
        "id": "bQ3Vh3FkFbPd"
      },
      "outputs": [],
      "source": [
        "import torch, copy\n",
        "import torch.nn as nn\n",
        "import torchvision\n",
        "from torchvision import datasets, transforms\n",
        "from torch.utils.data import DataLoader, TensorDataset\n",
        "import numpy as np\n",
        "import matplotlib.pyplot as plt\n",
        "import random\n",
        "from PIL import Image\n",
        "\n",
        "from transformers import CLIPProcessor, CLIPModel\n",
        "from tqdm import tqdm\n",
        "import torch.nn.functional as F\n",
        "from torch.utils.data import TensorDataset\n",
        "from torch.nn.functional import cosine_similarity\n",
        "import os\n",
        "from sklearn.metrics import roc_auc_score, roc_curve"
      ]
    },
    {
      "cell_type": "markdown",
      "source": [
        "# Setup"
      ],
      "metadata": {
        "id": "T9Ct2L4m_zCB"
      }
    },
    {
      "cell_type": "code",
      "execution_count": null,
      "metadata": {
        "colab": {
          "base_uri": "https://localhost:8080/"
        },
        "id": "xGPYmkrzHuoc",
        "outputId": "117259e0-2d9c-48bb-82e9-bd5955a821c7"
      },
      "outputs": [
        {
          "output_type": "stream",
          "name": "stdout",
          "text": [
            "cuda\n"
          ]
        }
      ],
      "source": [
        "device = 'cuda' if torch.cuda.is_available() else 'cpu'\n",
        "print(device)"
      ]
    },
    {
      "cell_type": "code",
      "source": [
        "from google.colab import drive\n",
        "drive.mount('/content/drive')"
      ],
      "metadata": {
        "colab": {
          "base_uri": "https://localhost:8080/"
        },
        "id": "4hAFOMwb16De",
        "outputId": "8780f5a7-e2e6-4a2e-c244-f541bcba9396"
      },
      "execution_count": null,
      "outputs": [
        {
          "output_type": "stream",
          "name": "stdout",
          "text": [
            "Drive already mounted at /content/drive; to attempt to forcibly remount, call drive.mount(\"/content/drive\", force_remount=True).\n"
          ]
        }
      ]
    },
    {
      "cell_type": "code",
      "execution_count": null,
      "metadata": {
        "id": "eTQS7szaemMJ"
      },
      "outputs": [],
      "source": [
        "!cp -r /content/drive/MyDrive/PACS /content/PACS\n"
      ]
    },
    {
      "cell_type": "code",
      "execution_count": null,
      "metadata": {
        "colab": {
          "base_uri": "https://localhost:8080/"
        },
        "id": "CAY5pkg7UbCq",
        "outputId": "d86d11b3-db8e-46e4-8130-d29ca9b04d6a"
      },
      "outputs": [
        {
          "output_type": "stream",
          "name": "stdout",
          "text": [
            "Using Colab cache for faster access to the 'pacs-dataset' dataset.\n",
            "Path to dataset files: /kaggle/input/pacs-dataset\n"
          ]
        }
      ],
      "source": [
        "import kagglehub\n",
        "\n",
        "# Download latest version\n",
        "path = kagglehub.dataset_download(\"nickfratto/pacs-dataset\")\n",
        "\n",
        "print(\"Path to dataset files:\", path)"
      ]
    },
    {
      "cell_type": "code",
      "execution_count": null,
      "metadata": {
        "id": "9ESLM_ihH4KT"
      },
      "outputs": [],
      "source": [
        "transform = transforms.Compose([\n",
        "    transforms.Resize((224,224)),\n",
        "    transforms.ToTensor(),\n",
        "    transforms.Normalize((0.48145466, 0.4578275, 0.40821073),\n",
        "                         (0.26862954, 0.26130258, 0.27577711))\n",
        "])\n",
        "\n",
        "domains = ['art_painting', 'cartoon', 'photo', 'sketch']\n",
        "\n",
        "domain_datasets = {}\n",
        "dataloaders = {}\n",
        "\n",
        "for domain in domains:\n",
        "  domain_path = f\"{path}/pacs_data/pacs_data/{domain}\"\n",
        "  domain_dataset = torchvision.datasets.ImageFolder(domain_path, transform)\n",
        "  domain_datasets[domain] = domain_dataset\n",
        "  dataloader = DataLoader(domain_dataset, batch_size=32, shuffle=False, pin_memory=True)\n",
        "  dataloaders[domain] = dataloader"
      ]
    },
    {
      "cell_type": "code",
      "execution_count": null,
      "metadata": {
        "colab": {
          "base_uri": "https://localhost:8080/",
          "referenced_widgets": [
            "4937310c090d4c5e832ee718c6f87eba",
            "18bac58619b14910a53d786524a696ee",
            "f99df94c00d54e9898bef0fdd2c8b80a",
            "7a0f48c3b68746d9bc6c8a07efacdbb2",
            "12cdc86570bc4116a2570681a1a9f12b",
            "062c7037c4744ffbb3aebe2b8b81ff5a",
            "a145677deb904172a11f5d768841f45d",
            "3541593a1f284052aeb1d7de5fe55f84",
            "b10a54bd1ae744af86af38b55ce2c9af",
            "51b0cc2558cf45dfb7dd4e434cc53e9f",
            "0fbbbd54c75b44d7b9dc0ccddd95af39",
            "f4c61a5aedb94fcf9e8acfe4bbf76d17",
            "55659e3dbc6c4bc1a91c60919b7ee7d7",
            "7ab472ed805c47c98dfcd7ec33a1ccb2",
            "403f571ba6ab4de79b0b3ef40a353c2e",
            "f85a0a1360854edf97dc5bc281bc4c26",
            "dc36912e851940129e56668eab2b0a22",
            "ea914a768a634546a6480acabd9373de",
            "0a11d1a197ca4206b06c34cceb2374ff",
            "81d81dc0cf09407a92cc48b221c6be2c",
            "b9c67f33b54f4bce82f6db0543dac69f",
            "49f88105fd7043f296e44479ba4c71cc",
            "91216813b3fe4254835d0cb6d0adac35",
            "27355e1388634c4cb7d3e912ebcf59c4",
            "3c1b21eb1b1e4a67b5e8ba039d052c3f",
            "df150867d8e442749400beecf07642e3",
            "56878034adba4855b980427fab5f0e8c",
            "48da0a645fbf4c3a9fef4350127c13d6",
            "be7a9b9849f149168edd9d2d129938be",
            "98610a1b946448428391e2e7c72360b1",
            "9fd02fdf642140d297772ad04a2dde00",
            "9e95b3a1d31d496a962d5690b13293d5",
            "8935e49621364c67b93bdd33ae14ffc6",
            "d5801d803d8742f7b0821e0d8e913563",
            "ac1d7a414cd141f9ad0cd1d2e1581d33",
            "73e1ae39664d4ef58730c0d45e419fea",
            "a549f16f19da46bab79b1269c6897746",
            "804b3cc5b7994d95bb0e9c94d5b01ab6",
            "247e6224781d432e8bb82a750a7864b7",
            "99a1e2d9eab3430eb4c1ce9f6a5e5bb1",
            "a0a35582dd0c4941aaaeb2e7ec9b5e0c",
            "bd1867b95c2a454eb57038b6c6afa7c6",
            "dedb02ef1ec8433a8e9e89e59eaf4e68",
            "9730612284b44a379e06ef49e9fe8fe4",
            "9cf6f1f06e474a28a6ca76b516424cb0",
            "1e156c562d7941dfbe242fcf70a5fa84",
            "6d766fd014ca44d6ae2aee231c3643e3",
            "8589a00a6fc546ddbdf575a2d0f9c4fb",
            "a0eabf3aa5ce4a3badc33e5c67739418",
            "5ce3bc3b284e45b0ad05e0d38cc1ad69",
            "cd17312057534d3abb0d19d2fee1c720",
            "7121f20579234c55af9e4a79dc264a1f",
            "f2ebccc9e4214d0c86763cfbe47b5a7a",
            "a0cd3161e5d34a14b2e3b99bb3b20923",
            "3731bcee1a024a88a66cef2265769a67",
            "e1c5473bf00149deb9a03400aabc4dac",
            "22d5317cb9fc4f21b37e1622afbdab20",
            "347a28c104a248b8b519d9e4637b3a82",
            "aecc0ec6fff242b9a078078633c92de1",
            "e7cb89db61f543959db4380b101f459a",
            "cfaee6b7005640e7a8c085f1c80b1593",
            "0a8ed636c2c84143805d696d713298e0",
            "2a3de02c8f3349b6abb6808ea1c72b82",
            "77ad8fddcf7441be910fde0141b60cf8",
            "c4c36c81838a476093a8f4e0d3c2f15c",
            "47d68ffda8174db58842880ddb3b6f93",
            "3f3e8b4fe16d487c9870ce5a3d7ada67",
            "8a120a359dc443dab8df3c2f2165a647",
            "31ae155bbc9a4d50ad33abec8051583d",
            "49d0bab4581a471483415f5f7f95dcd2",
            "01ac485b468c4597a48a3340a6db6d4a",
            "97e1b869b69f49e181bc5b820109d18b",
            "e95fb06b70834672b6353aeb6631e637",
            "1583a0aaad9f43849364205d52f374a2",
            "acecd5bc3f2b4b76a45459bb67432edf",
            "2a21a6a5b61246bd8619fb953ebddf8a",
            "c6d40dbe382b4c1e99c250c7d768f36b",
            "8376e808d2ec4f88899a675729e06f62",
            "581cc51cbff943a58e68923eccda9e04",
            "7eaf802b8ebf4c3b805ce7c995c90b95",
            "06b5d2642af24312a5b92bc6c356a298",
            "4f4a434aff2c41d58c926f69247c4557",
            "2ba11c9d6c974e9695825b7ca4104c00",
            "b007d7a92ceb418db6a08ee093edbc84",
            "cb9e2b18b1f14b638f5850ad84a5863f",
            "dc43588302514577985996f2a0381bd4",
            "18aa050bcb3a4d4688a6ca391c6fdd7d",
            "68cca188f9344fbaa6ccfa65f507bf13",
            "c01dd55bec21466bb5e390587ee02b5f",
            "a31bd2f9a6364ad280ecdba2438e8c7f",
            "89087d107ed148c79a893951a457cfff",
            "46bce74e1acf4e549a7cd710d569e2fa",
            "f1de5e1c8dac4b39bbb652d887c7299b",
            "6cf59672d07f471985865ae33e43e561",
            "a568ce92f18840898ac1c96c561e0379",
            "800c350bb04b4538ba27d18da3cbb39b",
            "a488717f84d340d48545ac0df5e3dbed",
            "b3da9352c6024736ba83983bd78dc5a9",
            "f1aada47fa8e494990ca0b1e1b8aac59"
          ]
        },
        "id": "SGpJVXOvP0v6",
        "outputId": "0c54f921-4ca3-46cc-e79e-b24c38a7f2b1"
      },
      "outputs": [
        {
          "output_type": "stream",
          "name": "stderr",
          "text": [
            "/usr/local/lib/python3.12/dist-packages/huggingface_hub/utils/_auth.py:94: UserWarning: \n",
            "The secret `HF_TOKEN` does not exist in your Colab secrets.\n",
            "To authenticate with the Hugging Face Hub, create a token in your settings tab (https://huggingface.co/settings/tokens), set it as secret in your Google Colab and restart your session.\n",
            "You will be able to reuse this secret in all of your notebooks.\n",
            "Please note that authentication is recommended but still optional to access public models or datasets.\n",
            "  warnings.warn(\n"
          ]
        },
        {
          "output_type": "display_data",
          "data": {
            "text/plain": [
              "config.json: 0.00B [00:00, ?B/s]"
            ],
            "application/vnd.jupyter.widget-view+json": {
              "version_major": 2,
              "version_minor": 0,
              "model_id": "4937310c090d4c5e832ee718c6f87eba"
            }
          },
          "metadata": {}
        },
        {
          "output_type": "display_data",
          "data": {
            "text/plain": [
              "pytorch_model.bin:   0%|          | 0.00/605M [00:00<?, ?B/s]"
            ],
            "application/vnd.jupyter.widget-view+json": {
              "version_major": 2,
              "version_minor": 0,
              "model_id": "f4c61a5aedb94fcf9e8acfe4bbf76d17"
            }
          },
          "metadata": {}
        },
        {
          "output_type": "display_data",
          "data": {
            "text/plain": [
              "model.safetensors:   0%|          | 0.00/605M [00:00<?, ?B/s]"
            ],
            "application/vnd.jupyter.widget-view+json": {
              "version_major": 2,
              "version_minor": 0,
              "model_id": "91216813b3fe4254835d0cb6d0adac35"
            }
          },
          "metadata": {}
        },
        {
          "output_type": "stream",
          "name": "stderr",
          "text": [
            "Using a slow image processor as `use_fast` is unset and a slow processor was saved with this model. `use_fast=True` will be the default behavior in v4.52, even if the model was saved with a slow processor. This will result in minor differences in outputs. You'll still be able to use a slow processor with `use_fast=False`.\n"
          ]
        },
        {
          "output_type": "display_data",
          "data": {
            "text/plain": [
              "preprocessor_config.json:   0%|          | 0.00/316 [00:00<?, ?B/s]"
            ],
            "application/vnd.jupyter.widget-view+json": {
              "version_major": 2,
              "version_minor": 0,
              "model_id": "d5801d803d8742f7b0821e0d8e913563"
            }
          },
          "metadata": {}
        },
        {
          "output_type": "display_data",
          "data": {
            "text/plain": [
              "tokenizer_config.json:   0%|          | 0.00/592 [00:00<?, ?B/s]"
            ],
            "application/vnd.jupyter.widget-view+json": {
              "version_major": 2,
              "version_minor": 0,
              "model_id": "9cf6f1f06e474a28a6ca76b516424cb0"
            }
          },
          "metadata": {}
        },
        {
          "output_type": "display_data",
          "data": {
            "text/plain": [
              "vocab.json: 0.00B [00:00, ?B/s]"
            ],
            "application/vnd.jupyter.widget-view+json": {
              "version_major": 2,
              "version_minor": 0,
              "model_id": "e1c5473bf00149deb9a03400aabc4dac"
            }
          },
          "metadata": {}
        },
        {
          "output_type": "display_data",
          "data": {
            "text/plain": [
              "merges.txt: 0.00B [00:00, ?B/s]"
            ],
            "application/vnd.jupyter.widget-view+json": {
              "version_major": 2,
              "version_minor": 0,
              "model_id": "3f3e8b4fe16d487c9870ce5a3d7ada67"
            }
          },
          "metadata": {}
        },
        {
          "output_type": "display_data",
          "data": {
            "text/plain": [
              "tokenizer.json: 0.00B [00:00, ?B/s]"
            ],
            "application/vnd.jupyter.widget-view+json": {
              "version_major": 2,
              "version_minor": 0,
              "model_id": "8376e808d2ec4f88899a675729e06f62"
            }
          },
          "metadata": {}
        },
        {
          "output_type": "display_data",
          "data": {
            "text/plain": [
              "special_tokens_map.json:   0%|          | 0.00/389 [00:00<?, ?B/s]"
            ],
            "application/vnd.jupyter.widget-view+json": {
              "version_major": 2,
              "version_minor": 0,
              "model_id": "c01dd55bec21466bb5e390587ee02b5f"
            }
          },
          "metadata": {}
        }
      ],
      "source": [
        "#Load the pretrained model and Processor\n",
        "model = CLIPModel.from_pretrained('openai/clip-vit-base-patch32').to(device)\n",
        "processor = CLIPProcessor.from_pretrained('openai/clip-vit-base-patch32')"
      ]
    },
    {
      "cell_type": "markdown",
      "source": [
        "# Zero-Shot Performance Evaluation"
      ],
      "metadata": {
        "id": "TozlB3vj_5T1"
      }
    },
    {
      "cell_type": "code",
      "execution_count": null,
      "metadata": {
        "id": "dd3a0ttZICfc"
      },
      "outputs": [],
      "source": [
        "# define classes and generate prompts\n",
        "classes = ['dog', 'elephant', 'giraffe', 'guitar', 'horse', 'house', 'person']\n",
        "prompts = [f\"a photo of {c}\" for c in classes]\n",
        "\n",
        "# Generate text Embeddings\n",
        "\n",
        "with torch.inference_mode():\n",
        "  text_inputs = processor(text=prompts, return_tensors='pt', padding=True).to(device) #tokenize and return tensors\n",
        "  text_embeds = model.get_text_features(**text_inputs) #pass tokens to model's text encoder (transformer), returns feature vector for each text prompt\n",
        "  text_embeds /= text_embeds.norm(dim=-1, keepdim=True) #L2 normalization to measure cosine similarity"
      ]
    },
    {
      "cell_type": "code",
      "execution_count": null,
      "metadata": {
        "colab": {
          "base_uri": "https://localhost:8080/"
        },
        "id": "25whW3z7WZCv",
        "outputId": "ed2bb44c-1449-4819-8380-6ded678e00f0"
      },
      "outputs": [
        {
          "name": "stderr",
          "output_type": "stream",
          "text": [
            "100%|██████████| 64/64 [12:19<00:00, 11.55s/it]\n"
          ]
        },
        {
          "name": "stdout",
          "output_type": "stream",
          "text": [
            "Domain: art_painting | Zero-Shot Accuracy: 95.61%\n"
          ]
        },
        {
          "name": "stderr",
          "output_type": "stream",
          "text": [
            "100%|██████████| 74/74 [14:10<00:00, 11.50s/it]\n"
          ]
        },
        {
          "name": "stdout",
          "output_type": "stream",
          "text": [
            "Domain: cartoon | Zero-Shot Accuracy: 95.90%\n"
          ]
        },
        {
          "name": "stderr",
          "output_type": "stream",
          "text": [
            "100%|██████████| 53/53 [10:03<00:00, 11.39s/it]\n"
          ]
        },
        {
          "name": "stdout",
          "output_type": "stream",
          "text": [
            "Domain: photo | Zero-Shot Accuracy: 99.82%\n"
          ]
        },
        {
          "name": "stderr",
          "output_type": "stream",
          "text": [
            "100%|██████████| 123/123 [21:41<00:00, 10.58s/it]"
          ]
        },
        {
          "name": "stdout",
          "output_type": "stream",
          "text": [
            "Domain: sketch | Zero-Shot Accuracy: 84.42%\n"
          ]
        },
        {
          "name": "stderr",
          "output_type": "stream",
          "text": [
            "\n"
          ]
        }
      ],
      "source": [
        "accuracies = {}\n",
        "\n",
        "with torch.inference_mode():\n",
        "  for domain in domains:\n",
        "    correct, total = 0, 0\n",
        "    for imgs, labels in tqdm(dataloaders[domain]):\n",
        "      imgs, labels = imgs.to(device), labels.to(device)\n",
        "      text_embeds = text_embeds.to(device)\n",
        "      img_embeds = (model.get_image_features(imgs))\n",
        "      img_embeds /= img_embeds.norm(dim=-1, keepdim=True)\n",
        "      sim = img_embeds @ text_embeds.T\n",
        "      preds = sim.argmax(dim=-1)\n",
        "      correct += (preds == labels).sum().item()\n",
        "      total += len(labels)\n",
        "    acc = correct / total\n",
        "    accuracies[domain] = acc\n",
        "    print(f\"Domain: {domain} | Zero-Shot Accuracy: {(acc*100):.2f}%\")"
      ]
    },
    {
      "cell_type": "code",
      "execution_count": null,
      "metadata": {
        "colab": {
          "base_uri": "https://localhost:8080/"
        },
        "id": "NDwv4HT6ajLu",
        "outputId": "e78a2ab0-1f82-46e8-e84e-5c91a38d9bba"
      },
      "outputs": [
        {
          "name": "stdout",
          "output_type": "stream",
          "text": [
            "{'art_painting': 0.9560546875, 'cartoon': 0.9590443686006825, 'photo': 0.9982035928143712, 'sketch': 0.8442351743446169}\n"
          ]
        }
      ],
      "source": [
        "print(accuracies)"
      ]
    },
    {
      "cell_type": "code",
      "execution_count": null,
      "metadata": {
        "id": "njq1qEEeAt4z"
      },
      "outputs": [],
      "source": []
    },
    {
      "cell_type": "markdown",
      "metadata": {
        "id": "aEZUzm05fYfh"
      },
      "source": [
        "# 1. Fine Tuned CLIP Performance Evalutation\n",
        "\n",
        "\n"
      ]
    },
    {
      "cell_type": "code",
      "execution_count": null,
      "metadata": {
        "colab": {
          "base_uri": "https://localhost:8080/"
        },
        "id": "pFZdx1fAmZDF",
        "outputId": "730dd36e-1163-45c9-91ba-c707852a8c8e"
      },
      "outputs": [
        {
          "output_type": "stream",
          "name": "stderr",
          "text": [
            "100%|██████████| 4/4 [00:33<00:00,  8.45s/it]\n"
          ]
        }
      ],
      "source": [
        "image_embeddings = {}\n",
        "\n",
        "model.eval()\n",
        "\n",
        "with torch.inference_mode():\n",
        "  for domain in tqdm(domains):\n",
        "    img_embeds, img_labels = [], []\n",
        "    count = 0\n",
        "    for imgs, labels in dataloaders[domain]:\n",
        "      imgs = imgs.to(device, non_blocking=True)\n",
        "      labels = labels.to(device, non_blocking=True)\n",
        "      img_embed = model.get_image_features(imgs)\n",
        "      img_embed /= img_embed.norm(dim=-1, keepdim=True)\n",
        "      img_embeds.append(img_embed)\n",
        "      img_labels.append(labels)\n",
        "      count += 1\n",
        "    image_embeddings[domain] = (torch.cat(img_embeds), torch.cat(img_labels))"
      ]
    },
    {
      "cell_type": "code",
      "execution_count": null,
      "metadata": {
        "id": "kmQikia8geN5"
      },
      "outputs": [],
      "source": [
        "class LinearClassifier(nn.Module):\n",
        "  def __init__(self, feature_dim, num_classes):\n",
        "    super().__init__()\n",
        "\n",
        "    self.classifier = nn.Linear(feature_dim, num_classes)\n",
        "\n",
        "  def forward(self, x):\n",
        "    return self.classifier(x)"
      ]
    },
    {
      "cell_type": "code",
      "execution_count": null,
      "metadata": {
        "colab": {
          "base_uri": "https://localhost:8080/"
        },
        "id": "x6kVO32bpA9D",
        "outputId": "5627794c-5166-4c2a-c459-76062ddc357d"
      },
      "outputs": [
        {
          "name": "stdout",
          "output_type": "stream",
          "text": [
            "\n",
            "-------------------------------------------------------------\n",
            "Source Domains : ['cartoon', 'photo', 'sketch']\n",
            "Target Domain: art_painting\n",
            "\n",
            "Training Linear Classifier on Source Domains: \n",
            "\n",
            "Epoch: 1 | Loss on Source Data: 1.5324 | Accuracy on Source Data: 79.68%\n",
            "Epoch: 2 | Loss on Source Data: 0.9724 | Accuracy on Source Data: 91.20%\n",
            "Epoch: 3 | Loss on Source Data: 0.6693 | Accuracy on Source Data: 93.69%\n",
            "Epoch: 4 | Loss on Source Data: 0.5034 | Accuracy on Source Data: 94.23%\n",
            "Epoch: 5 | Loss on Source Data: 0.4038 | Accuracy on Source Data: 94.54%\n",
            "Epoch: 6 | Loss on Source Data: 0.3397 | Accuracy on Source Data: 94.71%\n",
            "Epoch: 7 | Loss on Source Data: 0.2960 | Accuracy on Source Data: 94.75%\n",
            "Epoch: 8 | Loss on Source Data: 0.2639 | Accuracy on Source Data: 94.86%\n",
            "Epoch: 9 | Loss on Source Data: 0.2402 | Accuracy on Source Data: 95.03%\n",
            "Epoch: 10 | Loss on Source Data: 0.2213 | Accuracy on Source Data: 95.13%\n",
            "\n",
            "Running Inference on Target Domain:\n",
            "Loss on Target Data: 0.3433 | Accuracy on Target Data: 95.12%\n",
            "\n",
            "-------------------------------------------------------------\n",
            "Source Domains : ['art_painting', 'photo', 'sketch']\n",
            "Target Domain: cartoon\n",
            "\n",
            "Training Linear Classifier on Source Domains: \n",
            "\n",
            "Epoch: 1 | Loss on Source Data: 1.5503 | Accuracy on Source Data: 80.75%\n",
            "Epoch: 2 | Loss on Source Data: 1.0147 | Accuracy on Source Data: 91.53%\n",
            "Epoch: 3 | Loss on Source Data: 0.7154 | Accuracy on Source Data: 92.48%\n",
            "Epoch: 4 | Loss on Source Data: 0.5460 | Accuracy on Source Data: 93.46%\n",
            "Epoch: 5 | Loss on Source Data: 0.4432 | Accuracy on Source Data: 93.70%\n",
            "Epoch: 6 | Loss on Source Data: 0.3755 | Accuracy on Source Data: 94.21%\n",
            "Epoch: 7 | Loss on Source Data: 0.3284 | Accuracy on Source Data: 94.35%\n",
            "Epoch: 8 | Loss on Source Data: 0.2938 | Accuracy on Source Data: 94.63%\n",
            "Epoch: 9 | Loss on Source Data: 0.2674 | Accuracy on Source Data: 94.81%\n",
            "Epoch: 10 | Loss on Source Data: 0.2470 | Accuracy on Source Data: 94.85%\n",
            "\n",
            "Running Inference on Target Domain:\n",
            "Loss on Target Data: 0.2704 | Accuracy on Target Data: 97.18%\n",
            "\n",
            "-------------------------------------------------------------\n",
            "Source Domains : ['art_painting', 'cartoon', 'sketch']\n",
            "Target Domain: photo\n",
            "\n",
            "Training Linear Classifier on Source Domains: \n",
            "\n",
            "Epoch: 1 | Loss on Source Data: 1.5470 | Accuracy on Source Data: 76.26%\n",
            "Epoch: 2 | Loss on Source Data: 1.0091 | Accuracy on Source Data: 91.80%\n",
            "Epoch: 3 | Loss on Source Data: 0.7111 | Accuracy on Source Data: 93.21%\n",
            "Epoch: 4 | Loss on Source Data: 0.5396 | Accuracy on Source Data: 93.71%\n",
            "Epoch: 5 | Loss on Source Data: 0.4364 | Accuracy on Source Data: 93.87%\n",
            "Epoch: 6 | Loss on Source Data: 0.3698 | Accuracy on Source Data: 94.03%\n",
            "Epoch: 7 | Loss on Source Data: 0.3265 | Accuracy on Source Data: 94.26%\n",
            "Epoch: 8 | Loss on Source Data: 0.2883 | Accuracy on Source Data: 94.47%\n",
            "Epoch: 9 | Loss on Source Data: 0.2632 | Accuracy on Source Data: 94.64%\n",
            "Epoch: 10 | Loss on Source Data: 0.2437 | Accuracy on Source Data: 94.74%\n",
            "\n",
            "Running Inference on Target Domain:\n",
            "Loss on Target Data: 0.1617 | Accuracy on Target Data: 99.70%\n",
            "\n",
            "-------------------------------------------------------------\n",
            "Source Domains : ['art_painting', 'cartoon', 'photo']\n",
            "Target Domain: sketch\n",
            "\n",
            "Training Linear Classifier on Source Domains: \n",
            "\n",
            "Epoch: 1 | Loss on Source Data: 1.6164 | Accuracy on Source Data: 85.19%\n",
            "Epoch: 2 | Loss on Source Data: 1.0973 | Accuracy on Source Data: 96.34%\n",
            "Epoch: 3 | Loss on Source Data: 0.7665 | Accuracy on Source Data: 97.08%\n",
            "Epoch: 4 | Loss on Source Data: 0.5626 | Accuracy on Source Data: 97.29%\n",
            "Epoch: 5 | Loss on Source Data: 0.4344 | Accuracy on Source Data: 97.49%\n",
            "Epoch: 6 | Loss on Source Data: 0.3494 | Accuracy on Source Data: 97.74%\n",
            "Epoch: 7 | Loss on Source Data: 0.2906 | Accuracy on Source Data: 97.90%\n",
            "Epoch: 8 | Loss on Source Data: 0.2476 | Accuracy on Source Data: 98.04%\n",
            "Epoch: 9 | Loss on Source Data: 0.2162 | Accuracy on Source Data: 98.14%\n",
            "Epoch: 10 | Loss on Source Data: 0.1902 | Accuracy on Source Data: 98.20%\n",
            "\n",
            "Running Inference on Target Domain:\n",
            "Loss on Target Data: 0.5231 | Accuracy on Target Data: 84.25%\n",
            "\n",
            "=== Summary ===\n",
            "art_painting: 0.951\n",
            "cartoon: 0.972\n",
            "photo: 0.997\n",
            "sketch: 0.842\n",
            "\n",
            "Mean accuracy: 0.941\n",
            "-------------------------------------------------------------\n"
          ]
        }
      ],
      "source": [
        "torch.cuda.manual_seed(42)\n",
        "torch.manual_seed(42)\n",
        "\n",
        "num_classes = 7\n",
        "num_epochs = 15\n",
        "\n",
        "results = {}\n",
        "\n",
        "for target_domain in domains:\n",
        "  source_domains = [d for d in domains if d != target_domain]\n",
        "\n",
        "  X_train = torch.cat([image_embeddings[d][0] for d in source_domains])\n",
        "  y_train = torch.cat([image_embeddings[d][1] for d in source_domains])\n",
        "  X_test = image_embeddings[target_domain][0]\n",
        "  y_test = image_embeddings[target_domain][1]\n",
        "\n",
        "  X_train, y_train, X_test, y_test = X_train.to(device), y_train.to(device), X_test.to(device), y_test.to(device)\n",
        "\n",
        "  train_dataset = TensorDataset(X_train, y_train)\n",
        "  test_dataset = TensorDataset(X_test, y_test)\n",
        "\n",
        "  feature_dim = list(image_embeddings.values())[0][0].shape[1]\n",
        "  classifier = LinearClassifier(feature_dim, num_classes).to(device)\n",
        "\n",
        "  train_loader = DataLoader(train_dataset, batch_size=32, shuffle=True)\n",
        "  test_loader = DataLoader(test_dataset, batch_size=32, shuffle=False)\n",
        "\n",
        "  loss_fn = nn.CrossEntropyLoss()\n",
        "  optimizer = torch.optim.Adam(classifier.parameters(), lr=1e-3)\n",
        "\n",
        "  print('\\n-------------------------------------------------------------')\n",
        "  print(f\"Source Domains : {source_domains}\")\n",
        "  print(f\"Target Domain: {target_domain}\")\n",
        "  print(\"\\nTraining Linear Classifier on Source Domains: \\n\")\n",
        "\n",
        "  for epoch in range(num_epochs):\n",
        "    classifier.train()\n",
        "    total_loss, total_correct, total = 0, 0, 0\n",
        "    for imgs, labels in train_loader:\n",
        "      optimizer.zero_grad()\n",
        "      imgs, labels = imgs.to(device), labels.to(device)\n",
        "      logits = classifier(imgs)\n",
        "      loss = loss_fn(logits, labels)\n",
        "      loss.backward()\n",
        "      optimizer.step()\n",
        "      total_loss += loss.item()\n",
        "      total_correct += (logits.argmax(dim=1) == labels).sum()\n",
        "      total += len(labels)\n",
        "\n",
        "    avg_loss = total_loss / len(train_loader)\n",
        "    acc = (total_correct / total).item()\n",
        "\n",
        "    print(f\"Epoch: {epoch+1} | Loss on Source Data: {avg_loss:.4f} | Accuracy on Source Data: {(acc*100):.2f}%\")\n",
        "\n",
        "  print(\"\\nRunning Inference on Target Domain:\")\n",
        "  classifier.eval()\n",
        "  with torch.inference_mode():\n",
        "    total_loss, total_correct, total = 0, 0, 0\n",
        "    for imgs, labels in test_loader:\n",
        "      logits = classifier(imgs)\n",
        "      loss = loss_fn(logits, labels)\n",
        "      total_loss += loss.item()\n",
        "      total_correct += (logits.argmax(dim=1) == labels).sum()\n",
        "      total += len(labels)\n",
        "\n",
        "    avg_loss = total_loss / len(test_loader)\n",
        "    acc = (total_correct / total).item()\n",
        "    results[target_domain] = acc\n",
        "\n",
        "    print(f\"Loss on Target Data: {avg_loss:.4f} | Accuracy on Target Data: {(acc*100):.2f}%\")\n",
        "print(\"\\n=== Summary ===\")\n",
        "for d, acc in results.items():\n",
        "    print(f\"{d}: {acc:.3f}\")\n",
        "print(f\"\\nMean accuracy: {sum(results.values()) / len(results):.3f}\")\n",
        "print('-------------------------------------------------------------')"
      ]
    },
    {
      "cell_type": "code",
      "source": [
        "torch.cuda.manual_seed(42)\n",
        "torch.manual_seed(42)\n",
        "\n",
        "num_classes = 7\n",
        "num_epochs = 50\n",
        "\n",
        "results = {}\n",
        "\n",
        "for target_domain in domains:\n",
        "  source_domains = [d for d in domains if d != target_domain]\n",
        "\n",
        "  X_train = torch.cat([image_embeddings[d][0] for d in source_domains])\n",
        "  y_train = torch.cat([image_embeddings[d][1] for d in source_domains])\n",
        "  X_test = image_embeddings[target_domain][0]\n",
        "  y_test = image_embeddings[target_domain][1]\n",
        "\n",
        "  X_train, y_train, X_test, y_test = X_train.to(device), y_train.to(device), X_test.to(device), y_test.to(device)\n",
        "\n",
        "  train_dataset = TensorDataset(X_train, y_train)\n",
        "  test_dataset = TensorDataset(X_test, y_test)\n",
        "\n",
        "  feature_dim = list(image_embeddings.values())[0][0].shape[1]\n",
        "  classifier = LinearClassifier(feature_dim, num_classes).to(device)\n",
        "\n",
        "  train_loader = DataLoader(train_dataset, batch_size=32, shuffle=True)\n",
        "  test_loader = DataLoader(test_dataset, batch_size=32, shuffle=False)\n",
        "\n",
        "  loss_fn = nn.CrossEntropyLoss()\n",
        "  optimizer = torch.optim.Adam(classifier.parameters(), lr=1e-3)\n",
        "\n",
        "  print('\\n-------------------------------------------------------------')\n",
        "  print(f\"Source Domains : {source_domains}\")\n",
        "  print(f\"Target Domain: {target_domain}\")\n",
        "  print(\"\\nTraining Linear Classifier on Source Domains: \\n\")\n",
        "\n",
        "  for epoch in range(num_epochs):\n",
        "    classifier.train()\n",
        "    total_loss, total_correct, total = 0, 0, 0\n",
        "    for imgs, labels in train_loader:\n",
        "      optimizer.zero_grad()\n",
        "      imgs, labels = imgs.to(device), labels.to(device)\n",
        "      logits = classifier(imgs)\n",
        "      loss = loss_fn(logits, labels)\n",
        "      loss.backward()\n",
        "      optimizer.step()\n",
        "      total_loss += loss.item()\n",
        "      total_correct += (logits.argmax(dim=1) == labels).sum()\n",
        "      total += len(labels)\n",
        "\n",
        "    avg_loss = total_loss / len(train_loader)\n",
        "    acc = (total_correct / total).item()\n",
        "\n",
        "    print(f\"Epoch: {epoch+1} | Loss on Source Data: {avg_loss:.4f} | Accuracy on Source Data: {(acc*100):.2f}%\")\n",
        "\n",
        "  print(\"\\nRunning Inference on Target Domain:\")\n",
        "  classifier.eval()\n",
        "  with torch.inference_mode():\n",
        "    total_loss, total_correct, total = 0, 0, 0\n",
        "    for imgs, labels in test_loader:\n",
        "      logits = classifier(imgs)\n",
        "      loss = loss_fn(logits, labels)\n",
        "      total_loss += loss.item()\n",
        "      total_correct += (logits.argmax(dim=1) == labels).sum()\n",
        "      total += len(labels)\n",
        "\n",
        "    avg_loss = total_loss / len(test_loader)\n",
        "    acc = (total_correct / total).item()\n",
        "    results[target_domain] = acc\n",
        "\n",
        "    print(f\"Loss on Target Data: {avg_loss:.4f} | Accuracy on Target Data: {(acc*100):.2f}%\")\n",
        "print(\"\\n=== Summary ===\")\n",
        "for d, acc in results.items():\n",
        "    print(f\"{d}: {acc:.3f}\")\n",
        "print(f\"\\nMean accuracy: {sum(results.values()) / len(results):.3f}\")\n",
        "print('-------------------------------------------------------------')"
      ],
      "metadata": {
        "colab": {
          "base_uri": "https://localhost:8080/"
        },
        "id": "QPPoFT7QBILS",
        "outputId": "f3945c01-70c2-418a-dd4d-956733419d6f"
      },
      "execution_count": null,
      "outputs": [
        {
          "output_type": "stream",
          "name": "stdout",
          "text": [
            "\n",
            "-------------------------------------------------------------\n",
            "Source Domains : ['cartoon', 'photo', 'sketch']\n",
            "Target Domain: art_painting\n",
            "\n",
            "Training Linear Classifier on Source Domains: \n",
            "\n",
            "Epoch: 1 | Loss on Source Data: 1.5324 | Accuracy on Source Data: 79.68%\n",
            "Epoch: 2 | Loss on Source Data: 0.9724 | Accuracy on Source Data: 91.20%\n",
            "Epoch: 3 | Loss on Source Data: 0.6693 | Accuracy on Source Data: 93.69%\n",
            "Epoch: 4 | Loss on Source Data: 0.5034 | Accuracy on Source Data: 94.23%\n",
            "Epoch: 5 | Loss on Source Data: 0.4038 | Accuracy on Source Data: 94.54%\n",
            "Epoch: 6 | Loss on Source Data: 0.3397 | Accuracy on Source Data: 94.71%\n",
            "Epoch: 7 | Loss on Source Data: 0.2960 | Accuracy on Source Data: 94.75%\n",
            "Epoch: 8 | Loss on Source Data: 0.2639 | Accuracy on Source Data: 94.86%\n",
            "Epoch: 9 | Loss on Source Data: 0.2402 | Accuracy on Source Data: 95.03%\n",
            "Epoch: 10 | Loss on Source Data: 0.2213 | Accuracy on Source Data: 95.13%\n",
            "Epoch: 11 | Loss on Source Data: 0.2066 | Accuracy on Source Data: 95.20%\n",
            "Epoch: 12 | Loss on Source Data: 0.1940 | Accuracy on Source Data: 95.44%\n",
            "Epoch: 13 | Loss on Source Data: 0.1840 | Accuracy on Source Data: 95.53%\n",
            "Epoch: 14 | Loss on Source Data: 0.1760 | Accuracy on Source Data: 95.56%\n",
            "Epoch: 15 | Loss on Source Data: 0.1683 | Accuracy on Source Data: 95.69%\n",
            "Epoch: 16 | Loss on Source Data: 0.1622 | Accuracy on Source Data: 95.78%\n",
            "Epoch: 17 | Loss on Source Data: 0.1565 | Accuracy on Source Data: 95.82%\n",
            "Epoch: 18 | Loss on Source Data: 0.1512 | Accuracy on Source Data: 96.08%\n",
            "Epoch: 19 | Loss on Source Data: 0.1470 | Accuracy on Source Data: 95.92%\n",
            "Epoch: 20 | Loss on Source Data: 0.1433 | Accuracy on Source Data: 96.15%\n",
            "Epoch: 21 | Loss on Source Data: 0.1395 | Accuracy on Source Data: 96.08%\n",
            "Epoch: 22 | Loss on Source Data: 0.1365 | Accuracy on Source Data: 96.15%\n",
            "Epoch: 23 | Loss on Source Data: 0.1339 | Accuracy on Source Data: 96.16%\n",
            "Epoch: 24 | Loss on Source Data: 0.1312 | Accuracy on Source Data: 96.26%\n",
            "Epoch: 25 | Loss on Source Data: 0.1285 | Accuracy on Source Data: 96.25%\n",
            "Epoch: 26 | Loss on Source Data: 0.1264 | Accuracy on Source Data: 96.27%\n",
            "Epoch: 27 | Loss on Source Data: 0.1247 | Accuracy on Source Data: 96.25%\n",
            "Epoch: 28 | Loss on Source Data: 0.1235 | Accuracy on Source Data: 96.25%\n",
            "Epoch: 29 | Loss on Source Data: 0.1205 | Accuracy on Source Data: 96.40%\n",
            "Epoch: 30 | Loss on Source Data: 0.1197 | Accuracy on Source Data: 96.50%\n",
            "Epoch: 31 | Loss on Source Data: 0.1176 | Accuracy on Source Data: 96.42%\n",
            "Epoch: 32 | Loss on Source Data: 0.1160 | Accuracy on Source Data: 96.53%\n",
            "Epoch: 33 | Loss on Source Data: 0.1145 | Accuracy on Source Data: 96.53%\n",
            "Epoch: 34 | Loss on Source Data: 0.1143 | Accuracy on Source Data: 96.55%\n",
            "Epoch: 35 | Loss on Source Data: 0.1118 | Accuracy on Source Data: 96.56%\n",
            "Epoch: 36 | Loss on Source Data: 0.1113 | Accuracy on Source Data: 96.58%\n",
            "Epoch: 37 | Loss on Source Data: 0.1098 | Accuracy on Source Data: 96.61%\n",
            "Epoch: 38 | Loss on Source Data: 0.1089 | Accuracy on Source Data: 96.64%\n",
            "Epoch: 39 | Loss on Source Data: 0.1090 | Accuracy on Source Data: 96.69%\n",
            "Epoch: 40 | Loss on Source Data: 0.1068 | Accuracy on Source Data: 96.73%\n",
            "Epoch: 41 | Loss on Source Data: 0.1064 | Accuracy on Source Data: 96.73%\n",
            "Epoch: 42 | Loss on Source Data: 0.1049 | Accuracy on Source Data: 96.71%\n",
            "Epoch: 43 | Loss on Source Data: 0.1043 | Accuracy on Source Data: 96.78%\n",
            "Epoch: 44 | Loss on Source Data: 0.1038 | Accuracy on Source Data: 96.74%\n",
            "Epoch: 45 | Loss on Source Data: 0.1025 | Accuracy on Source Data: 96.80%\n",
            "Epoch: 46 | Loss on Source Data: 0.1015 | Accuracy on Source Data: 96.83%\n",
            "Epoch: 47 | Loss on Source Data: 0.1009 | Accuracy on Source Data: 96.83%\n",
            "Epoch: 48 | Loss on Source Data: 0.1000 | Accuracy on Source Data: 96.87%\n",
            "Epoch: 49 | Loss on Source Data: 0.0996 | Accuracy on Source Data: 96.92%\n",
            "Epoch: 50 | Loss on Source Data: 0.0987 | Accuracy on Source Data: 96.90%\n",
            "\n",
            "Running Inference on Target Domain:\n",
            "Loss on Target Data: 0.1575 | Accuracy on Target Data: 95.65%\n",
            "\n",
            "-------------------------------------------------------------\n",
            "Source Domains : ['art_painting', 'photo', 'sketch']\n",
            "Target Domain: cartoon\n",
            "\n",
            "Training Linear Classifier on Source Domains: \n",
            "\n",
            "Epoch: 1 | Loss on Source Data: 1.5580 | Accuracy on Source Data: 77.77%\n",
            "Epoch: 2 | Loss on Source Data: 1.0201 | Accuracy on Source Data: 91.08%\n",
            "Epoch: 3 | Loss on Source Data: 0.7188 | Accuracy on Source Data: 92.48%\n",
            "Epoch: 4 | Loss on Source Data: 0.5484 | Accuracy on Source Data: 93.32%\n",
            "Epoch: 5 | Loss on Source Data: 0.4449 | Accuracy on Source Data: 93.84%\n",
            "Epoch: 6 | Loss on Source Data: 0.3769 | Accuracy on Source Data: 94.21%\n",
            "Epoch: 7 | Loss on Source Data: 0.3295 | Accuracy on Source Data: 94.36%\n",
            "Epoch: 8 | Loss on Source Data: 0.2948 | Accuracy on Source Data: 94.49%\n",
            "Epoch: 9 | Loss on Source Data: 0.2685 | Accuracy on Source Data: 94.72%\n",
            "Epoch: 10 | Loss on Source Data: 0.2479 | Accuracy on Source Data: 94.78%\n",
            "Epoch: 11 | Loss on Source Data: 0.2312 | Accuracy on Source Data: 94.93%\n",
            "Epoch: 12 | Loss on Source Data: 0.2176 | Accuracy on Source Data: 94.94%\n",
            "Epoch: 13 | Loss on Source Data: 0.2062 | Accuracy on Source Data: 95.06%\n",
            "Epoch: 14 | Loss on Source Data: 0.1966 | Accuracy on Source Data: 95.19%\n",
            "Epoch: 15 | Loss on Source Data: 0.1883 | Accuracy on Source Data: 95.24%\n",
            "Epoch: 16 | Loss on Source Data: 0.1812 | Accuracy on Source Data: 95.34%\n",
            "Epoch: 17 | Loss on Source Data: 0.1749 | Accuracy on Source Data: 95.42%\n",
            "Epoch: 18 | Loss on Source Data: 0.1693 | Accuracy on Source Data: 95.48%\n",
            "Epoch: 19 | Loss on Source Data: 0.1645 | Accuracy on Source Data: 95.63%\n",
            "Epoch: 20 | Loss on Source Data: 0.1601 | Accuracy on Source Data: 95.66%\n",
            "Epoch: 21 | Loss on Source Data: 0.1561 | Accuracy on Source Data: 95.67%\n",
            "Epoch: 22 | Loss on Source Data: 0.1526 | Accuracy on Source Data: 95.72%\n",
            "Epoch: 23 | Loss on Source Data: 0.1494 | Accuracy on Source Data: 95.72%\n",
            "Epoch: 24 | Loss on Source Data: 0.1463 | Accuracy on Source Data: 95.75%\n",
            "Epoch: 25 | Loss on Source Data: 0.1437 | Accuracy on Source Data: 95.83%\n",
            "Epoch: 26 | Loss on Source Data: 0.1411 | Accuracy on Source Data: 95.89%\n",
            "Epoch: 27 | Loss on Source Data: 0.1387 | Accuracy on Source Data: 95.92%\n",
            "Epoch: 28 | Loss on Source Data: 0.1367 | Accuracy on Source Data: 95.89%\n",
            "Epoch: 29 | Loss on Source Data: 0.1346 | Accuracy on Source Data: 95.96%\n",
            "Epoch: 30 | Loss on Source Data: 0.1327 | Accuracy on Source Data: 96.06%\n",
            "Epoch: 31 | Loss on Source Data: 0.1310 | Accuracy on Source Data: 96.01%\n",
            "Epoch: 32 | Loss on Source Data: 0.1293 | Accuracy on Source Data: 96.08%\n",
            "Epoch: 33 | Loss on Source Data: 0.1277 | Accuracy on Source Data: 96.13%\n",
            "Epoch: 34 | Loss on Source Data: 0.1263 | Accuracy on Source Data: 96.19%\n",
            "Epoch: 35 | Loss on Source Data: 0.1250 | Accuracy on Source Data: 96.17%\n",
            "Epoch: 36 | Loss on Source Data: 0.1236 | Accuracy on Source Data: 96.12%\n",
            "Epoch: 37 | Loss on Source Data: 0.1223 | Accuracy on Source Data: 96.25%\n",
            "Epoch: 38 | Loss on Source Data: 0.1212 | Accuracy on Source Data: 96.23%\n",
            "Epoch: 39 | Loss on Source Data: 0.1200 | Accuracy on Source Data: 96.29%\n",
            "Epoch: 40 | Loss on Source Data: 0.1188 | Accuracy on Source Data: 96.30%\n",
            "Epoch: 41 | Loss on Source Data: 0.1179 | Accuracy on Source Data: 96.31%\n",
            "Epoch: 42 | Loss on Source Data: 0.1169 | Accuracy on Source Data: 96.38%\n",
            "Epoch: 43 | Loss on Source Data: 0.1160 | Accuracy on Source Data: 96.47%\n",
            "Epoch: 44 | Loss on Source Data: 0.1150 | Accuracy on Source Data: 96.47%\n",
            "Epoch: 45 | Loss on Source Data: 0.1141 | Accuracy on Source Data: 96.55%\n",
            "Epoch: 46 | Loss on Source Data: 0.1133 | Accuracy on Source Data: 96.51%\n",
            "Epoch: 47 | Loss on Source Data: 0.1123 | Accuracy on Source Data: 96.55%\n",
            "Epoch: 48 | Loss on Source Data: 0.1117 | Accuracy on Source Data: 96.55%\n",
            "Epoch: 49 | Loss on Source Data: 0.1109 | Accuracy on Source Data: 96.63%\n",
            "Epoch: 50 | Loss on Source Data: 0.1101 | Accuracy on Source Data: 96.65%\n",
            "\n",
            "Running Inference on Target Domain:\n",
            "Loss on Target Data: 0.1204 | Accuracy on Target Data: 97.01%\n",
            "\n",
            "-------------------------------------------------------------\n",
            "Source Domains : ['art_painting', 'cartoon', 'sketch']\n",
            "Target Domain: photo\n",
            "\n",
            "Training Linear Classifier on Source Domains: \n",
            "\n",
            "Epoch: 1 | Loss on Source Data: 1.5461 | Accuracy on Source Data: 77.66%\n",
            "Epoch: 2 | Loss on Source Data: 1.0136 | Accuracy on Source Data: 91.77%\n",
            "Epoch: 3 | Loss on Source Data: 0.7160 | Accuracy on Source Data: 93.16%\n",
            "Epoch: 4 | Loss on Source Data: 0.5430 | Accuracy on Source Data: 93.62%\n",
            "Epoch: 5 | Loss on Source Data: 0.4399 | Accuracy on Source Data: 93.86%\n",
            "Epoch: 6 | Loss on Source Data: 0.3717 | Accuracy on Source Data: 94.04%\n",
            "Epoch: 7 | Loss on Source Data: 0.3290 | Accuracy on Source Data: 94.24%\n",
            "Epoch: 8 | Loss on Source Data: 0.2911 | Accuracy on Source Data: 94.26%\n",
            "Epoch: 9 | Loss on Source Data: 0.2650 | Accuracy on Source Data: 94.54%\n",
            "Epoch: 10 | Loss on Source Data: 0.2445 | Accuracy on Source Data: 94.65%\n",
            "Epoch: 11 | Loss on Source Data: 0.2282 | Accuracy on Source Data: 94.82%\n",
            "Epoch: 12 | Loss on Source Data: 0.2148 | Accuracy on Source Data: 94.95%\n",
            "Epoch: 13 | Loss on Source Data: 0.2039 | Accuracy on Source Data: 95.10%\n",
            "Epoch: 14 | Loss on Source Data: 0.1959 | Accuracy on Source Data: 95.28%\n",
            "Epoch: 15 | Loss on Source Data: 0.1873 | Accuracy on Source Data: 95.34%\n",
            "Epoch: 16 | Loss on Source Data: 0.1791 | Accuracy on Source Data: 95.34%\n",
            "Epoch: 17 | Loss on Source Data: 0.1730 | Accuracy on Source Data: 95.43%\n",
            "Epoch: 18 | Loss on Source Data: 0.1677 | Accuracy on Source Data: 95.53%\n",
            "Epoch: 19 | Loss on Source Data: 0.1629 | Accuracy on Source Data: 95.64%\n",
            "Epoch: 20 | Loss on Source Data: 0.1591 | Accuracy on Source Data: 95.66%\n",
            "Epoch: 21 | Loss on Source Data: 0.1547 | Accuracy on Source Data: 95.77%\n",
            "Epoch: 22 | Loss on Source Data: 0.1511 | Accuracy on Source Data: 95.77%\n",
            "Epoch: 23 | Loss on Source Data: 0.1480 | Accuracy on Source Data: 95.93%\n",
            "Epoch: 24 | Loss on Source Data: 0.1450 | Accuracy on Source Data: 95.90%\n",
            "Epoch: 25 | Loss on Source Data: 0.1426 | Accuracy on Source Data: 95.85%\n",
            "Epoch: 26 | Loss on Source Data: 0.1400 | Accuracy on Source Data: 96.00%\n",
            "Epoch: 27 | Loss on Source Data: 0.1377 | Accuracy on Source Data: 96.00%\n",
            "Epoch: 28 | Loss on Source Data: 0.1359 | Accuracy on Source Data: 96.01%\n",
            "Epoch: 29 | Loss on Source Data: 0.1336 | Accuracy on Source Data: 95.99%\n",
            "Epoch: 30 | Loss on Source Data: 0.1317 | Accuracy on Source Data: 96.06%\n",
            "Epoch: 31 | Loss on Source Data: 0.1300 | Accuracy on Source Data: 96.09%\n",
            "Epoch: 32 | Loss on Source Data: 0.1284 | Accuracy on Source Data: 96.14%\n",
            "Epoch: 33 | Loss on Source Data: 0.1268 | Accuracy on Source Data: 96.25%\n",
            "Epoch: 34 | Loss on Source Data: 0.1254 | Accuracy on Source Data: 96.13%\n",
            "Epoch: 35 | Loss on Source Data: 0.1241 | Accuracy on Source Data: 96.23%\n",
            "Epoch: 36 | Loss on Source Data: 0.1226 | Accuracy on Source Data: 96.29%\n",
            "Epoch: 37 | Loss on Source Data: 0.1212 | Accuracy on Source Data: 96.30%\n",
            "Epoch: 38 | Loss on Source Data: 0.1200 | Accuracy on Source Data: 96.35%\n",
            "Epoch: 39 | Loss on Source Data: 0.1189 | Accuracy on Source Data: 96.39%\n",
            "Epoch: 40 | Loss on Source Data: 0.1179 | Accuracy on Source Data: 96.42%\n",
            "Epoch: 41 | Loss on Source Data: 0.1169 | Accuracy on Source Data: 96.45%\n",
            "Epoch: 42 | Loss on Source Data: 0.1157 | Accuracy on Source Data: 96.50%\n",
            "Epoch: 43 | Loss on Source Data: 0.1149 | Accuracy on Source Data: 96.57%\n",
            "Epoch: 44 | Loss on Source Data: 0.1139 | Accuracy on Source Data: 96.54%\n",
            "Epoch: 45 | Loss on Source Data: 0.1130 | Accuracy on Source Data: 96.56%\n",
            "Epoch: 46 | Loss on Source Data: 0.1122 | Accuracy on Source Data: 96.57%\n",
            "Epoch: 47 | Loss on Source Data: 0.1113 | Accuracy on Source Data: 96.65%\n",
            "Epoch: 48 | Loss on Source Data: 0.1104 | Accuracy on Source Data: 96.60%\n",
            "Epoch: 49 | Loss on Source Data: 0.1097 | Accuracy on Source Data: 96.64%\n",
            "Epoch: 50 | Loss on Source Data: 0.1098 | Accuracy on Source Data: 96.66%\n",
            "\n",
            "Running Inference on Target Domain:\n",
            "Loss on Target Data: 0.0323 | Accuracy on Target Data: 99.64%\n",
            "\n",
            "-------------------------------------------------------------\n",
            "Source Domains : ['art_painting', 'cartoon', 'photo']\n",
            "Target Domain: sketch\n",
            "\n",
            "Training Linear Classifier on Source Domains: \n",
            "\n",
            "Epoch: 1 | Loss on Source Data: 1.6074 | Accuracy on Source Data: 83.50%\n",
            "Epoch: 2 | Loss on Source Data: 1.0913 | Accuracy on Source Data: 96.27%\n",
            "Epoch: 3 | Loss on Source Data: 0.7631 | Accuracy on Source Data: 97.05%\n",
            "Epoch: 4 | Loss on Source Data: 0.5609 | Accuracy on Source Data: 97.44%\n",
            "Epoch: 5 | Loss on Source Data: 0.4334 | Accuracy on Source Data: 97.51%\n",
            "Epoch: 6 | Loss on Source Data: 0.3484 | Accuracy on Source Data: 97.82%\n",
            "Epoch: 7 | Loss on Source Data: 0.2904 | Accuracy on Source Data: 97.84%\n",
            "Epoch: 8 | Loss on Source Data: 0.2470 | Accuracy on Source Data: 98.02%\n",
            "Epoch: 9 | Loss on Source Data: 0.2147 | Accuracy on Source Data: 98.10%\n",
            "Epoch: 10 | Loss on Source Data: 0.1897 | Accuracy on Source Data: 98.22%\n",
            "Epoch: 11 | Loss on Source Data: 0.1697 | Accuracy on Source Data: 98.23%\n",
            "Epoch: 12 | Loss on Source Data: 0.1535 | Accuracy on Source Data: 98.25%\n",
            "Epoch: 13 | Loss on Source Data: 0.1401 | Accuracy on Source Data: 98.32%\n",
            "Epoch: 14 | Loss on Source Data: 0.1286 | Accuracy on Source Data: 98.42%\n",
            "Epoch: 15 | Loss on Source Data: 0.1189 | Accuracy on Source Data: 98.45%\n",
            "Epoch: 16 | Loss on Source Data: 0.1105 | Accuracy on Source Data: 98.48%\n",
            "Epoch: 17 | Loss on Source Data: 0.1033 | Accuracy on Source Data: 98.52%\n",
            "Epoch: 18 | Loss on Source Data: 0.0967 | Accuracy on Source Data: 98.53%\n",
            "Epoch: 19 | Loss on Source Data: 0.0910 | Accuracy on Source Data: 98.58%\n",
            "Epoch: 20 | Loss on Source Data: 0.0861 | Accuracy on Source Data: 98.68%\n",
            "Epoch: 21 | Loss on Source Data: 0.0820 | Accuracy on Source Data: 98.71%\n",
            "Epoch: 22 | Loss on Source Data: 0.0777 | Accuracy on Source Data: 98.78%\n",
            "Epoch: 23 | Loss on Source Data: 0.0735 | Accuracy on Source Data: 98.83%\n",
            "Epoch: 24 | Loss on Source Data: 0.0701 | Accuracy on Source Data: 98.85%\n",
            "Epoch: 25 | Loss on Source Data: 0.0669 | Accuracy on Source Data: 98.86%\n",
            "Epoch: 26 | Loss on Source Data: 0.0643 | Accuracy on Source Data: 98.89%\n",
            "Epoch: 27 | Loss on Source Data: 0.0615 | Accuracy on Source Data: 98.93%\n",
            "Epoch: 28 | Loss on Source Data: 0.0590 | Accuracy on Source Data: 98.96%\n",
            "Epoch: 29 | Loss on Source Data: 0.0568 | Accuracy on Source Data: 98.99%\n",
            "Epoch: 30 | Loss on Source Data: 0.0548 | Accuracy on Source Data: 98.98%\n",
            "Epoch: 31 | Loss on Source Data: 0.0528 | Accuracy on Source Data: 99.06%\n",
            "Epoch: 32 | Loss on Source Data: 0.0510 | Accuracy on Source Data: 99.08%\n",
            "Epoch: 33 | Loss on Source Data: 0.0498 | Accuracy on Source Data: 99.13%\n",
            "Epoch: 34 | Loss on Source Data: 0.0477 | Accuracy on Source Data: 99.13%\n",
            "Epoch: 35 | Loss on Source Data: 0.0462 | Accuracy on Source Data: 99.13%\n",
            "Epoch: 36 | Loss on Source Data: 0.0448 | Accuracy on Source Data: 99.16%\n",
            "Epoch: 37 | Loss on Source Data: 0.0435 | Accuracy on Source Data: 99.21%\n",
            "Epoch: 38 | Loss on Source Data: 0.0422 | Accuracy on Source Data: 99.24%\n",
            "Epoch: 39 | Loss on Source Data: 0.0410 | Accuracy on Source Data: 99.24%\n",
            "Epoch: 40 | Loss on Source Data: 0.0400 | Accuracy on Source Data: 99.24%\n",
            "Epoch: 41 | Loss on Source Data: 0.0388 | Accuracy on Source Data: 99.27%\n",
            "Epoch: 42 | Loss on Source Data: 0.0378 | Accuracy on Source Data: 99.32%\n",
            "Epoch: 43 | Loss on Source Data: 0.0373 | Accuracy on Source Data: 99.31%\n",
            "Epoch: 44 | Loss on Source Data: 0.0360 | Accuracy on Source Data: 99.26%\n",
            "Epoch: 45 | Loss on Source Data: 0.0351 | Accuracy on Source Data: 99.36%\n",
            "Epoch: 46 | Loss on Source Data: 0.0344 | Accuracy on Source Data: 99.32%\n",
            "Epoch: 47 | Loss on Source Data: 0.0335 | Accuracy on Source Data: 99.34%\n",
            "Epoch: 48 | Loss on Source Data: 0.0328 | Accuracy on Source Data: 99.39%\n",
            "Epoch: 49 | Loss on Source Data: 0.0320 | Accuracy on Source Data: 99.46%\n",
            "Epoch: 50 | Loss on Source Data: 0.0315 | Accuracy on Source Data: 99.41%\n",
            "\n",
            "Running Inference on Target Domain:\n",
            "Loss on Target Data: 0.4647 | Accuracy on Target Data: 84.30%\n",
            "\n",
            "=== Summary ===\n",
            "art_painting: 0.957\n",
            "cartoon: 0.970\n",
            "photo: 0.996\n",
            "sketch: 0.843\n",
            "\n",
            "Mean accuracy: 0.942\n",
            "-------------------------------------------------------------\n"
          ]
        }
      ]
    },
    {
      "cell_type": "code",
      "execution_count": null,
      "metadata": {
        "colab": {
          "base_uri": "https://localhost:8080/"
        },
        "id": "fAEYMMFnfHph",
        "outputId": "1b6606d2-c6c8-4359-d2df-5afbcf1d139a"
      },
      "outputs": [
        {
          "name": "stdout",
          "output_type": "stream",
          "text": [
            "{'art_painting': 0.951171875, 'cartoon': 0.9718429446220398, 'photo': 0.9970059990882874, 'sketch': 0.8424535393714905}\n"
          ]
        }
      ],
      "source": [
        "print(results)"
      ]
    },
    {
      "cell_type": "markdown",
      "metadata": {
        "id": "kOn2y723L3MD"
      },
      "source": [
        "# 2. Prompt Tuning for Domain Adaptation"
      ]
    },
    {
      "cell_type": "code",
      "execution_count": null,
      "metadata": {
        "id": "u-DZnxDxL-OD"
      },
      "outputs": [],
      "source": [
        "torch.cuda.manual_seed(42)\n",
        "torch.manual_seed(42)\n",
        "\n",
        "class LearnablePrompts(nn.Module):\n",
        "  def __init__(self, n_ctx, ctx_dim):\n",
        "    super().__init__()\n",
        "    self.prompts = nn.Parameter(\n",
        "        torch.randn(n_ctx, ctx_dim, device=model.device, requires_grad=True)\n",
        "        )\n",
        "\n",
        "def create_text_features(clip_model, processor, classnames, learnable_prompts):\n",
        "    device = learnable_prompts.prompts.device\n",
        "    ctx = learnable_prompts.prompts  # (n_ctx, ctx_dim)\n",
        "    num_classes = len(classnames)\n",
        "    n_ctx = ctx.size(0)\n",
        "\n",
        "    # Tokenize normally\n",
        "    tokens = processor(text=classnames, return_tensors=\"pt\", padding=True, truncation=True).to(device)\n",
        "    token_embeds = clip_model.text_model.embeddings.token_embedding(tokens.input_ids)\n",
        "\n",
        "    # Insert learnable prompts after the SOS token\n",
        "    sos = token_embeds[:, :1, :]\n",
        "    rest = token_embeds[:, 1:, :]\n",
        "    prompt_ctx = ctx.unsqueeze(0).expand(num_classes, -1, -1)\n",
        "    new_embeds = torch.cat([sos, prompt_ctx, rest], dim=1)\n",
        "\n",
        "    # Adjust positional embeddings\n",
        "    pos_embeds = clip_model.text_model.embeddings.position_embedding(\n",
        "        torch.arange(new_embeds.size(1), device=device).unsqueeze(0)\n",
        "    )\n",
        "    final_embeds = new_embeds + pos_embeds\n",
        "\n",
        "    # Adjust attention mask (and convert to bool)\n",
        "    prompt_mask = torch.ones((num_classes, n_ctx), dtype=torch.bool, device=device)\n",
        "    attention_mask = torch.cat(\n",
        "        [tokens.attention_mask[:, :1].bool(), prompt_mask, tokens.attention_mask[:, 1:].bool()],\n",
        "        dim=1\n",
        "    )\n",
        "    attention_mask = attention_mask[:, None, None, :]\n",
        "\n",
        "    # Run through encoder\n",
        "    encoder_out = clip_model.text_model.encoder(inputs_embeds=final_embeds, attention_mask=attention_mask)\n",
        "    hidden = encoder_out.last_hidden_state\n",
        "    hidden = clip_model.text_model.final_layer_norm(hidden)\n",
        "\n",
        "    # Use EOS position adjusted for new tokens\n",
        "    eos_idx = attention_mask.squeeze().sum(dim=1) - 1  # ensures shape [num_classes]\n",
        "    text_embeds = hidden[torch.arange(num_classes, device=device), eos_idx]\n",
        "    text_features = clip_model.text_projection(text_embeds)\n",
        "    text_features = text_features / text_features.norm(dim=-1, keepdim=True)\n",
        "\n",
        "    return text_features\n",
        "\n",
        "\n",
        "def source_loss_fn(img_feats, text_feats, labels):\n",
        "    logits = img_feats @ text_feats.T\n",
        "    return F.cross_entropy(logits, labels)\n",
        "\n",
        "def entropy_minimization_loss(logits):\n",
        "  probs = F.softmax(logits, dim=1)\n",
        "  entropy = -torch.sum(probs * torch.log(probs + 1e-6), dim=1)\n",
        "  return entropy.mean()\n",
        "\n",
        "def target_loss_fn(src_img_feats, tgt_img_feats):\n",
        "    # Align mean image features between domains\n",
        "    loss = 1 - F.cosine_similarity(\n",
        "        src_img_feats.mean(0, keepdim=True),\n",
        "        tgt_img_feats.mean(0, keepdim=True)\n",
        "    ).mean()\n",
        "    return loss\n",
        "\n",
        "\n",
        "class_names = ['dog', 'elephant', 'giraffe', 'guitar', 'horse', 'house', 'person']"
      ]
    },
    {
      "cell_type": "code",
      "execution_count": null,
      "metadata": {
        "id": "QyINN66XTM1_"
      },
      "outputs": [],
      "source": [
        "def train_prompt_tuning(clip_model, processor, source_loader, target_loader, classnames, target_loss_fn=target_loss_fn, source_loss_fn=source_loss_fn,\n",
        "                        n_ctx=10, ctx_dim=512, epochs=20, lr=1e-3):\n",
        "\n",
        "    device = next(clip_model.parameters()).device\n",
        "    learnable_prompts = LearnablePrompts(n_ctx, ctx_dim)\n",
        "    optimizer = torch.optim.Adam(learnable_prompts.parameters(), lr=lr)\n",
        "\n",
        "    clip_model.eval()\n",
        "    target_iter = iter(target_loader)\n",
        "\n",
        "    for epoch in range(epochs):\n",
        "        learnable_prompts.train()\n",
        "        total_loss, total_correct, total = 0, 0, 0\n",
        "\n",
        "        for src_imgs, src_labels in tqdm(source_loader, desc=f\"Epoch {epoch+1}/{epochs}\"):\n",
        "\n",
        "            try:\n",
        "                tgt_imgs, tgt_labels = next(target_iter)\n",
        "            except StopIteration:\n",
        "                target_iter = iter(target_loader)\n",
        "                tgt_imgs, tgt_labels = next(target_iter)\n",
        "\n",
        "            src_imgs, src_labels, tgt_imgs = src_imgs.to(device), src_labels.to(device), tgt_imgs.to(device)\n",
        "            tgt_labels = tgt_labels.to(device)\n",
        "\n",
        "            src_img_feats = clip_model.get_image_features(src_imgs)\n",
        "            src_img_feats = src_img_feats / src_img_feats.norm(dim=-1, keepdim=True)\n",
        "\n",
        "            tgt_img_feats = clip_model.get_image_features(tgt_imgs)\n",
        "            tgt_img_feats = tgt_img_feats / tgt_img_feats.norm(dim=-1, keepdim=True)\n",
        "\n",
        "            text_features = create_text_features(clip_model, processor, classnames, learnable_prompts)\n",
        "\n",
        "            tgt_logits = tgt_img_feats @ text_features.T\n",
        "            tgt_preds = tgt_logits.argmax(dim=1)\n",
        "            total_correct += (tgt_preds==tgt_labels).sum().item()\n",
        "            total += tgt_labels.size(0)\n",
        "\n",
        "            src_loss = source_loss_fn(src_img_feats, text_features, src_labels)\n",
        "\n",
        "            tgt_loss = target_loss_fn(tgt_logits)\n",
        "            loss = src_loss + 0.3 * tgt_loss\n",
        "\n",
        "            optimizer.zero_grad()\n",
        "            loss.backward()\n",
        "            optimizer.step()\n",
        "            total_loss += loss.item()\n",
        "\n",
        "        tgt_acc = total_correct / total\n",
        "        print(f\"Epoch [{epoch+1}/{epochs}] | Loss: {total_loss/len(source_loader):.4f} | Target Accuracy: {(tgt_acc*100):.3f}%\")\n",
        "\n",
        "    return learnable_prompts\n"
      ]
    },
    {
      "cell_type": "code",
      "execution_count": null,
      "metadata": {
        "id": "UUS-TrDcTcob"
      },
      "outputs": [],
      "source": [
        "def evaluate(clip_model, processor, data_loader, classnames, learnable_prompts):\n",
        "    device = next(clip_model.parameters()).device\n",
        "    clip_model.eval()\n",
        "    correct, total = 0, 0\n",
        "\n",
        "    with torch.no_grad():\n",
        "        text_features = create_text_features(clip_model, processor, classnames, learnable_prompts)\n",
        "        for imgs, labels in tqdm(data_loader):\n",
        "            imgs, labels = imgs.to(device), labels.to(device)\n",
        "\n",
        "            # --- FIXED: compute embeddings before similarity ---\n",
        "            img_feats = clip_model.get_image_features(imgs)\n",
        "            img_feats = img_feats / img_feats.norm(dim=-1, keepdim=True)\n",
        "            # ---------------------------------------------------\n",
        "\n",
        "            logits = img_feats @ text_features.T\n",
        "            preds = logits.argmax(dim=1)\n",
        "\n",
        "            correct += (preds == labels).sum().item()\n",
        "            total += labels.size(0)\n",
        "\n",
        "    acc = 100 * correct / total\n",
        "    print(f\"\\nEvaluation Accuracy on target domain: {acc:.2f}%\")\n",
        "    return acc\n"
      ]
    },
    {
      "cell_type": "code",
      "execution_count": null,
      "metadata": {
        "colab": {
          "base_uri": "https://localhost:8080/"
        },
        "id": "QnOGEEBaPqm9",
        "outputId": "88226909-61af-4a55-f511-1b637eb3388c"
      },
      "outputs": [
        {
          "name": "stderr",
          "output_type": "stream",
          "text": [
            "Epoch 1/20: 100%|██████████| 53/53 [00:36<00:00,  1.44it/s]\n"
          ]
        },
        {
          "name": "stdout",
          "output_type": "stream",
          "text": [
            "Epoch [1/20] | Loss: 1.9167 | Target Accuracy: 79.245%\n"
          ]
        },
        {
          "name": "stderr",
          "output_type": "stream",
          "text": [
            "Epoch 2/20: 100%|██████████| 53/53 [00:31<00:00,  1.67it/s]\n"
          ]
        },
        {
          "name": "stdout",
          "output_type": "stream",
          "text": [
            "Epoch [2/20] | Loss: 1.8964 | Target Accuracy: 84.198%\n"
          ]
        },
        {
          "name": "stderr",
          "output_type": "stream",
          "text": [
            "Epoch 3/20: 100%|██████████| 53/53 [00:32<00:00,  1.64it/s]\n"
          ]
        },
        {
          "name": "stdout",
          "output_type": "stream",
          "text": [
            "Epoch [3/20] | Loss: 1.8724 | Target Accuracy: 82.712%\n"
          ]
        },
        {
          "name": "stderr",
          "output_type": "stream",
          "text": [
            "Epoch 4/20: 100%|██████████| 53/53 [00:33<00:00,  1.60it/s]\n"
          ]
        },
        {
          "name": "stdout",
          "output_type": "stream",
          "text": [
            "Epoch [4/20] | Loss: 1.8496 | Target Accuracy: 82.017%\n"
          ]
        },
        {
          "name": "stderr",
          "output_type": "stream",
          "text": [
            "Epoch 5/20: 100%|██████████| 53/53 [00:32<00:00,  1.62it/s]\n"
          ]
        },
        {
          "name": "stdout",
          "output_type": "stream",
          "text": [
            "Epoch [5/20] | Loss: 1.8302 | Target Accuracy: 82.771%\n"
          ]
        },
        {
          "name": "stderr",
          "output_type": "stream",
          "text": [
            "Epoch 6/20: 100%|██████████| 53/53 [00:32<00:00,  1.65it/s]\n"
          ]
        },
        {
          "name": "stdout",
          "output_type": "stream",
          "text": [
            "Epoch [6/20] | Loss: 1.8149 | Target Accuracy: 84.493%\n"
          ]
        },
        {
          "name": "stderr",
          "output_type": "stream",
          "text": [
            "Epoch 7/20: 100%|██████████| 53/53 [00:32<00:00,  1.64it/s]\n"
          ]
        },
        {
          "name": "stdout",
          "output_type": "stream",
          "text": [
            "Epoch [7/20] | Loss: 1.8017 | Target Accuracy: 87.152%\n"
          ]
        },
        {
          "name": "stderr",
          "output_type": "stream",
          "text": [
            "Epoch 8/20: 100%|██████████| 53/53 [00:31<00:00,  1.66it/s]\n"
          ]
        },
        {
          "name": "stdout",
          "output_type": "stream",
          "text": [
            "Epoch [8/20] | Loss: 1.7904 | Target Accuracy: 85.554%\n"
          ]
        },
        {
          "name": "stderr",
          "output_type": "stream",
          "text": [
            "Epoch 9/20: 100%|██████████| 53/53 [00:32<00:00,  1.65it/s]\n"
          ]
        },
        {
          "name": "stdout",
          "output_type": "stream",
          "text": [
            "Epoch [9/20] | Loss: 1.7798 | Target Accuracy: 86.616%\n"
          ]
        },
        {
          "name": "stderr",
          "output_type": "stream",
          "text": [
            "Epoch 10/20: 100%|██████████| 53/53 [00:32<00:00,  1.63it/s]\n"
          ]
        },
        {
          "name": "stdout",
          "output_type": "stream",
          "text": [
            "Epoch [10/20] | Loss: 1.7699 | Target Accuracy: 87.211%\n"
          ]
        },
        {
          "name": "stderr",
          "output_type": "stream",
          "text": [
            "Epoch 11/20: 100%|██████████| 53/53 [00:32<00:00,  1.66it/s]\n"
          ]
        },
        {
          "name": "stdout",
          "output_type": "stream",
          "text": [
            "Epoch [11/20] | Loss: 1.7603 | Target Accuracy: 85.142%\n"
          ]
        },
        {
          "name": "stderr",
          "output_type": "stream",
          "text": [
            "Epoch 12/20: 100%|██████████| 53/53 [00:32<00:00,  1.65it/s]\n"
          ]
        },
        {
          "name": "stdout",
          "output_type": "stream",
          "text": [
            "Epoch [12/20] | Loss: 1.7527 | Target Accuracy: 85.317%\n"
          ]
        },
        {
          "name": "stderr",
          "output_type": "stream",
          "text": [
            "Epoch 13/20: 100%|██████████| 53/53 [00:32<00:00,  1.65it/s]\n"
          ]
        },
        {
          "name": "stdout",
          "output_type": "stream",
          "text": [
            "Epoch [13/20] | Loss: 1.7447 | Target Accuracy: 86.616%\n"
          ]
        },
        {
          "name": "stderr",
          "output_type": "stream",
          "text": [
            "Epoch 14/20: 100%|██████████| 53/53 [00:33<00:00,  1.60it/s]\n"
          ]
        },
        {
          "name": "stdout",
          "output_type": "stream",
          "text": [
            "Epoch [14/20] | Loss: 1.7379 | Target Accuracy: 86.264%\n"
          ]
        },
        {
          "name": "stderr",
          "output_type": "stream",
          "text": [
            "Epoch 15/20: 100%|██████████| 53/53 [00:32<00:00,  1.66it/s]\n"
          ]
        },
        {
          "name": "stdout",
          "output_type": "stream",
          "text": [
            "Epoch [15/20] | Loss: 1.7331 | Target Accuracy: 85.849%\n"
          ]
        },
        {
          "name": "stderr",
          "output_type": "stream",
          "text": [
            "Epoch 16/20: 100%|██████████| 53/53 [00:31<00:00,  1.67it/s]\n"
          ]
        },
        {
          "name": "stdout",
          "output_type": "stream",
          "text": [
            "Epoch [16/20] | Loss: 1.7255 | Target Accuracy: 87.382%\n"
          ]
        },
        {
          "name": "stderr",
          "output_type": "stream",
          "text": [
            "Epoch 17/20: 100%|██████████| 53/53 [00:32<00:00,  1.64it/s]\n"
          ]
        },
        {
          "name": "stdout",
          "output_type": "stream",
          "text": [
            "Epoch [17/20] | Loss: 1.7193 | Target Accuracy: 86.323%\n"
          ]
        },
        {
          "name": "stderr",
          "output_type": "stream",
          "text": [
            "Epoch 18/20: 100%|██████████| 53/53 [00:32<00:00,  1.65it/s]\n"
          ]
        },
        {
          "name": "stdout",
          "output_type": "stream",
          "text": [
            "Epoch [18/20] | Loss: 1.7150 | Target Accuracy: 87.264%\n"
          ]
        },
        {
          "name": "stderr",
          "output_type": "stream",
          "text": [
            "Epoch 19/20: 100%|██████████| 53/53 [00:32<00:00,  1.63it/s]\n"
          ]
        },
        {
          "name": "stdout",
          "output_type": "stream",
          "text": [
            "Epoch [19/20] | Loss: 1.7106 | Target Accuracy: 85.613%\n"
          ]
        },
        {
          "name": "stderr",
          "output_type": "stream",
          "text": [
            "Epoch 20/20: 100%|██████████| 53/53 [00:31<00:00,  1.68it/s]\n"
          ]
        },
        {
          "name": "stdout",
          "output_type": "stream",
          "text": [
            "Epoch [20/20] | Loss: 1.7060 | Target Accuracy: 86.498%\n",
            "\n",
            "------- Final Accuracy on Target Domain After Training Prompts --------\n"
          ]
        },
        {
          "name": "stderr",
          "output_type": "stream",
          "text": [
            "100%|██████████| 123/123 [00:15<00:00,  7.70it/s]"
          ]
        },
        {
          "name": "stdout",
          "output_type": "stream",
          "text": [
            "\n",
            "Evaluation Accuracy on target domain: 86.36%\n"
          ]
        },
        {
          "name": "stderr",
          "output_type": "stream",
          "text": [
            "\n"
          ]
        },
        {
          "data": {
            "text/plain": [
              "86.35785187070502"
            ]
          },
          "execution_count": 27,
          "metadata": {},
          "output_type": "execute_result"
        }
      ],
      "source": [
        "torch.cuda.manual_seed(42)\n",
        "torch.manual_seed(42)\n",
        "\n",
        "source_domain = 'photo'\n",
        "target_domain = 'sketch'\n",
        "\n",
        "source_dataset = datasets.ImageFolder(f'/content/PACS/{source_domain}', transform=transform)\n",
        "target_dataset = datasets.ImageFolder(f'/content/PACS/{target_domain}', transform=transform)\n",
        "\n",
        "source_loader = DataLoader(source_dataset, batch_size=32, shuffle=True, num_workers=2)\n",
        "target_loader = DataLoader(target_dataset, batch_size=32, shuffle=True, num_workers=2)\n",
        "\n",
        "prompts = train_prompt_tuning(\n",
        "    model, processor,\n",
        "    source_loader, target_loader,\n",
        "    classnames=class_names,\n",
        ")\n",
        "\n",
        "print(f\"\\n------- Final Accuracy on Target Domain After Training Prompts --------\")\n",
        "evaluate(model, processor, target_loader, class_names, prompts)"
      ]
    },
    {
      "cell_type": "code",
      "source": [
        "torch.cuda.manual_seed(42)\n",
        "torch.manual_seed(42)\n",
        "\n",
        "source_domain = 'photo'\n",
        "target_domain = 'sketch'\n",
        "\n",
        "source_dataset = datasets.ImageFolder(f'{path}/pacs_data/pacs_data/{source_domain}', transform=transform)\n",
        "target_dataset = datasets.ImageFolder(f'{path}/pacs_data/pacs_data/{target_domain}', transform=transform)\n",
        "\n",
        "source_loader = DataLoader(source_dataset, batch_size=32, shuffle=True, num_workers=2)\n",
        "target_loader = DataLoader(target_dataset, batch_size=32, shuffle=True, num_workers=2)\n",
        "\n",
        "prompts = train_prompt_tuning(\n",
        "    model, processor,\n",
        "    source_loader, target_loader,\n",
        "    classnames=class_names,\n",
        "    target_loss_fn=entropy_minimization_loss\n",
        ")\n",
        "\n",
        "print(f\"\\n------- Final Accuracy on Target Domain After Training Prompts --------\")\n",
        "evaluate(model, processor, target_loader, class_names, prompts)"
      ],
      "metadata": {
        "colab": {
          "base_uri": "https://localhost:8080/"
        },
        "id": "bMZdy-1pGCrj",
        "outputId": "298fcc0b-74b0-48a5-c1ef-52677f8b6675"
      },
      "execution_count": null,
      "outputs": [
        {
          "output_type": "stream",
          "name": "stderr",
          "text": [
            "Epoch 1/20: 100%|██████████| 53/53 [00:30<00:00,  1.74it/s]\n"
          ]
        },
        {
          "output_type": "stream",
          "name": "stdout",
          "text": [
            "Epoch [1/20] | Loss: 2.4634 | Target Accuracy: 85.318%\n"
          ]
        },
        {
          "output_type": "stream",
          "name": "stderr",
          "text": [
            "Epoch 2/20: 100%|██████████| 53/53 [00:30<00:00,  1.75it/s]\n"
          ]
        },
        {
          "output_type": "stream",
          "name": "stdout",
          "text": [
            "Epoch [2/20] | Loss: 2.4314 | Target Accuracy: 85.024%\n"
          ]
        },
        {
          "output_type": "stream",
          "name": "stderr",
          "text": [
            "Epoch 3/20: 100%|██████████| 53/53 [00:29<00:00,  1.77it/s]\n"
          ]
        },
        {
          "output_type": "stream",
          "name": "stdout",
          "text": [
            "Epoch [3/20] | Loss: 2.4059 | Target Accuracy: 85.317%\n"
          ]
        },
        {
          "output_type": "stream",
          "name": "stderr",
          "text": [
            "Epoch 4/20: 100%|██████████| 53/53 [00:30<00:00,  1.75it/s]\n"
          ]
        },
        {
          "output_type": "stream",
          "name": "stdout",
          "text": [
            "Epoch [4/20] | Loss: 2.3848 | Target Accuracy: 84.080%\n"
          ]
        },
        {
          "output_type": "stream",
          "name": "stderr",
          "text": [
            "Epoch 5/20: 100%|██████████| 53/53 [00:30<00:00,  1.75it/s]\n"
          ]
        },
        {
          "output_type": "stream",
          "name": "stdout",
          "text": [
            "Epoch [5/20] | Loss: 2.3671 | Target Accuracy: 83.541%\n"
          ]
        },
        {
          "output_type": "stream",
          "name": "stderr",
          "text": [
            "Epoch 6/20: 100%|██████████| 53/53 [00:30<00:00,  1.76it/s]\n"
          ]
        },
        {
          "output_type": "stream",
          "name": "stdout",
          "text": [
            "Epoch [6/20] | Loss: 2.3527 | Target Accuracy: 84.788%\n"
          ]
        },
        {
          "output_type": "stream",
          "name": "stderr",
          "text": [
            "Epoch 7/20: 100%|██████████| 53/53 [00:30<00:00,  1.76it/s]\n"
          ]
        },
        {
          "output_type": "stream",
          "name": "stdout",
          "text": [
            "Epoch [7/20] | Loss: 2.3400 | Target Accuracy: 86.619%\n"
          ]
        },
        {
          "output_type": "stream",
          "name": "stderr",
          "text": [
            "Epoch 8/20: 100%|██████████| 53/53 [00:30<00:00,  1.76it/s]\n"
          ]
        },
        {
          "output_type": "stream",
          "name": "stdout",
          "text": [
            "Epoch [8/20] | Loss: 2.3296 | Target Accuracy: 85.024%\n"
          ]
        },
        {
          "output_type": "stream",
          "name": "stderr",
          "text": [
            "Epoch 9/20: 100%|██████████| 53/53 [00:30<00:00,  1.76it/s]\n"
          ]
        },
        {
          "output_type": "stream",
          "name": "stdout",
          "text": [
            "Epoch [9/20] | Loss: 2.3200 | Target Accuracy: 86.026%\n"
          ]
        },
        {
          "output_type": "stream",
          "name": "stderr",
          "text": [
            "Epoch 10/20: 100%|██████████| 53/53 [00:30<00:00,  1.77it/s]\n"
          ]
        },
        {
          "output_type": "stream",
          "name": "stdout",
          "text": [
            "Epoch [10/20] | Loss: 2.3115 | Target Accuracy: 85.080%\n"
          ]
        },
        {
          "output_type": "stream",
          "name": "stderr",
          "text": [
            "Epoch 11/20: 100%|██████████| 53/53 [00:30<00:00,  1.75it/s]\n"
          ]
        },
        {
          "output_type": "stream",
          "name": "stdout",
          "text": [
            "Epoch [11/20] | Loss: 2.3037 | Target Accuracy: 84.965%\n"
          ]
        },
        {
          "output_type": "stream",
          "name": "stderr",
          "text": [
            "Epoch 12/20: 100%|██████████| 53/53 [00:30<00:00,  1.75it/s]\n"
          ]
        },
        {
          "output_type": "stream",
          "name": "stdout",
          "text": [
            "Epoch [12/20] | Loss: 2.2960 | Target Accuracy: 85.790%\n"
          ]
        },
        {
          "output_type": "stream",
          "name": "stderr",
          "text": [
            "Epoch 13/20: 100%|██████████| 53/53 [00:30<00:00,  1.75it/s]\n"
          ]
        },
        {
          "output_type": "stream",
          "name": "stdout",
          "text": [
            "Epoch [13/20] | Loss: 2.2894 | Target Accuracy: 83.667%\n"
          ]
        },
        {
          "output_type": "stream",
          "name": "stderr",
          "text": [
            "Epoch 14/20: 100%|██████████| 53/53 [00:30<00:00,  1.76it/s]\n"
          ]
        },
        {
          "output_type": "stream",
          "name": "stdout",
          "text": [
            "Epoch [14/20] | Loss: 2.2827 | Target Accuracy: 85.317%\n"
          ]
        },
        {
          "output_type": "stream",
          "name": "stderr",
          "text": [
            "Epoch 15/20: 100%|██████████| 53/53 [00:30<00:00,  1.76it/s]\n"
          ]
        },
        {
          "output_type": "stream",
          "name": "stdout",
          "text": [
            "Epoch [15/20] | Loss: 2.2779 | Target Accuracy: 84.965%\n"
          ]
        },
        {
          "output_type": "stream",
          "name": "stderr",
          "text": [
            "Epoch 16/20: 100%|██████████| 53/53 [00:30<00:00,  1.76it/s]\n"
          ]
        },
        {
          "output_type": "stream",
          "name": "stdout",
          "text": [
            "Epoch [16/20] | Loss: 2.2714 | Target Accuracy: 83.432%\n"
          ]
        },
        {
          "output_type": "stream",
          "name": "stderr",
          "text": [
            "Epoch 17/20: 100%|██████████| 53/53 [00:30<00:00,  1.75it/s]\n"
          ]
        },
        {
          "output_type": "stream",
          "name": "stdout",
          "text": [
            "Epoch [17/20] | Loss: 2.2662 | Target Accuracy: 83.185%\n"
          ]
        },
        {
          "output_type": "stream",
          "name": "stderr",
          "text": [
            "Epoch 18/20: 100%|██████████| 53/53 [00:30<00:00,  1.74it/s]\n"
          ]
        },
        {
          "output_type": "stream",
          "name": "stdout",
          "text": [
            "Epoch [18/20] | Loss: 2.2615 | Target Accuracy: 84.080%\n"
          ]
        },
        {
          "output_type": "stream",
          "name": "stderr",
          "text": [
            "Epoch 19/20: 100%|██████████| 53/53 [00:30<00:00,  1.75it/s]\n"
          ]
        },
        {
          "output_type": "stream",
          "name": "stdout",
          "text": [
            "Epoch [19/20] | Loss: 2.2572 | Target Accuracy: 83.008%\n"
          ]
        },
        {
          "output_type": "stream",
          "name": "stderr",
          "text": [
            "Epoch 20/20: 100%|██████████| 53/53 [00:30<00:00,  1.75it/s]\n"
          ]
        },
        {
          "output_type": "stream",
          "name": "stdout",
          "text": [
            "Epoch [20/20] | Loss: 2.2528 | Target Accuracy: 83.196%\n",
            "\n",
            "------- Final Accuracy on Target Domain After Training Prompts --------\n"
          ]
        },
        {
          "output_type": "stream",
          "name": "stderr",
          "text": [
            "100%|██████████| 123/123 [00:14<00:00,  8.54it/s]"
          ]
        },
        {
          "output_type": "stream",
          "name": "stdout",
          "text": [
            "\n",
            "Evaluation Accuracy on target domain: 83.13%\n"
          ]
        },
        {
          "output_type": "stream",
          "name": "stderr",
          "text": [
            "\n"
          ]
        },
        {
          "output_type": "execute_result",
          "data": {
            "text/plain": [
              "83.12547722066684"
            ]
          },
          "metadata": {},
          "execution_count": 22
        }
      ]
    },
    {
      "cell_type": "markdown",
      "metadata": {
        "id": "psAgBKbKL9YN"
      },
      "source": [
        "# 3. Gradient Conflict"
      ]
    },
    {
      "cell_type": "code",
      "execution_count": null,
      "metadata": {
        "id": "8bh98b-0MAhB"
      },
      "outputs": [],
      "source": [
        "class LearnablePrompts(nn.Module):\n",
        "  def __init__(self, domains, dom_ag=10, dom_sp=10, ctx_dim=512):\n",
        "    super().__init__()\n",
        "    self.dom_ag_ctx = nn.Parameter(torch.randn(dom_ag, ctx_dim), requires_grad=True)\n",
        "    self.dom_sp_ctx = nn.ParameterDict({\n",
        "          d: nn.Parameter(torch.randn(dom_sp, ctx_dim), requires_grad=True)\n",
        "          for d in domains\n",
        "        })\n",
        "  def get_ctx(self, domain):\n",
        "    return torch.cat([self.dom_ag_ctx, self.dom_sp_ctx[domain]], dim=0)\n",
        "\n",
        "\n",
        "def create_text_features(clip_model, processor, classnames, learnable_prompts, domain):\n",
        "    ctx = learnable_prompts.get_ctx(domain)  # (n_ctx, ctx_dim)\n",
        "    num_classes = len(classnames)\n",
        "    n_ctx = ctx.size(0)\n",
        "\n",
        "    # Tokenize normally\n",
        "    tokens = processor(text=classnames, return_tensors=\"pt\", padding=True, truncation=True).to(device)\n",
        "    token_embeds = clip_model.text_model.embeddings.token_embedding(tokens.input_ids)\n",
        "\n",
        "    # Insert learnable prompts after the SOS token\n",
        "    sos = token_embeds[:, :1, :]\n",
        "    rest = token_embeds[:, 1:, :]\n",
        "    prompt_ctx = ctx.unsqueeze(0).expand(num_classes, -1, -1)\n",
        "    new_embeds = torch.cat([sos, prompt_ctx, rest], dim=1)\n",
        "\n",
        "    # Adjust positional embeddings\n",
        "    pos_embeds = clip_model.text_model.embeddings.position_embedding(\n",
        "        torch.arange(new_embeds.size(1), device=device).unsqueeze(0)\n",
        "    )\n",
        "    final_embeds = new_embeds + pos_embeds\n",
        "\n",
        "    # Adjust attention mask (and convert to bool)\n",
        "    prompt_mask = torch.ones((num_classes, n_ctx), dtype=torch.bool, device=device)\n",
        "    attention_mask = torch.cat(\n",
        "        [tokens.attention_mask[:, :1].bool(), prompt_mask, tokens.attention_mask[:, 1:].bool()],\n",
        "        dim=1\n",
        "    )\n",
        "    attention_mask = attention_mask[:, None, None, :]\n",
        "\n",
        "    # Run through encoder\n",
        "    encoder_out = clip_model.text_model.encoder(inputs_embeds=final_embeds, attention_mask=attention_mask)\n",
        "    hidden = encoder_out.last_hidden_state\n",
        "    hidden = clip_model.text_model.final_layer_norm(hidden)\n",
        "\n",
        "    # Use EOS position adjusted for new tokens\n",
        "    eos_idx = attention_mask.squeeze().sum(dim=1) - 1  # ensures shape [num_classes]\n",
        "    text_embeds = hidden[torch.arange(num_classes, device=device), eos_idx]\n",
        "    text_features = clip_model.text_projection(text_embeds)\n",
        "    text_features = text_features / text_features.norm(dim=-1, keepdim=True)\n",
        "\n",
        "    return text_features\n",
        "\n",
        "source_domain = 'photo'\n",
        "target_domain = 'sketch'\n",
        "domains = [source_domain, target_domain]\n",
        "class_names = ['dog', 'elephant', 'giraffe', 'guitar', 'horse', 'house', 'person']\n",
        "source_dataset = datasets.ImageFolder(f\"{path}/pacs_data/pacs_data/{source_domain}\", transform=transform)\n",
        "target_dataset = datasets.ImageFolder(f\"{path}/pacs_data/pacs_data/{target_domain}\", transform=transform)\n",
        "source_loader = DataLoader(source_dataset, batch_size=32, shuffle=True)\n",
        "target_loader = DataLoader(target_dataset, batch_size=32, shuffle=True)\n",
        "learnable_prompts = LearnablePrompts(domains).to(device)"
      ]
    },
    {
      "cell_type": "code",
      "execution_count": null,
      "metadata": {
        "colab": {
          "base_uri": "https://localhost:8080/"
        },
        "id": "19BsjUBPrml3",
        "outputId": "9c1a169e-c31b-4860-de63-cbf5f98aa0fc"
      },
      "outputs": [
        {
          "output_type": "stream",
          "name": "stdout",
          "text": [
            "-----------------------------------------------------------------\n",
            "Training Learnable Prompts on Source Domains\n",
            "\n"
          ]
        },
        {
          "output_type": "stream",
          "name": "stderr",
          "text": [
            " 10%|█         | 1/10 [01:01<09:13, 61.50s/it]"
          ]
        },
        {
          "output_type": "stream",
          "name": "stdout",
          "text": [
            "\n",
            "Epoch 1:\n",
            "  Total Loss: 3.8290\n",
            "  Source Accuracy: 82.16%\n",
            "  Target Accuracy: 74.59%\n",
            "  Avg Gradient Cosine Similarity: 0.9345\n"
          ]
        },
        {
          "output_type": "stream",
          "name": "stderr",
          "text": [
            "\r 20%|██        | 2/10 [02:01<08:05, 60.71s/it]"
          ]
        },
        {
          "output_type": "stream",
          "name": "stdout",
          "text": [
            "\n",
            "Epoch 2:\n",
            "  Total Loss: 3.7630\n",
            "  Source Accuracy: 99.58%\n",
            "  Target Accuracy: 83.37%\n",
            "  Avg Gradient Cosine Similarity: 0.8795\n"
          ]
        },
        {
          "output_type": "stream",
          "name": "stderr",
          "text": [
            "\r 30%|███       | 3/10 [03:01<07:02, 60.39s/it]"
          ]
        },
        {
          "output_type": "stream",
          "name": "stdout",
          "text": [
            "\n",
            "Epoch 3:\n",
            "  Total Loss: 3.6961\n",
            "  Source Accuracy: 99.64%\n",
            "  Target Accuracy: 81.31%\n",
            "  Avg Gradient Cosine Similarity: 0.8566\n"
          ]
        },
        {
          "output_type": "stream",
          "name": "stderr",
          "text": [
            "\r 40%|████      | 4/10 [04:01<06:01, 60.28s/it]"
          ]
        },
        {
          "output_type": "stream",
          "name": "stdout",
          "text": [
            "\n",
            "Epoch 4:\n",
            "  Total Loss: 3.6440\n",
            "  Source Accuracy: 99.70%\n",
            "  Target Accuracy: 79.95%\n",
            "  Avg Gradient Cosine Similarity: 0.7991\n"
          ]
        },
        {
          "output_type": "stream",
          "name": "stderr",
          "text": [
            "\r 50%|█████     | 5/10 [05:01<05:01, 60.23s/it]"
          ]
        },
        {
          "output_type": "stream",
          "name": "stdout",
          "text": [
            "\n",
            "Epoch 5:\n",
            "  Total Loss: 3.6002\n",
            "  Source Accuracy: 99.70%\n",
            "  Target Accuracy: 79.89%\n",
            "  Avg Gradient Cosine Similarity: 0.8208\n"
          ]
        },
        {
          "output_type": "stream",
          "name": "stderr",
          "text": [
            "\r 60%|██████    | 6/10 [06:02<04:01, 60.28s/it]"
          ]
        },
        {
          "output_type": "stream",
          "name": "stdout",
          "text": [
            "\n",
            "Epoch 6:\n",
            "  Total Loss: 3.5582\n",
            "  Source Accuracy: 99.70%\n",
            "  Target Accuracy: 78.66%\n",
            "  Avg Gradient Cosine Similarity: 0.8004\n"
          ]
        },
        {
          "output_type": "stream",
          "name": "stderr",
          "text": [
            "\r 70%|███████   | 7/10 [07:02<03:00, 60.20s/it]"
          ]
        },
        {
          "output_type": "stream",
          "name": "stdout",
          "text": [
            "\n",
            "Epoch 7:\n",
            "  Total Loss: 3.5248\n",
            "  Source Accuracy: 99.70%\n",
            "  Target Accuracy: 77.65%\n",
            "  Avg Gradient Cosine Similarity: 0.7546\n"
          ]
        },
        {
          "output_type": "stream",
          "name": "stderr",
          "text": [
            "\r 80%|████████  | 8/10 [08:02<02:00, 60.24s/it]"
          ]
        },
        {
          "output_type": "stream",
          "name": "stdout",
          "text": [
            "\n",
            "Epoch 8:\n",
            "  Total Loss: 3.4930\n",
            "  Source Accuracy: 99.58%\n",
            "  Target Accuracy: 74.53%\n",
            "  Avg Gradient Cosine Similarity: 0.7998\n"
          ]
        },
        {
          "output_type": "stream",
          "name": "stderr",
          "text": [
            "\r 90%|█████████ | 9/10 [09:02<01:00, 60.16s/it]"
          ]
        },
        {
          "output_type": "stream",
          "name": "stdout",
          "text": [
            "\n",
            "Epoch 9:\n",
            "  Total Loss: 3.4706\n",
            "  Source Accuracy: 99.58%\n",
            "  Target Accuracy: 72.46%\n",
            "  Avg Gradient Cosine Similarity: 0.8169\n"
          ]
        },
        {
          "output_type": "stream",
          "name": "stderr",
          "text": [
            "100%|██████████| 10/10 [10:02<00:00, 60.28s/it]"
          ]
        },
        {
          "output_type": "stream",
          "name": "stdout",
          "text": [
            "\n",
            "Epoch 10:\n",
            "  Total Loss: 3.4416\n",
            "  Source Accuracy: 99.52%\n",
            "  Target Accuracy: 71.93%\n",
            "  Avg Gradient Cosine Similarity: 0.8475\n",
            "\n",
            "-----------------------------------------------------------------\n",
            "\n"
          ]
        },
        {
          "output_type": "stream",
          "name": "stderr",
          "text": [
            "\n"
          ]
        }
      ],
      "source": [
        "torch.cuda.manual_seed(42)\n",
        "torch.manual_seed(42)\n",
        "\n",
        "def get_flat_grads(model, only_ag=True):\n",
        "    grads = []\n",
        "    for name, p in model.named_parameters():\n",
        "        if p.grad is None:\n",
        "            continue\n",
        "        if only_ag and \"dom_ag_ctx\" not in name:\n",
        "            continue  # skip domain-specific grads\n",
        "        grads.append(p.grad.view(-1))\n",
        "    return torch.cat(grads) if grads else torch.tensor([], device=device)\n",
        "\n",
        "\n",
        "epochs = 10\n",
        "loss_fn = nn.CrossEntropyLoss()\n",
        "optimizer = torch.optim.Adam(learnable_prompts.parameters(), lr=1e-3)\n",
        "\n",
        "logs = {\n",
        "    \"epoch_loss\": [],\n",
        "    \"src_acc\": [],\n",
        "    \"tgt_acc\": [],\n",
        "    \"grad_conflict\": [],\n",
        "}\n",
        "\n",
        "print('-----------------------------------------------------------------')\n",
        "print(f\"Training Learnable Prompts on Source Domains\\n\")\n",
        "\n",
        "for epoch in tqdm(range(epochs)):\n",
        "    epoch_loss, src_total_loss, tgt_total_loss = 0.0, 0.0, 0.0\n",
        "    src_correct, tgt_correct = 0, 0\n",
        "    src_total, tgt_total = 0, 0\n",
        "    grad_conflicts = []\n",
        "\n",
        "    for (src_imgs, src_labels), (tgt_imgs, tgt_labels) in zip(source_loader, target_loader):\n",
        "\n",
        "        optimizer.zero_grad()\n",
        "\n",
        "        # ----- SOURCE -----\n",
        "        src_imgs, src_labels = src_imgs.to(device), src_labels.to(device)\n",
        "        src_img_feats = model.get_image_features(src_imgs)\n",
        "        src_img_feats = src_img_feats / src_img_feats.norm(dim=-1, keepdim=True)\n",
        "        src_txt_feats = create_text_features(model, processor, class_names, learnable_prompts, source_domain)\n",
        "        src_txt_feats = src_txt_feats / src_txt_feats.norm(dim=-1, keepdim=True)\n",
        "        src_sim = src_img_feats @ src_txt_feats.T\n",
        "        src_preds = src_sim.argmax(dim=1)\n",
        "        src_correct += (src_preds == src_labels).sum().item()\n",
        "        src_total += src_labels.size(0)\n",
        "        src_loss = loss_fn(src_sim, src_labels)\n",
        "\n",
        "        src_loss.backward(retain_graph=True)\n",
        "        src_grd = get_flat_grads(learnable_prompts).detach().clone()\n",
        "\n",
        "        # ----- TARGET -----\n",
        "        tgt_imgs, tgt_labels = tgt_imgs.to(device), tgt_labels.to(device)\n",
        "        tgt_img_feats = model.get_image_features(tgt_imgs)\n",
        "        tgt_img_feats = tgt_img_feats / tgt_img_feats.norm(dim=-1, keepdim=True)\n",
        "        tgt_txt_feats = create_text_features(model, processor, class_names, learnable_prompts, target_domain)\n",
        "        tgt_txt_feats = tgt_txt_feats / tgt_txt_feats.norm(dim=-1, keepdim=True)\n",
        "        tgt_sim = tgt_img_feats @ tgt_txt_feats.T\n",
        "        tgt_preds = tgt_sim.argmax(dim=1)\n",
        "        tgt_correct += (tgt_preds == tgt_labels).sum().item()\n",
        "        tgt_total += tgt_labels.size(0)\n",
        "        tgt_loss = loss_fn(tgt_sim, tgt_labels)\n",
        "\n",
        "        tgt_loss.backward(retain_graph=True)\n",
        "        tgt_grd = get_flat_grads(learnable_prompts).detach().clone()\n",
        "\n",
        "        # --- Gradient conflict ---\n",
        "        if len(src_grd) > 0 and len(tgt_grd) > 0:\n",
        "            conflict = F.cosine_similarity(src_grd.unsqueeze(0), tgt_grd.unsqueeze(0)).item()\n",
        "            grad_conflicts.append(conflict)\n",
        "        else:\n",
        "            grad_conflicts.append(0.0)\n",
        "\n",
        "        # --- Total loss & optimization ---\n",
        "        total_loss = src_loss + tgt_loss\n",
        "        total_loss.backward()\n",
        "        optimizer.step()\n",
        "\n",
        "        epoch_loss += total_loss.item()\n",
        "        src_total_loss += src_loss.item()\n",
        "        tgt_total_loss += tgt_loss.item()\n",
        "\n",
        "    # --- Epoch averages ---\n",
        "    src_avg_loss = src_total_loss / len(source_loader)\n",
        "    tgt_avg_loss = tgt_total_loss / len(source_loader)\n",
        "    avg_loss = epoch_loss / len(source_loader)\n",
        "    src_acc = src_correct / src_total if src_total > 0 else 0\n",
        "    tgt_acc = tgt_correct / tgt_total if tgt_total > 0 else 0\n",
        "    avg_conflict = sum(grad_conflicts) / len(grad_conflicts)\n",
        "\n",
        "    # --- Logging ---\n",
        "    logs[\"epoch_loss\"].append(avg_loss)\n",
        "    logs[\"src_acc\"].append(src_acc)\n",
        "    logs[\"tgt_acc\"].append(tgt_acc)\n",
        "    logs[\"grad_conflict\"].append(avg_conflict)\n",
        "\n",
        "    print(f\"\\nEpoch {epoch+1}:\")\n",
        "    print(f\"  Total Loss: {avg_loss:.4f}\")\n",
        "    print(f\"  Source Loss: {src_avg_loss:.4f}\")\n",
        "    print(f\"  Target Loss: {tgt_avg_loss:.4f}\")\n",
        "    print(f\"  Source Accuracy: {src_acc*100:.2f}%\")\n",
        "    print(f\"  Target Accuracy: {tgt_acc*100:.2f}%\")\n",
        "    print(f\"  Avg Gradient Cosine Similarity: {avg_conflict:.4f}\")\n",
        "\n",
        "print('\\n-----------------------------------------------------------------\\n')\n",
        "\n",
        "# Save logs for later plotting\n",
        "import json\n",
        "with open(\"training_logs.json\", \"w\") as f:\n",
        "    json.dump(logs, f, indent=2)"
      ]
    },
    {
      "cell_type": "code",
      "source": [
        "torch.cuda.manual_seed(42)\n",
        "torch.manual_seed(42)\n",
        "\n",
        "def get_flat_grads(model, only_ag=True):\n",
        "    grads = []\n",
        "    for name, p in model.named_parameters():\n",
        "        if p.grad is None:\n",
        "            continue\n",
        "        if only_ag and \"dom_ag_ctx\" not in name:\n",
        "            continue  # skip domain-specific grads\n",
        "        grads.append(p.grad.view(-1))\n",
        "    return torch.cat(grads) if grads else torch.tensor([], device=device)\n",
        "\n",
        "\n",
        "epochs = 10\n",
        "loss_fn = nn.CrossEntropyLoss()\n",
        "optimizer = torch.optim.Adam(learnable_prompts.parameters(), lr=1e-3)\n",
        "\n",
        "logs = {\n",
        "    \"epoch_loss\": [],\n",
        "    \"src_acc\": [],\n",
        "    \"tgt_acc\": [],\n",
        "    \"grad_conflict\": [],\n",
        "}\n",
        "\n",
        "print('-----------------------------------------------------------------')\n",
        "print(f\"Training Learnable Prompts on Source Domains\\n\")\n",
        "\n",
        "for epoch in tqdm(range(epochs)):\n",
        "    epoch_loss, src_total_loss, tgt_total_loss = 0.0, 0.0, 0.0\n",
        "    src_correct, tgt_correct = 0, 0\n",
        "    src_total, tgt_total = 0, 0\n",
        "    grad_conflicts = []\n",
        "\n",
        "    for (src_imgs, src_labels), (tgt_imgs, tgt_labels) in zip(source_loader, target_loader):\n",
        "\n",
        "        optimizer.zero_grad()\n",
        "\n",
        "        # ----- SOURCE -----\n",
        "        src_imgs, src_labels = src_imgs.to(device), src_labels.to(device)\n",
        "        src_img_feats = model.get_image_features(src_imgs)\n",
        "        src_img_feats = src_img_feats / src_img_feats.norm(dim=-1, keepdim=True)\n",
        "        src_txt_feats = create_text_features(model, processor, class_names, learnable_prompts, source_domain)\n",
        "        src_txt_feats = src_txt_feats / src_txt_feats.norm(dim=-1, keepdim=True)\n",
        "        src_sim = src_img_feats @ src_txt_feats.T\n",
        "        src_preds = src_sim.argmax(dim=1)\n",
        "        src_correct += (src_preds == src_labels).sum().item()\n",
        "        src_total += src_labels.size(0)\n",
        "        src_loss = loss_fn(src_sim, src_labels)\n",
        "\n",
        "        src_loss.backward(retain_graph=True)\n",
        "        src_grd = get_flat_grads(learnable_prompts).detach().clone()\n",
        "\n",
        "        # ----- TARGET -----\n",
        "        tgt_imgs, tgt_labels = tgt_imgs.to(device), tgt_labels.to(device)\n",
        "        tgt_img_feats = model.get_image_features(tgt_imgs)\n",
        "        tgt_img_feats = tgt_img_feats / tgt_img_feats.norm(dim=-1, keepdim=True)\n",
        "        tgt_txt_feats = create_text_features(model, processor, class_names, learnable_prompts, target_domain)\n",
        "        tgt_txt_feats = tgt_txt_feats / tgt_txt_feats.norm(dim=-1, keepdim=True)\n",
        "        tgt_sim = tgt_img_feats @ tgt_txt_feats.T\n",
        "        tgt_preds = tgt_sim.argmax(dim=1)\n",
        "        tgt_correct += (tgt_preds == tgt_labels).sum().item()\n",
        "        tgt_total += tgt_labels.size(0)\n",
        "        tgt_loss = loss_fn(tgt_sim, tgt_labels)\n",
        "\n",
        "        tgt_loss.backward(retain_graph=True)\n",
        "        tgt_grd = get_flat_grads(learnable_prompts).detach().clone()\n",
        "\n",
        "        # --- Gradient conflict ---\n",
        "        if len(src_grd) > 0 and len(tgt_grd) > 0:\n",
        "            conflict = F.cosine_similarity(src_grd.unsqueeze(0), tgt_grd.unsqueeze(0)).item()\n",
        "            grad_conflicts.append(conflict)\n",
        "        else:\n",
        "            grad_conflicts.append(0.0)\n",
        "\n",
        "        # --- Total loss & optimization ---\n",
        "        total_loss = src_loss + tgt_loss\n",
        "        total_loss.backward()\n",
        "        optimizer.step()\n",
        "\n",
        "        epoch_loss += total_loss.item()\n",
        "        src_total_loss += src_loss.item()\n",
        "        tgt_total_loss += tgt_loss.item()\n",
        "\n",
        "    # --- Epoch averages ---\n",
        "    src_avg_loss = src_total_loss / len(source_loader)\n",
        "    tgt_avg_loss = tgt_total_loss / len(source_loader)\n",
        "    avg_loss = epoch_loss / len(source_loader)\n",
        "    src_acc = src_correct / src_total if src_total > 0 else 0\n",
        "    tgt_acc = tgt_correct / tgt_total if tgt_total > 0 else 0\n",
        "    avg_conflict = sum(grad_conflicts) / len(grad_conflicts)\n",
        "\n",
        "    # --- Logging ---\n",
        "    logs[\"epoch_loss\"].append(avg_loss)\n",
        "    logs[\"src_acc\"].append(src_acc)\n",
        "    logs[\"tgt_acc\"].append(tgt_acc)\n",
        "    logs[\"grad_conflict\"].append(avg_conflict)\n",
        "\n",
        "    print(f\"\\nEpoch {epoch+1}:\")\n",
        "    print(f\"  Total Loss: {avg_loss:.4f}\")\n",
        "    print(f\"  Source Loss: {src_avg_loss:.4f}\")\n",
        "    print(f\"  Target Loss: {tgt_avg_loss:.4f}\")\n",
        "    print(f\"  Source Accuracy: {src_acc*100:.2f}%\")\n",
        "    print(f\"  Target Accuracy: {tgt_acc*100:.2f}%\")\n",
        "    print(f\"  Avg Gradient Cosine Similarity: {avg_conflict:.4f}\")\n",
        "\n",
        "print('\\n-----------------------------------------------------------------\\n')\n"
      ],
      "metadata": {
        "colab": {
          "base_uri": "https://localhost:8080/"
        },
        "id": "MvJwtZSMcVc1",
        "outputId": "882a74d4-d668-45df-dfd2-65caae3c3ce7"
      },
      "execution_count": null,
      "outputs": [
        {
          "output_type": "stream",
          "name": "stdout",
          "text": [
            "-----------------------------------------------------------------\n",
            "Training Learnable Prompts on Source Domains\n",
            "\n"
          ]
        },
        {
          "output_type": "stream",
          "name": "stderr",
          "text": [
            " 10%|█         | 1/10 [01:12<10:56, 72.94s/it]"
          ]
        },
        {
          "output_type": "stream",
          "name": "stdout",
          "text": [
            "\n",
            "Epoch 1:\n",
            "  Total Loss: 3.8329\n",
            "  Source Loss: 1.9046\n",
            "  Target Loss: 1.9283\n",
            "  Source Accuracy: 93.05%\n",
            "  Target Accuracy: 77.95%\n",
            "  Avg Gradient Cosine Similarity: 0.9222\n"
          ]
        },
        {
          "output_type": "stream",
          "name": "stderr",
          "text": [
            "\r 20%|██        | 2/10 [02:17<09:01, 67.73s/it]"
          ]
        },
        {
          "output_type": "stream",
          "name": "stdout",
          "text": [
            "\n",
            "Epoch 2:\n",
            "  Total Loss: 3.7699\n",
            "  Source Loss: 1.8688\n",
            "  Target Loss: 1.9010\n",
            "  Source Accuracy: 98.74%\n",
            "  Target Accuracy: 79.72%\n",
            "  Avg Gradient Cosine Similarity: 0.8405\n"
          ]
        },
        {
          "output_type": "stream",
          "name": "stderr",
          "text": [
            "\r 30%|███       | 3/10 [03:17<07:31, 64.44s/it]"
          ]
        },
        {
          "output_type": "stream",
          "name": "stdout",
          "text": [
            "\n",
            "Epoch 3:\n",
            "  Total Loss: 3.6993\n",
            "  Source Loss: 1.8318\n",
            "  Target Loss: 1.8676\n",
            "  Source Accuracy: 99.34%\n",
            "  Target Accuracy: 76.00%\n",
            "  Avg Gradient Cosine Similarity: 0.7694\n"
          ]
        },
        {
          "output_type": "stream",
          "name": "stderr",
          "text": [
            "\r 40%|████      | 4/10 [04:20<06:22, 63.76s/it]"
          ]
        },
        {
          "output_type": "stream",
          "name": "stdout",
          "text": [
            "\n",
            "Epoch 4:\n",
            "  Total Loss: 3.6402\n",
            "  Source Loss: 1.8031\n",
            "  Target Loss: 1.8371\n",
            "  Source Accuracy: 99.40%\n",
            "  Target Accuracy: 69.46%\n",
            "  Avg Gradient Cosine Similarity: 0.6971\n"
          ]
        },
        {
          "output_type": "stream",
          "name": "stderr",
          "text": [
            "\r 50%|█████     | 5/10 [05:19<05:11, 62.24s/it]"
          ]
        },
        {
          "output_type": "stream",
          "name": "stdout",
          "text": [
            "\n",
            "Epoch 5:\n",
            "  Total Loss: 3.5910\n",
            "  Source Loss: 1.7808\n",
            "  Target Loss: 1.8102\n",
            "  Source Accuracy: 99.40%\n",
            "  Target Accuracy: 67.57%\n",
            "  Avg Gradient Cosine Similarity: 0.6607\n"
          ]
        },
        {
          "output_type": "stream",
          "name": "stderr",
          "text": [
            "\r 60%|██████    | 6/10 [06:18<04:04, 61.15s/it]"
          ]
        },
        {
          "output_type": "stream",
          "name": "stdout",
          "text": [
            "\n",
            "Epoch 6:\n",
            "  Total Loss: 3.5493\n",
            "  Source Loss: 1.7620\n",
            "  Target Loss: 1.7874\n",
            "  Source Accuracy: 99.40%\n",
            "  Target Accuracy: 68.51%\n",
            "  Avg Gradient Cosine Similarity: 0.6446\n"
          ]
        },
        {
          "output_type": "stream",
          "name": "stderr",
          "text": [
            "\r 70%|███████   | 7/10 [07:17<03:01, 60.44s/it]"
          ]
        },
        {
          "output_type": "stream",
          "name": "stdout",
          "text": [
            "\n",
            "Epoch 7:\n",
            "  Total Loss: 3.5217\n",
            "  Source Loss: 1.7457\n",
            "  Target Loss: 1.7761\n",
            "  Source Accuracy: 99.34%\n",
            "  Target Accuracy: 68.75%\n",
            "  Avg Gradient Cosine Similarity: 0.6333\n"
          ]
        },
        {
          "output_type": "stream",
          "name": "stderr",
          "text": [
            "\r 80%|████████  | 8/10 [08:16<01:59, 59.95s/it]"
          ]
        },
        {
          "output_type": "stream",
          "name": "stdout",
          "text": [
            "\n",
            "Epoch 8:\n",
            "  Total Loss: 3.4928\n",
            "  Source Loss: 1.7297\n",
            "  Target Loss: 1.7630\n",
            "  Source Accuracy: 99.28%\n",
            "  Target Accuracy: 66.98%\n",
            "  Avg Gradient Cosine Similarity: 0.6870\n"
          ]
        },
        {
          "output_type": "stream",
          "name": "stderr",
          "text": [
            "\r 90%|█████████ | 9/10 [09:15<00:59, 59.62s/it]"
          ]
        },
        {
          "output_type": "stream",
          "name": "stdout",
          "text": [
            "\n",
            "Epoch 9:\n",
            "  Total Loss: 3.4728\n",
            "  Source Loss: 1.7161\n",
            "  Target Loss: 1.7567\n",
            "  Source Accuracy: 99.16%\n",
            "  Target Accuracy: 65.74%\n",
            "  Avg Gradient Cosine Similarity: 0.7161\n"
          ]
        },
        {
          "output_type": "stream",
          "name": "stderr",
          "text": [
            "100%|██████████| 10/10 [10:14<00:00, 61.45s/it]"
          ]
        },
        {
          "output_type": "stream",
          "name": "stdout",
          "text": [
            "\n",
            "Epoch 10:\n",
            "  Total Loss: 3.4434\n",
            "  Source Loss: 1.7030\n",
            "  Target Loss: 1.7403\n",
            "  Source Accuracy: 98.98%\n",
            "  Target Accuracy: 66.33%\n",
            "  Avg Gradient Cosine Similarity: 0.7029\n",
            "\n",
            "-----------------------------------------------------------------\n",
            "\n"
          ]
        },
        {
          "output_type": "stream",
          "name": "stderr",
          "text": [
            "\n"
          ]
        }
      ]
    },
    {
      "cell_type": "code",
      "source": [
        "import matplotlib.pyplot as plt\n",
        "\n",
        "# Data\n",
        "epochs = list(range(1, 11))\n",
        "cosine_similarity = [0.9222, 0.8405, 0.7694, 0.6971, 0.6607, 0.6446, 0.6333, 0.6870, 0.7161, 0.7029]\n",
        "\n",
        "# Plot\n",
        "plt.figure(figsize=(7, 4.5))\n",
        "plt.plot(epochs, cosine_similarity, marker='o', linewidth=2.2, markersize=6, color='tab:blue', label='Avg Gradient Cosine Similarity')\n",
        "\n",
        "# Style\n",
        "plt.title(\"Gradient Alignment Across Training Epochs\", fontsize=14, fontweight='semibold', pad=15)\n",
        "plt.xlabel(\"Epoch\", fontsize=12)\n",
        "plt.ylabel(\"Average Cosine Similarity\", fontsize=12)\n",
        "plt.xticks(fontsize=11)\n",
        "plt.yticks(fontsize=11)\n",
        "plt.ylim(0.6, 1.0)\n",
        "plt.grid(True, linestyle='--', alpha=0.5)\n",
        "plt.legend(fontsize=11, loc='lower right')\n",
        "plt.tight_layout()\n",
        "\n",
        "# Show\n",
        "plt.show()"
      ],
      "metadata": {
        "colab": {
          "base_uri": "https://localhost:8080/",
          "height": 457
        },
        "id": "xojjglIz8Eoh",
        "outputId": "b6625f8a-a817-468f-db24-628ae11a8815"
      },
      "execution_count": null,
      "outputs": [
        {
          "output_type": "display_data",
          "data": {
            "text/plain": [
              "<Figure size 700x450 with 1 Axes>"
            ],
            "image/png": "[encoded data removed]"
          },
          "metadata": {}
        }
      ]
    },
    {
      "cell_type": "code",
      "source": [
        "source_domain = 'photo'\n",
        "target_domain = 'art_painting'\n",
        "domains = [source_domain, target_domain]\n",
        "class_names = ['dog', 'elephant', 'giraffe', 'guitar', 'horse', 'house', 'person']\n",
        "source_dataset = datasets.ImageFolder(f\"{path}/pacs_data/pacs_data/{source_domain}\", transform=transform)\n",
        "target_dataset = datasets.ImageFolder(f\"{path}/pacs_data/pacs_data/{target_domain}\", transform=transform)\n",
        "source_loader = DataLoader(source_dataset, batch_size=32, shuffle=True)\n",
        "target_loader = DataLoader(target_dataset, batch_size=32, shuffle=True)\n",
        "learnable_prompts = LearnablePrompts(domains).to(device)"
      ],
      "metadata": {
        "id": "YOyFVPoOfarW"
      },
      "execution_count": null,
      "outputs": []
    },
    {
      "cell_type": "code",
      "source": [
        "torch.cuda.manual_seed(42)\n",
        "torch.manual_seed(42)\n",
        "\n",
        "def get_flat_grads(model, only_ag=True):\n",
        "    grads = []\n",
        "    for name, p in model.named_parameters():\n",
        "        if p.grad is None:\n",
        "            continue\n",
        "        if only_ag and \"dom_ag_ctx\" not in name:\n",
        "            continue  # skip domain-specific grads\n",
        "        grads.append(p.grad.view(-1))\n",
        "    return torch.cat(grads) if grads else torch.tensor([], device=device)\n",
        "\n",
        "\n",
        "epochs = 10\n",
        "loss_fn = nn.CrossEntropyLoss()\n",
        "optimizer = torch.optim.Adam(learnable_prompts.parameters(), lr=1e-3)\n",
        "\n",
        "logs = {\n",
        "    \"epoch_loss\": [],\n",
        "    \"src_acc\": [],\n",
        "    \"tgt_acc\": [],\n",
        "    \"grad_conflict\": [],\n",
        "}\n",
        "\n",
        "print('-----------------------------------------------------------------')\n",
        "print(f\"Training Learnable Prompts on Source Domains\\n\")\n",
        "\n",
        "for epoch in tqdm(range(epochs)):\n",
        "    epoch_loss, src_total_loss, tgt_total_loss = 0.0, 0.0, 0.0\n",
        "    src_correct, tgt_correct = 0, 0\n",
        "    src_total, tgt_total = 0, 0\n",
        "    grad_conflicts = []\n",
        "\n",
        "    for (src_imgs, src_labels), (tgt_imgs, tgt_labels) in zip(source_loader, target_loader):\n",
        "\n",
        "        optimizer.zero_grad()\n",
        "\n",
        "        # ----- SOURCE -----\n",
        "        src_imgs, src_labels = src_imgs.to(device), src_labels.to(device)\n",
        "        src_img_feats = model.get_image_features(src_imgs)\n",
        "        src_img_feats = src_img_feats / src_img_feats.norm(dim=-1, keepdim=True)\n",
        "        src_txt_feats = create_text_features(model, processor, class_names, learnable_prompts, source_domain)\n",
        "        src_txt_feats = src_txt_feats / src_txt_feats.norm(dim=-1, keepdim=True)\n",
        "        src_sim = src_img_feats @ src_txt_feats.T\n",
        "        src_preds = src_sim.argmax(dim=1)\n",
        "        src_correct += (src_preds == src_labels).sum().item()\n",
        "        src_total += src_labels.size(0)\n",
        "        src_loss = loss_fn(src_sim, src_labels)\n",
        "\n",
        "        src_loss.backward(retain_graph=True)\n",
        "        src_grd = get_flat_grads(learnable_prompts).detach().clone()\n",
        "\n",
        "        # ----- TARGET -----\n",
        "        tgt_imgs, tgt_labels = tgt_imgs.to(device), tgt_labels.to(device)\n",
        "        tgt_img_feats = model.get_image_features(tgt_imgs)\n",
        "        tgt_img_feats = tgt_img_feats / tgt_img_feats.norm(dim=-1, keepdim=True)\n",
        "        tgt_txt_feats = create_text_features(model, processor, class_names, learnable_prompts, target_domain)\n",
        "        tgt_txt_feats = tgt_txt_feats / tgt_txt_feats.norm(dim=-1, keepdim=True)\n",
        "        tgt_sim = tgt_img_feats @ tgt_txt_feats.T\n",
        "        tgt_preds = tgt_sim.argmax(dim=1)\n",
        "        tgt_correct += (tgt_preds == tgt_labels).sum().item()\n",
        "        tgt_total += tgt_labels.size(0)\n",
        "        tgt_loss = loss_fn(tgt_sim, tgt_labels)\n",
        "\n",
        "        tgt_loss.backward(retain_graph=True)\n",
        "        tgt_grd = get_flat_grads(learnable_prompts).detach().clone()\n",
        "\n",
        "        # --- Gradient conflict ---\n",
        "        if len(src_grd) > 0 and len(tgt_grd) > 0:\n",
        "            conflict = F.cosine_similarity(src_grd.unsqueeze(0), tgt_grd.unsqueeze(0)).item()\n",
        "            grad_conflicts.append(conflict)\n",
        "        else:\n",
        "            grad_conflicts.append(0.0)\n",
        "\n",
        "        # --- Total loss & optimization ---\n",
        "        total_loss = src_loss + tgt_loss\n",
        "        total_loss.backward()\n",
        "        optimizer.step()\n",
        "\n",
        "        epoch_loss += total_loss.item()\n",
        "        src_total_loss += src_loss.item()\n",
        "        tgt_total_loss += tgt_loss.item()\n",
        "\n",
        "    # --- Epoch averages ---\n",
        "    src_avg_loss = src_total_loss / len(source_loader)\n",
        "    tgt_avg_loss = tgt_total_loss / len(source_loader)\n",
        "    avg_loss = epoch_loss / len(source_loader)\n",
        "    src_acc = src_correct / src_total if src_total > 0 else 0\n",
        "    tgt_acc = tgt_correct / tgt_total if tgt_total > 0 else 0\n",
        "    avg_conflict = sum(grad_conflicts) / len(grad_conflicts)\n",
        "\n",
        "    # --- Logging ---\n",
        "    logs[\"epoch_loss\"].append(avg_loss)\n",
        "    logs[\"src_acc\"].append(src_acc)\n",
        "    logs[\"tgt_acc\"].append(tgt_acc)\n",
        "    logs[\"grad_conflict\"].append(avg_conflict)\n",
        "\n",
        "    print(f\"\\nEpoch {epoch+1}:\")\n",
        "    print(f\"  Total Loss: {avg_loss:.4f}\")\n",
        "    print(f\"  Source Loss: {src_avg_loss:.4f}\")\n",
        "    print(f\"  Target Loss: {tgt_avg_loss:.4f}\")\n",
        "    print(f\"  Source Accuracy: {src_acc*100:.2f}%\")\n",
        "    print(f\"  Target Accuracy: {tgt_acc*100:.2f}%\")\n",
        "    print(f\"  Avg Gradient Cosine Similarity: {avg_conflict:.4f}\")\n",
        "\n",
        "print('\\n-----------------------------------------------------------------\\n')"
      ],
      "metadata": {
        "colab": {
          "base_uri": "https://localhost:8080/"
        },
        "id": "docN-ui0fe3E",
        "outputId": "2cb93098-a6bd-4393-cb0c-11b47c944ba1"
      },
      "execution_count": null,
      "outputs": [
        {
          "output_type": "stream",
          "name": "stdout",
          "text": [
            "-----------------------------------------------------------------\n",
            "Training Learnable Prompts on Source Domains\n",
            "\n"
          ]
        },
        {
          "output_type": "stream",
          "name": "stderr",
          "text": [
            " 10%|█         | 1/10 [01:04<09:40, 64.51s/it]"
          ]
        },
        {
          "output_type": "stream",
          "name": "stdout",
          "text": [
            "\n",
            "Epoch 1:\n",
            "  Total Loss: 3.8260\n",
            "  Source Loss: 1.9080\n",
            "  Target Loss: 1.9181\n",
            "  Source Accuracy: 95.27%\n",
            "  Target Accuracy: 80.66%\n",
            "  Avg Gradient Cosine Similarity: 0.9014\n"
          ]
        },
        {
          "output_type": "stream",
          "name": "stderr",
          "text": [
            "\r 20%|██        | 2/10 [02:04<08:14, 61.75s/it]"
          ]
        },
        {
          "output_type": "stream",
          "name": "stdout",
          "text": [
            "\n",
            "Epoch 2:\n",
            "  Total Loss: 3.7692\n",
            "  Source Loss: 1.8783\n",
            "  Target Loss: 1.8909\n",
            "  Source Accuracy: 99.64%\n",
            "  Target Accuracy: 93.34%\n",
            "  Avg Gradient Cosine Similarity: 0.8109\n"
          ]
        },
        {
          "output_type": "stream",
          "name": "stderr",
          "text": [
            "\r 30%|███       | 3/10 [03:03<07:03, 60.50s/it]"
          ]
        },
        {
          "output_type": "stream",
          "name": "stdout",
          "text": [
            "\n",
            "Epoch 3:\n",
            "  Total Loss: 3.7072\n",
            "  Source Loss: 1.8434\n",
            "  Target Loss: 1.8638\n",
            "  Source Accuracy: 99.76%\n",
            "  Target Accuracy: 95.93%\n",
            "  Avg Gradient Cosine Similarity: 0.8322\n"
          ]
        },
        {
          "output_type": "stream",
          "name": "stderr",
          "text": [
            "\r 40%|████      | 4/10 [04:02<05:59, 59.87s/it]"
          ]
        },
        {
          "output_type": "stream",
          "name": "stdout",
          "text": [
            "\n",
            "Epoch 4:\n",
            "  Total Loss: 3.6550\n",
            "  Source Loss: 1.8107\n",
            "  Target Loss: 1.8443\n",
            "  Source Accuracy: 99.76%\n",
            "  Target Accuracy: 96.52%\n",
            "  Avg Gradient Cosine Similarity: 0.8078\n"
          ]
        },
        {
          "output_type": "stream",
          "name": "stderr",
          "text": [
            "\r 50%|█████     | 5/10 [05:01<04:57, 59.56s/it]"
          ]
        },
        {
          "output_type": "stream",
          "name": "stdout",
          "text": [
            "\n",
            "Epoch 5:\n",
            "  Total Loss: 3.6113\n",
            "  Source Loss: 1.7827\n",
            "  Target Loss: 1.8286\n",
            "  Source Accuracy: 99.76%\n",
            "  Target Accuracy: 96.64%\n",
            "  Avg Gradient Cosine Similarity: 0.7696\n"
          ]
        },
        {
          "output_type": "stream",
          "name": "stderr",
          "text": [
            "\r 60%|██████    | 6/10 [06:00<03:57, 59.35s/it]"
          ]
        },
        {
          "output_type": "stream",
          "name": "stdout",
          "text": [
            "\n",
            "Epoch 6:\n",
            "  Total Loss: 3.5758\n",
            "  Source Loss: 1.7598\n",
            "  Target Loss: 1.8161\n",
            "  Source Accuracy: 99.82%\n",
            "  Target Accuracy: 96.82%\n",
            "  Avg Gradient Cosine Similarity: 0.7418\n"
          ]
        },
        {
          "output_type": "stream",
          "name": "stderr",
          "text": [
            "\r 70%|███████   | 7/10 [06:58<02:57, 59.17s/it]"
          ]
        },
        {
          "output_type": "stream",
          "name": "stdout",
          "text": [
            "\n",
            "Epoch 7:\n",
            "  Total Loss: 3.5451\n",
            "  Source Loss: 1.7403\n",
            "  Target Loss: 1.8048\n",
            "  Source Accuracy: 99.82%\n",
            "  Target Accuracy: 96.70%\n",
            "  Avg Gradient Cosine Similarity: 0.7452\n"
          ]
        },
        {
          "output_type": "stream",
          "name": "stderr",
          "text": [
            "\r 80%|████████  | 8/10 [07:58<01:58, 59.16s/it]"
          ]
        },
        {
          "output_type": "stream",
          "name": "stdout",
          "text": [
            "\n",
            "Epoch 8:\n",
            "  Total Loss: 3.5180\n",
            "  Source Loss: 1.7228\n",
            "  Target Loss: 1.7953\n",
            "  Source Accuracy: 99.88%\n",
            "  Target Accuracy: 96.05%\n",
            "  Avg Gradient Cosine Similarity: 0.7290\n"
          ]
        },
        {
          "output_type": "stream",
          "name": "stderr",
          "text": [
            "\r 90%|█████████ | 9/10 [08:56<00:59, 59.02s/it]"
          ]
        },
        {
          "output_type": "stream",
          "name": "stdout",
          "text": [
            "\n",
            "Epoch 9:\n",
            "  Total Loss: 3.4949\n",
            "  Source Loss: 1.7088\n",
            "  Target Loss: 1.7860\n",
            "  Source Accuracy: 99.58%\n",
            "  Target Accuracy: 95.64%\n",
            "  Avg Gradient Cosine Similarity: 0.7277\n"
          ]
        },
        {
          "output_type": "stream",
          "name": "stderr",
          "text": [
            "100%|██████████| 10/10 [09:55<00:00, 59.57s/it]"
          ]
        },
        {
          "output_type": "stream",
          "name": "stdout",
          "text": [
            "\n",
            "Epoch 10:\n",
            "  Total Loss: 3.4748\n",
            "  Source Loss: 1.6958\n",
            "  Target Loss: 1.7790\n",
            "  Source Accuracy: 99.64%\n",
            "  Target Accuracy: 95.46%\n",
            "  Avg Gradient Cosine Similarity: 0.7269\n",
            "\n",
            "-----------------------------------------------------------------\n",
            "\n"
          ]
        },
        {
          "output_type": "stream",
          "name": "stderr",
          "text": [
            "\n"
          ]
        }
      ]
    },
    {
      "cell_type": "code",
      "source": [
        "torch.cuda.manual_seed(42)\n",
        "torch.manual_seed(42)\n",
        "\n",
        "def get_flat_grads(model, only_ag=True):\n",
        "    grads = []\n",
        "    for name, p in model.named_parameters():\n",
        "        if p.grad is None:\n",
        "            continue\n",
        "        if only_ag and \"dom_ag_ctx\" not in name:\n",
        "            continue  # skip domain-specific grads\n",
        "        grads.append(p.grad.view(-1))\n",
        "    return torch.cat(grads) if grads else torch.tensor([], device=device)\n",
        "\n",
        "\n",
        "epochs = 10\n",
        "loss_fn = nn.CrossEntropyLoss()\n",
        "optimizer = torch.optim.Adam(learnable_prompts.parameters(), lr=1e-3)\n",
        "\n",
        "logs = {\n",
        "    \"epoch_loss\": [],\n",
        "    \"src_acc\": [],\n",
        "    \"tgt_acc\": [],\n",
        "    \"grad_conflict\": [],\n",
        "}\n",
        "\n",
        "print('-----------------------------------------------------------------')\n",
        "print(f\"Training Learnable Prompts on Source Domains\\n\")\n",
        "\n",
        "for epoch in tqdm(range(epochs)):\n",
        "    epoch_loss, src_total_loss, tgt_total_loss = 0.0, 0.0, 0.0\n",
        "    src_correct, tgt_correct = 0, 0\n",
        "    src_total, tgt_total = 0, 0\n",
        "    grad_conflicts = []\n",
        "\n",
        "    for (src_imgs, src_labels), (tgt_imgs, tgt_labels) in zip(source_loader, target_loader):\n",
        "\n",
        "        optimizer.zero_grad()\n",
        "\n",
        "        # ----- SOURCE -----\n",
        "        src_imgs, src_labels = src_imgs.to(device), src_labels.to(device)\n",
        "        src_img_feats = model.get_image_features(src_imgs)\n",
        "        src_img_feats = src_img_feats / src_img_feats.norm(dim=-1, keepdim=True)\n",
        "        src_txt_feats = create_text_features(model, processor, class_names, learnable_prompts, source_domain)\n",
        "        src_txt_feats = src_txt_feats / src_txt_feats.norm(dim=-1, keepdim=True)\n",
        "        src_sim = src_img_feats @ src_txt_feats.T\n",
        "        src_preds = src_sim.argmax(dim=1)\n",
        "        src_correct += (src_preds == src_labels).sum().item()\n",
        "        src_total += src_labels.size(0)\n",
        "        src_loss = loss_fn(src_sim, src_labels)\n",
        "\n",
        "        src_loss.backward(retain_graph=True)\n",
        "        src_grd = get_flat_grads(learnable_prompts).detach().clone()\n",
        "\n",
        "        # ----- TARGET -----\n",
        "        tgt_imgs, tgt_labels = tgt_imgs.to(device), tgt_labels.to(device)\n",
        "        tgt_img_feats = model.get_image_features(tgt_imgs)\n",
        "        tgt_img_feats = tgt_img_feats / tgt_img_feats.norm(dim=-1, keepdim=True)\n",
        "        tgt_txt_feats = create_text_features(model, processor, class_names, learnable_prompts, target_domain)\n",
        "        tgt_txt_feats = tgt_txt_feats / tgt_txt_feats.norm(dim=-1, keepdim=True)\n",
        "        tgt_sim = tgt_img_feats @ tgt_txt_feats.T\n",
        "        tgt_preds = tgt_sim.argmax(dim=1)\n",
        "        tgt_correct += (tgt_preds == tgt_labels).sum().item()\n",
        "        tgt_total += tgt_labels.size(0)\n",
        "        tgt_loss = loss_fn(tgt_sim, tgt_labels)\n",
        "\n",
        "        tgt_loss.backward(retain_graph=True)\n",
        "        tgt_grd = get_flat_grads(learnable_prompts).detach().clone()\n",
        "\n",
        "        # --- Gradient conflict ---\n",
        "        if len(src_grd) > 0 and len(tgt_grd) > 0:\n",
        "            conflict = F.cosine_similarity(src_grd.unsqueeze(0), tgt_grd.unsqueeze(0)).item()\n",
        "            grad_conflicts.append(conflict)\n",
        "        else:\n",
        "            grad_conflicts.append(0.0)\n",
        "\n",
        "        # --- Total loss & optimization ---\n",
        "        align_loss = 1 - F.cosine_similarity(src_grd.unsqueeze(0), tgt_grd.unsqueeze(0)).mean()\n",
        "        total_loss = src_loss + tgt_loss + 0.01 * align_loss\n",
        "        total_loss.backward()\n",
        "        optimizer.step()\n",
        "\n",
        "        epoch_loss += total_loss.item()\n",
        "        src_total_loss += src_loss.item()\n",
        "        tgt_total_loss += tgt_loss.item()\n",
        "\n",
        "    # --- Epoch averages ---\n",
        "    src_avg_loss = src_total_loss / len(source_loader)\n",
        "    tgt_avg_loss = tgt_total_loss / len(source_loader)\n",
        "    avg_loss = epoch_loss / len(source_loader)\n",
        "    src_acc = src_correct / src_total if src_total > 0 else 0\n",
        "    tgt_acc = tgt_correct / tgt_total if tgt_total > 0 else 0\n",
        "    avg_conflict = sum(grad_conflicts) / len(grad_conflicts)\n",
        "\n",
        "    # --- Logging ---\n",
        "    logs[\"epoch_loss\"].append(avg_loss)\n",
        "    logs[\"src_acc\"].append(src_acc)\n",
        "    logs[\"tgt_acc\"].append(tgt_acc)\n",
        "    logs[\"grad_conflict\"].append(avg_conflict)\n",
        "\n",
        "    print(f\"\\nEpoch {epoch+1}:\")\n",
        "    print(f\"  Total Loss: {avg_loss:.4f}\")\n",
        "    print(f\"  Source Loss: {src_avg_loss:.4f}\")\n",
        "    print(f\"  Target Loss: {tgt_avg_loss:.4f}\")\n",
        "    print(f\"  Source Accuracy: {src_acc*100:.2f}%\")\n",
        "    print(f\"  Target Accuracy: {tgt_acc*100:.2f}%\")\n",
        "    print(f\"  Avg Gradient Cosine Similarity: {avg_conflict:.4f}\")\n",
        "\n",
        "print('\\n-----------------------------------------------------------------\\n')"
      ],
      "metadata": {
        "colab": {
          "base_uri": "https://localhost:8080/"
        },
        "id": "V1bMQgxCjBUY",
        "outputId": "3a89febb-3000-43cd-950a-601d7ef580a7"
      },
      "execution_count": null,
      "outputs": [
        {
          "output_type": "stream",
          "name": "stdout",
          "text": [
            "-----------------------------------------------------------------\n",
            "Training Learnable Prompts on Source Domains\n",
            "\n"
          ]
        },
        {
          "output_type": "stream",
          "name": "stderr",
          "text": [
            " 10%|█         | 1/10 [01:01<09:15, 61.76s/it]"
          ]
        },
        {
          "output_type": "stream",
          "name": "stdout",
          "text": [
            "\n",
            "Epoch 1:\n",
            "  Total Loss: 3.8213\n",
            "  Source Loss: 1.9080\n",
            "  Target Loss: 1.9121\n",
            "  Source Accuracy: 95.09%\n",
            "  Target Accuracy: 80.90%\n",
            "  Avg Gradient Cosine Similarity: 0.8904\n"
          ]
        },
        {
          "output_type": "stream",
          "name": "stderr",
          "text": [
            "\r 20%|██        | 2/10 [02:00<07:59, 59.98s/it]"
          ]
        },
        {
          "output_type": "stream",
          "name": "stdout",
          "text": [
            "\n",
            "Epoch 2:\n",
            "  Total Loss: 3.7669\n",
            "  Source Loss: 1.8786\n",
            "  Target Loss: 1.8867\n",
            "  Source Accuracy: 99.52%\n",
            "  Target Accuracy: 85.44%\n",
            "  Avg Gradient Cosine Similarity: 0.8398\n"
          ]
        },
        {
          "output_type": "stream",
          "name": "stderr",
          "text": [
            "\r 30%|███       | 3/10 [02:59<06:55, 59.40s/it]"
          ]
        },
        {
          "output_type": "stream",
          "name": "stdout",
          "text": [
            "\n",
            "Epoch 3:\n",
            "  Total Loss: 3.7037\n",
            "  Source Loss: 1.8440\n",
            "  Target Loss: 1.8578\n",
            "  Source Accuracy: 99.82%\n",
            "  Target Accuracy: 85.20%\n",
            "  Avg Gradient Cosine Similarity: 0.8078\n"
          ]
        },
        {
          "output_type": "stream",
          "name": "stderr",
          "text": [
            "\r 40%|████      | 4/10 [03:58<05:54, 59.16s/it]"
          ]
        },
        {
          "output_type": "stream",
          "name": "stdout",
          "text": [
            "\n",
            "Epoch 4:\n",
            "  Total Loss: 3.6459\n",
            "  Source Loss: 1.8112\n",
            "  Target Loss: 1.8326\n",
            "  Source Accuracy: 99.82%\n",
            "  Target Accuracy: 81.78%\n",
            "  Avg Gradient Cosine Similarity: 0.7952\n"
          ]
        },
        {
          "output_type": "stream",
          "name": "stderr",
          "text": [
            "\r 50%|█████     | 5/10 [04:56<04:55, 59.06s/it]"
          ]
        },
        {
          "output_type": "stream",
          "name": "stdout",
          "text": [
            "\n",
            "Epoch 5:\n",
            "  Total Loss: 3.5995\n",
            "  Source Loss: 1.7837\n",
            "  Target Loss: 1.8136\n",
            "  Source Accuracy: 99.82%\n",
            "  Target Accuracy: 81.78%\n",
            "  Avg Gradient Cosine Similarity: 0.7761\n"
          ]
        },
        {
          "output_type": "stream",
          "name": "stderr",
          "text": [
            "\r 60%|██████    | 6/10 [05:55<03:56, 59.01s/it]"
          ]
        },
        {
          "output_type": "stream",
          "name": "stdout",
          "text": [
            "\n",
            "Epoch 6:\n",
            "  Total Loss: 3.5599\n",
            "  Source Loss: 1.7608\n",
            "  Target Loss: 1.7967\n",
            "  Source Accuracy: 99.82%\n",
            "  Target Accuracy: 81.37%\n",
            "  Avg Gradient Cosine Similarity: 0.7583\n"
          ]
        },
        {
          "output_type": "stream",
          "name": "stderr",
          "text": [
            "\r 70%|███████   | 7/10 [06:54<02:57, 59.01s/it]"
          ]
        },
        {
          "output_type": "stream",
          "name": "stdout",
          "text": [
            "\n",
            "Epoch 7:\n",
            "  Total Loss: 3.5295\n",
            "  Source Loss: 1.7417\n",
            "  Target Loss: 1.7853\n",
            "  Source Accuracy: 99.76%\n",
            "  Target Accuracy: 80.84%\n",
            "  Avg Gradient Cosine Similarity: 0.7413\n"
          ]
        },
        {
          "output_type": "stream",
          "name": "stderr",
          "text": [
            "\r 80%|████████  | 8/10 [07:53<01:57, 58.93s/it]"
          ]
        },
        {
          "output_type": "stream",
          "name": "stdout",
          "text": [
            "\n",
            "Epoch 8:\n",
            "  Total Loss: 3.5008\n",
            "  Source Loss: 1.7244\n",
            "  Target Loss: 1.7738\n",
            "  Source Accuracy: 99.88%\n",
            "  Target Accuracy: 78.24%\n",
            "  Avg Gradient Cosine Similarity: 0.7423\n"
          ]
        },
        {
          "output_type": "stream",
          "name": "stderr",
          "text": [
            "\r 90%|█████████ | 9/10 [08:52<00:59, 59.01s/it]"
          ]
        },
        {
          "output_type": "stream",
          "name": "stdout",
          "text": [
            "\n",
            "Epoch 9:\n",
            "  Total Loss: 3.4786\n",
            "  Source Loss: 1.7107\n",
            "  Target Loss: 1.7650\n",
            "  Source Accuracy: 99.76%\n",
            "  Target Accuracy: 76.47%\n",
            "  Avg Gradient Cosine Similarity: 0.7113\n"
          ]
        },
        {
          "output_type": "stream",
          "name": "stderr",
          "text": [
            "100%|██████████| 10/10 [09:51<00:00, 59.19s/it]"
          ]
        },
        {
          "output_type": "stream",
          "name": "stdout",
          "text": [
            "\n",
            "Epoch 10:\n",
            "  Total Loss: 3.4508\n",
            "  Source Loss: 1.6982\n",
            "  Target Loss: 1.7497\n",
            "  Source Accuracy: 99.64%\n",
            "  Target Accuracy: 77.36%\n",
            "  Avg Gradient Cosine Similarity: 0.7121\n",
            "\n",
            "-----------------------------------------------------------------\n",
            "\n"
          ]
        },
        {
          "output_type": "stream",
          "name": "stderr",
          "text": [
            "\n"
          ]
        }
      ]
    },
    {
      "cell_type": "code",
      "source": [
        "import json\n",
        "import matplotlib.pyplot as plt\n",
        "\n",
        "# --- Load logs ---\n",
        "with open(\"training_logs.json\", \"r\") as f:\n",
        "    logs = json.load(f)\n",
        "\n",
        "epochs = range(1, len(logs[\"epoch_loss\"]) + 1)\n",
        "\n",
        "# --- Plot Loss ---\n",
        "plt.figure(figsize=(6, 4))\n",
        "plt.plot(epochs, logs[\"epoch_loss\"], marker='o')\n",
        "plt.title(\"Training Loss per Epoch\")\n",
        "plt.xlabel(\"Epoch\")\n",
        "plt.ylabel(\"Total Loss\")\n",
        "plt.grid(True, linestyle='--', alpha=0.5)\n",
        "plt.tight_layout()\n",
        "plt.show()\n",
        "\n",
        "# --- Plot Source vs Target Accuracy ---\n",
        "plt.figure(figsize=(6, 4))\n",
        "plt.plot(epochs, logs[\"src_acc\"], marker='o', label='Source Accuracy')\n",
        "plt.plot(epochs, logs[\"tgt_acc\"], marker='o', label='Target Accuracy')\n",
        "plt.title(\"Accuracy per Epoch\")\n",
        "plt.xlabel(\"Epoch\")\n",
        "plt.ylabel(\"Accuracy\")\n",
        "plt.legend()\n",
        "plt.grid(True, linestyle='--', alpha=0.5)\n",
        "plt.tight_layout()\n",
        "plt.show()\n",
        "\n",
        "# --- Plot Gradient Cosine Similarity ---\n",
        "plt.figure(figsize=(6, 4))\n",
        "plt.plot(epochs, logs[\"grad_conflict\"], marker='o', color='orange')\n",
        "plt.title(\"Gradient Cosine Similarity per Epoch\")\n",
        "plt.xlabel(\"Epoch\")\n",
        "plt.ylabel(\"Cosine Similarity\")\n",
        "plt.grid(True, linestyle='--', alpha=0.5)\n",
        "plt.tight_layout()\n",
        "plt.show()"
      ],
      "metadata": {
        "colab": {
          "base_uri": "https://localhost:8080/",
          "height": 1000
        },
        "id": "4lojA6YRmcfV",
        "outputId": "dcc7c16b-bece-43fa-e875-55478bbf86df"
      },
      "execution_count": null,
      "outputs": [
        {
          "output_type": "display_data",
          "data": {
            "text/plain": [
              "<Figure size 600x400 with 1 Axes>"
            ],
            "image/png": "[encoded data removed]"
          },
          "metadata": {}
        },
        {
          "output_type": "display_data",
          "data": {
            "text/plain": [
              "<Figure size 600x400 with 1 Axes>"
            ],
            "image/png": "[encoded data removed]"
          },
          "metadata": {}
        },
        {
          "output_type": "display_data",
          "data": {
            "text/plain": [
              "<Figure size 600x400 with 1 Axes>"
            ],
            "image/png": "[encoded data removed]"
          },
          "metadata": {}
        }
      ]
    },
    {
      "cell_type": "code",
      "source": [
        "torch.cuda.manual_seed(42)\n",
        "torch.manual_seed(42)\n",
        "\n",
        "def get_flat_grads(model, only_ag=True):\n",
        "    grads = []\n",
        "    for name, p in model.named_parameters():\n",
        "        if p.grad is None:\n",
        "            continue\n",
        "        if only_ag and \"dom_ag_ctx\" not in name:\n",
        "            continue  # skip domain-specific grads\n",
        "        grads.append(p.grad.view(-1))\n",
        "    return torch.cat(grads) if grads else torch.tensor([], device=device)\n",
        "\n",
        "\n",
        "# --- Training Settings ---\n",
        "epochs = 10\n",
        "loss_fn = nn.CrossEntropyLoss()\n",
        "optimizer = torch.optim.Adam(learnable_prompts.parameters(), lr=1e-3)\n",
        "\n",
        "# --- Logging dictionaries ---\n",
        "logs2 = {\n",
        "    \"epoch_loss\": [],\n",
        "    \"src_acc\": [],\n",
        "    \"tgt_acc\": [],\n",
        "    \"grad_conflict\": [],\n",
        "}\n",
        "\n",
        "print('-----------------------------------------------------------------')\n",
        "print(f\"Training Learnable Prompts on Source Domains\\n\")\n",
        "\n",
        "for epoch in tqdm(range(epochs)):\n",
        "    epoch_loss = 0.0\n",
        "    src_correct, tgt_correct = 0, 0\n",
        "    src_total, tgt_total = 0, 0\n",
        "    grad_conflicts = []\n",
        "\n",
        "    for (src_imgs, src_labels), (tgt_imgs, tgt_labels) in zip(source_loader, target_loader):\n",
        "\n",
        "        optimizer.zero_grad()\n",
        "\n",
        "        # ----- SOURCE -----\n",
        "        src_imgs, src_labels = src_imgs.to(device), src_labels.to(device)\n",
        "        src_img_feats = model.get_image_features(src_imgs)\n",
        "        src_img_feats = src_img_feats / src_img_feats.norm(dim=-1, keepdim=True)\n",
        "        src_txt_feats = create_text_features(model, processor, class_names, learnable_prompts, source_domain)\n",
        "        src_txt_feats = src_txt_feats / src_txt_feats.norm(dim=-1, keepdim=True)\n",
        "        src_sim = src_img_feats @ src_txt_feats.T\n",
        "        src_preds = src_sim.argmax(dim=1)\n",
        "        src_correct += (src_preds == src_labels).sum().item()\n",
        "        src_total += src_labels.size(0)\n",
        "        src_loss = loss_fn(src_sim, src_labels)\n",
        "\n",
        "        src_loss.backward(retain_graph=True)\n",
        "        src_grd = get_flat_grads(learnable_prompts).detach().clone()\n",
        "\n",
        "        # ----- TARGET -----\n",
        "        tgt_imgs, tgt_labels = tgt_imgs.to(device), tgt_labels.to(device)\n",
        "        tgt_img_feats = model.get_image_features(tgt_imgs)\n",
        "        tgt_img_feats = tgt_img_feats / tgt_img_feats.norm(dim=-1, keepdim=True)\n",
        "        tgt_txt_feats = create_text_features(model, processor, class_names, learnable_prompts, target_domain)\n",
        "        tgt_txt_feats = tgt_txt_feats / tgt_txt_feats.norm(dim=-1, keepdim=True)\n",
        "        tgt_sim = tgt_img_feats @ tgt_txt_feats.T\n",
        "        tgt_preds = tgt_sim.argmax(dim=1)\n",
        "        tgt_correct += (tgt_preds == tgt_labels).sum().item()\n",
        "        tgt_total += tgt_labels.size(0)\n",
        "        tgt_loss = loss_fn(tgt_sim, tgt_labels)\n",
        "\n",
        "        tgt_loss.backward(retain_graph=True)\n",
        "        tgt_grd = get_flat_grads(learnable_prompts).detach().clone()\n",
        "\n",
        "        # --- Gradient conflict ---\n",
        "        if len(src_grd) > 0 and len(tgt_grd) > 0:\n",
        "            conflict = F.cosine_similarity(src_grd.unsqueeze(0), tgt_grd.unsqueeze(0)).item()\n",
        "            grad_conflicts.append(conflict)\n",
        "        else:\n",
        "            grad_conflicts.append(0.0)\n",
        "\n",
        "        # --- Total loss & optimization ---\n",
        "        total_loss = src_loss + tgt_loss\n",
        "        total_loss.backward()\n",
        "        optimizer.step()\n",
        "\n",
        "        epoch_loss += total_loss.item()\n",
        "\n",
        "    # --- Epoch averages ---\n",
        "    avg_loss = epoch_loss / len(source_loader)\n",
        "    src_acc = src_correct / src_total if src_total > 0 else 0\n",
        "    tgt_acc = tgt_correct / tgt_total if tgt_total > 0 else 0\n",
        "    avg_conflict = sum(grad_conflicts) / len(grad_conflicts)\n",
        "\n",
        "    # --- Logging ---\n",
        "    logs2[\"epoch_loss\"].append(avg_loss)\n",
        "    logs2[\"src_acc\"].append(src_acc)\n",
        "    logs2[\"tgt_acc\"].append(tgt_acc)\n",
        "    logs2[\"grad_conflict\"].append(avg_conflict)\n",
        "\n",
        "    print(f\"\\nEpoch {epoch+11}:\")\n",
        "    print(f\"  Total Loss: {avg_loss:.4f}\")\n",
        "    print(f\"  Source Accuracy: {src_acc*100:.2f}%\")\n",
        "    print(f\"  Target Accuracy: {tgt_acc*100:.2f}%\")\n",
        "    print(f\"  Avg Gradient Cosine Similarity: {avg_conflict:.4f}\")\n",
        "\n",
        "print('\\n-----------------------------------------------------------------\\n')\n",
        "\n",
        "# Save logs for later plotting\n",
        "import json\n",
        "with open(\"training_logs2.json\", \"w\") as f:\n",
        "    json.dump(logs2, f, indent=2)"
      ],
      "metadata": {
        "colab": {
          "base_uri": "https://localhost:8080/"
        },
        "id": "-660YWmcnFLP",
        "outputId": "6eb556a2-808c-47f7-c152-bbc39d0eb1f8"
      },
      "execution_count": null,
      "outputs": [
        {
          "output_type": "stream",
          "name": "stdout",
          "text": [
            "-----------------------------------------------------------------\n",
            "Training Learnable Prompts on Source Domains\n",
            "\n"
          ]
        },
        {
          "output_type": "stream",
          "name": "stderr",
          "text": [
            " 10%|█         | 1/10 [01:00<09:08, 60.97s/it]"
          ]
        },
        {
          "output_type": "stream",
          "name": "stdout",
          "text": [
            "\n",
            "Epoch 11:\n",
            "  Total Loss: 3.4275\n",
            "  Source Accuracy: 99.46%\n",
            "  Target Accuracy: 70.40%\n",
            "  Avg Gradient Cosine Similarity: 0.8368\n"
          ]
        },
        {
          "output_type": "stream",
          "name": "stderr",
          "text": [
            "\r 20%|██        | 2/10 [02:01<08:05, 60.64s/it]"
          ]
        },
        {
          "output_type": "stream",
          "name": "stdout",
          "text": [
            "\n",
            "Epoch 12:\n",
            "  Total Loss: 3.4114\n",
            "  Source Accuracy: 99.34%\n",
            "  Target Accuracy: 69.10%\n",
            "  Avg Gradient Cosine Similarity: 0.8087\n"
          ]
        },
        {
          "output_type": "stream",
          "name": "stderr",
          "text": [
            "\r 30%|███       | 3/10 [03:01<07:02, 60.31s/it]"
          ]
        },
        {
          "output_type": "stream",
          "name": "stdout",
          "text": [
            "\n",
            "Epoch 13:\n",
            "  Total Loss: 3.3966\n",
            "  Source Accuracy: 99.34%\n",
            "  Target Accuracy: 68.40%\n",
            "  Avg Gradient Cosine Similarity: 0.7998\n"
          ]
        },
        {
          "output_type": "stream",
          "name": "stderr",
          "text": [
            "\r 40%|████      | 4/10 [04:01<06:02, 60.41s/it]"
          ]
        },
        {
          "output_type": "stream",
          "name": "stdout",
          "text": [
            "\n",
            "Epoch 14:\n",
            "  Total Loss: 3.3888\n",
            "  Source Accuracy: 99.52%\n",
            "  Target Accuracy: 68.75%\n",
            "  Avg Gradient Cosine Similarity: 0.7732\n"
          ]
        },
        {
          "output_type": "stream",
          "name": "stderr",
          "text": [
            "\r 50%|█████     | 5/10 [05:02<05:01, 60.40s/it]"
          ]
        },
        {
          "output_type": "stream",
          "name": "stdout",
          "text": [
            "\n",
            "Epoch 15:\n",
            "  Total Loss: 3.3813\n",
            "  Source Accuracy: 99.52%\n",
            "  Target Accuracy: 69.58%\n",
            "  Avg Gradient Cosine Similarity: 0.8085\n"
          ]
        },
        {
          "output_type": "stream",
          "name": "stderr",
          "text": [
            "\r 60%|██████    | 6/10 [06:02<04:01, 60.32s/it]"
          ]
        },
        {
          "output_type": "stream",
          "name": "stdout",
          "text": [
            "\n",
            "Epoch 16:\n",
            "  Total Loss: 3.3674\n",
            "  Source Accuracy: 99.46%\n",
            "  Target Accuracy: 70.52%\n",
            "  Avg Gradient Cosine Similarity: 0.8131\n"
          ]
        },
        {
          "output_type": "stream",
          "name": "stderr",
          "text": [
            "\r 70%|███████   | 7/10 [07:02<03:00, 60.23s/it]"
          ]
        },
        {
          "output_type": "stream",
          "name": "stdout",
          "text": [
            "\n",
            "Epoch 17:\n",
            "  Total Loss: 3.3629\n",
            "  Source Accuracy: 99.46%\n",
            "  Target Accuracy: 71.17%\n",
            "  Avg Gradient Cosine Similarity: 0.7656\n"
          ]
        },
        {
          "output_type": "stream",
          "name": "stderr",
          "text": [
            "\r 80%|████████  | 8/10 [08:02<02:00, 60.18s/it]"
          ]
        },
        {
          "output_type": "stream",
          "name": "stdout",
          "text": [
            "\n",
            "Epoch 18:\n",
            "  Total Loss: 3.3538\n",
            "  Source Accuracy: 99.52%\n",
            "  Target Accuracy: 68.93%\n",
            "  Avg Gradient Cosine Similarity: 0.8366\n"
          ]
        },
        {
          "output_type": "stream",
          "name": "stderr",
          "text": [
            "\r 90%|█████████ | 9/10 [09:02<01:00, 60.15s/it]"
          ]
        },
        {
          "output_type": "stream",
          "name": "stdout",
          "text": [
            "\n",
            "Epoch 19:\n",
            "  Total Loss: 3.3548\n",
            "  Source Accuracy: 99.58%\n",
            "  Target Accuracy: 67.75%\n",
            "  Avg Gradient Cosine Similarity: 0.8179\n"
          ]
        },
        {
          "output_type": "stream",
          "name": "stderr",
          "text": [
            "100%|██████████| 10/10 [10:02<00:00, 60.26s/it]"
          ]
        },
        {
          "output_type": "stream",
          "name": "stdout",
          "text": [
            "\n",
            "Epoch 20:\n",
            "  Total Loss: 3.3385\n",
            "  Source Accuracy: 99.46%\n",
            "  Target Accuracy: 69.10%\n",
            "  Avg Gradient Cosine Similarity: 0.8284\n",
            "\n",
            "-----------------------------------------------------------------\n",
            "\n"
          ]
        },
        {
          "output_type": "stream",
          "name": "stderr",
          "text": [
            "\n"
          ]
        }
      ]
    },
    {
      "cell_type": "code",
      "source": [
        "import json\n",
        "import matplotlib.pyplot as plt\n",
        "\n",
        "# --- Load logs ---\n",
        "with open(\"training_logs2.json\", \"r\") as f:\n",
        "    logs = json.load(f)\n",
        "\n",
        "epochs = range(1, len(logs[\"epoch_loss\"]) + 1)\n",
        "\n",
        "# --- Plot Loss ---\n",
        "plt.figure(figsize=(6, 4))\n",
        "plt.plot(epochs, logs[\"epoch_loss\"], marker='o')\n",
        "plt.title(\"Training Loss per Epoch\")\n",
        "plt.xlabel(\"Epoch\")\n",
        "plt.ylabel(\"Total Loss\")\n",
        "plt.grid(True, linestyle='--', alpha=0.5)\n",
        "plt.tight_layout()\n",
        "plt.show()\n",
        "\n",
        "# --- Plot Source vs Target Accuracy ---\n",
        "plt.figure(figsize=(6, 4))\n",
        "plt.plot(epochs, logs[\"src_acc\"], marker='o', label='Source Accuracy')\n",
        "plt.plot(epochs, logs[\"tgt_acc\"], marker='o', label='Target Accuracy')\n",
        "plt.title(\"Accuracy per Epoch\")\n",
        "plt.xlabel(\"Epoch\")\n",
        "plt.ylabel(\"Accuracy\")\n",
        "plt.legend()\n",
        "plt.grid(True, linestyle='--', alpha=0.5)\n",
        "plt.tight_layout()\n",
        "plt.show()\n",
        "\n",
        "# --- Plot Gradient Cosine Similarity ---\n",
        "plt.figure(figsize=(6, 4))\n",
        "plt.plot(epochs, logs[\"grad_conflict\"], marker='o', color='orange')\n",
        "plt.title(\"Gradient Cosine Similarity per Epoch\")\n",
        "plt.xlabel(\"Epoch\")\n",
        "plt.ylabel(\"Cosine Similarity\")\n",
        "plt.grid(True, linestyle='--', alpha=0.5)\n",
        "plt.tight_layout()\n",
        "plt.show()"
      ],
      "metadata": {
        "colab": {
          "base_uri": "https://localhost:8080/",
          "height": 1000
        },
        "id": "U4LofdlTpujl",
        "outputId": "e9bd2ad4-c277-4333-ddcc-69834555294a"
      },
      "execution_count": null,
      "outputs": [
        {
          "output_type": "display_data",
          "data": {
            "text/plain": [
              "<Figure size 600x400 with 1 Axes>"
            ],
            "image/png": "[encoded data removed]"
          },
          "metadata": {}
        },
        {
          "output_type": "display_data",
          "data": {
            "text/plain": [
              "<Figure size 600x400 with 1 Axes>"
            ],
            "image/png": "[encoded data removed]"
          },
          "metadata": {}
        },
        {
          "output_type": "display_data",
          "data": {
            "text/plain": [
              "<Figure size 600x400 with 1 Axes>"
            ],
            "image/png": "[encoded data removed]"
          },
          "metadata": {}
        }
      ]
    },
    {
      "cell_type": "code",
      "source": [
        "torch.cuda.manual_seed(42)\n",
        "torch.manual_seed(42)\n",
        "\n",
        "def get_flat_grads(model, only_ag=True):\n",
        "    grads = []\n",
        "    for name, p in model.named_parameters():\n",
        "        if p.grad is None:\n",
        "            continue\n",
        "        if only_ag and \"dom_ag_ctx\" not in name:\n",
        "            continue  # skip domain-specific grads\n",
        "        grads.append(p.grad.view(-1))\n",
        "    return torch.cat(grads) if grads else torch.tensor([], device=device)\n",
        "\n",
        "\n",
        "# --- Training Settings ---\n",
        "epochs = 15\n",
        "loss_fn = nn.CrossEntropyLoss()\n",
        "optimizer = torch.optim.Adam(learnable_prompts.parameters(), lr=1e-3)\n",
        "\n",
        "# --- Logging dictionaries ---\n",
        "logs3 = {\n",
        "    \"epoch_loss\": [],\n",
        "    \"src_acc\": [],\n",
        "    \"tgt_acc\": [],\n",
        "    \"grad_conflict\": [],\n",
        "}\n",
        "\n",
        "print('-----------------------------------------------------------------')\n",
        "print(f\"Training Learnable Prompts on Source Domains With Alignment Loss\\n\")\n",
        "\n",
        "for epoch in tqdm(range(epochs)):\n",
        "    epoch_loss = 0.0\n",
        "    src_correct, tgt_correct = 0, 0\n",
        "    src_total, tgt_total = 0, 0\n",
        "    grad_conflicts = []\n",
        "\n",
        "    for (src_imgs, src_labels), (tgt_imgs, tgt_labels) in zip(source_loader, target_loader):\n",
        "\n",
        "        optimizer.zero_grad()\n",
        "\n",
        "        # ----- SOURCE -----\n",
        "        src_imgs, src_labels = src_imgs.to(device), src_labels.to(device)\n",
        "        src_img_feats = model.get_image_features(src_imgs)\n",
        "        src_img_feats = src_img_feats / src_img_feats.norm(dim=-1, keepdim=True)\n",
        "        src_txt_feats = create_text_features(model, processor, class_names, learnable_prompts, source_domain)\n",
        "        src_txt_feats = src_txt_feats / src_txt_feats.norm(dim=-1, keepdim=True)\n",
        "        src_sim = src_img_feats @ src_txt_feats.T\n",
        "        src_preds = src_sim.argmax(dim=1)\n",
        "        src_correct += (src_preds == src_labels).sum().item()\n",
        "        src_total += src_labels.size(0)\n",
        "        src_loss = loss_fn(src_sim, src_labels)\n",
        "\n",
        "        src_loss.backward(retain_graph=True)\n",
        "        src_grd = get_flat_grads(learnable_prompts).detach().clone()\n",
        "\n",
        "        # ----- TARGET -----\n",
        "        tgt_imgs, tgt_labels = tgt_imgs.to(device), tgt_labels.to(device)\n",
        "        tgt_img_feats = model.get_image_features(tgt_imgs)\n",
        "        tgt_img_feats = tgt_img_feats / tgt_img_feats.norm(dim=-1, keepdim=True)\n",
        "        tgt_txt_feats = create_text_features(model, processor, class_names, learnable_prompts, target_domain)\n",
        "        tgt_txt_feats = tgt_txt_feats / tgt_txt_feats.norm(dim=-1, keepdim=True)\n",
        "        tgt_sim = tgt_img_feats @ tgt_txt_feats.T\n",
        "        tgt_preds = tgt_sim.argmax(dim=1)\n",
        "        tgt_correct += (tgt_preds == tgt_labels).sum().item()\n",
        "        tgt_total += tgt_labels.size(0)\n",
        "        tgt_loss = loss_fn(tgt_sim, tgt_labels)\n",
        "\n",
        "        tgt_loss.backward(retain_graph=True)\n",
        "        tgt_grd = get_flat_grads(learnable_prompts).detach().clone()\n",
        "\n",
        "        # --- Gradient conflict ---\n",
        "        if len(src_grd) > 0 and len(tgt_grd) > 0:\n",
        "            conflict = F.cosine_similarity(src_grd.unsqueeze(0), tgt_grd.unsqueeze(0)).item()\n",
        "            grad_conflicts.append(conflict)\n",
        "        else:\n",
        "            grad_conflicts.append(0.0)\n",
        "\n",
        "        # --- Total loss & optimization ---\n",
        "        align_loss = 1 - F.cosine_similarity(src_grd.unsqueeze(0), tgt_grd.unsqueeze(0)).mean()\n",
        "        total_loss = src_loss + tgt_loss + 0.01 * align_loss\n",
        "\n",
        "        total_loss.backward()\n",
        "        optimizer.step()\n",
        "\n",
        "        epoch_loss += total_loss.item()\n",
        "\n",
        "    # --- Epoch averages ---\n",
        "    avg_loss = epoch_loss / len(source_loader)\n",
        "    src_acc = src_correct / src_total if src_total > 0 else 0\n",
        "    tgt_acc = tgt_correct / tgt_total if tgt_total > 0 else 0\n",
        "    avg_conflict = sum(grad_conflicts) / len(grad_conflicts)\n",
        "\n",
        "    # --- Logging ---\n",
        "    logs3[\"epoch_loss\"].append(avg_loss)\n",
        "    logs3[\"src_acc\"].append(src_acc)\n",
        "    logs3[\"tgt_acc\"].append(tgt_acc)\n",
        "    logs3[\"grad_conflict\"].append(avg_conflict)\n",
        "\n",
        "    print(f\"\\nEpoch {epoch+11}:\")\n",
        "    print(f\"  Total Loss: {avg_loss:.4f}\")\n",
        "    print(f\"  Source Accuracy: {src_acc*100:.2f}%\")\n",
        "    print(f\"  Target Accuracy: {tgt_acc*100:.2f}%\")\n",
        "    print(f\"  Avg Gradient Cosine Similarity: {avg_conflict:.4f}\")\n",
        "\n",
        "print('\\n-----------------------------------------------------------------\\n')\n",
        "\n",
        "# Save logs for later plotting\n",
        "import json\n",
        "with open(\"training_logs3.json\", \"w\") as f:\n",
        "    json.dump(logs3, f, indent=2)"
      ],
      "metadata": {
        "colab": {
          "base_uri": "https://localhost:8080/"
        },
        "id": "8jrhNonHqAfH",
        "outputId": "48d67fca-bc65-4f75-ea75-c92f6500a488"
      },
      "execution_count": null,
      "outputs": [
        {
          "output_type": "stream",
          "name": "stdout",
          "text": [
            "-----------------------------------------------------------------\n",
            "Training Learnable Prompts on Source Domains With Alignment Loss\n",
            "\n"
          ]
        },
        {
          "output_type": "stream",
          "name": "stderr",
          "text": [
            "  7%|▋         | 1/15 [01:04<15:04, 64.58s/it]"
          ]
        },
        {
          "output_type": "stream",
          "name": "stdout",
          "text": [
            "\n",
            "Epoch 11:\n",
            "  Total Loss: 3.9298\n",
            "  Source Accuracy: 95.09%\n",
            "  Target Accuracy: 80.90%\n",
            "  Avg Gradient Cosine Similarity: 0.8904\n"
          ]
        },
        {
          "output_type": "stream",
          "name": "stderr",
          "text": [
            "\r 13%|█▎        | 2/15 [02:04<13:27, 62.08s/it]"
          ]
        },
        {
          "output_type": "stream",
          "name": "stdout",
          "text": [
            "\n",
            "Epoch 12:\n",
            "  Total Loss: 3.9254\n",
            "  Source Accuracy: 99.52%\n",
            "  Target Accuracy: 85.44%\n",
            "  Avg Gradient Cosine Similarity: 0.8398\n"
          ]
        },
        {
          "output_type": "stream",
          "name": "stderr",
          "text": [
            "\r 20%|██        | 3/15 [03:05<12:14, 61.20s/it]"
          ]
        },
        {
          "output_type": "stream",
          "name": "stdout",
          "text": [
            "\n",
            "Epoch 13:\n",
            "  Total Loss: 3.8940\n",
            "  Source Accuracy: 99.82%\n",
            "  Target Accuracy: 85.20%\n",
            "  Avg Gradient Cosine Similarity: 0.8078\n"
          ]
        },
        {
          "output_type": "stream",
          "name": "stderr",
          "text": [
            "\r 27%|██▋       | 4/15 [04:05<11:08, 60.80s/it]"
          ]
        },
        {
          "output_type": "stream",
          "name": "stdout",
          "text": [
            "\n",
            "Epoch 14:\n",
            "  Total Loss: 3.8487\n",
            "  Source Accuracy: 99.82%\n",
            "  Target Accuracy: 81.78%\n",
            "  Avg Gradient Cosine Similarity: 0.7952\n"
          ]
        },
        {
          "output_type": "stream",
          "name": "stderr",
          "text": [
            "\r 33%|███▎      | 5/15 [05:05<10:07, 60.76s/it]"
          ]
        },
        {
          "output_type": "stream",
          "name": "stdout",
          "text": [
            "\n",
            "Epoch 15:\n",
            "  Total Loss: 3.8212\n",
            "  Source Accuracy: 99.82%\n",
            "  Target Accuracy: 81.78%\n",
            "  Avg Gradient Cosine Similarity: 0.7761\n"
          ]
        },
        {
          "output_type": "stream",
          "name": "stderr",
          "text": [
            "\r 40%|████      | 6/15 [06:07<09:10, 61.13s/it]"
          ]
        },
        {
          "output_type": "stream",
          "name": "stdout",
          "text": [
            "\n",
            "Epoch 16:\n",
            "  Total Loss: 3.7992\n",
            "  Source Accuracy: 99.82%\n",
            "  Target Accuracy: 81.37%\n",
            "  Avg Gradient Cosine Similarity: 0.7583\n"
          ]
        },
        {
          "output_type": "stream",
          "name": "stderr",
          "text": [
            "\r 47%|████▋     | 7/15 [07:08<08:06, 60.84s/it]"
          ]
        },
        {
          "output_type": "stream",
          "name": "stdout",
          "text": [
            "\n",
            "Epoch 17:\n",
            "  Total Loss: 3.7856\n",
            "  Source Accuracy: 99.76%\n",
            "  Target Accuracy: 80.84%\n",
            "  Avg Gradient Cosine Similarity: 0.7413\n"
          ]
        },
        {
          "output_type": "stream",
          "name": "stderr",
          "text": [
            "\r 53%|█████▎    | 8/15 [08:08<07:04, 60.67s/it]"
          ]
        },
        {
          "output_type": "stream",
          "name": "stdout",
          "text": [
            "\n",
            "Epoch 18:\n",
            "  Total Loss: 3.7559\n",
            "  Source Accuracy: 99.88%\n",
            "  Target Accuracy: 78.24%\n",
            "  Avg Gradient Cosine Similarity: 0.7423\n"
          ]
        },
        {
          "output_type": "stream",
          "name": "stderr",
          "text": [
            "\r 60%|██████    | 9/15 [09:08<06:03, 60.54s/it]"
          ]
        },
        {
          "output_type": "stream",
          "name": "stdout",
          "text": [
            "\n",
            "Epoch 19:\n",
            "  Total Loss: 3.7644\n",
            "  Source Accuracy: 99.76%\n",
            "  Target Accuracy: 76.47%\n",
            "  Avg Gradient Cosine Similarity: 0.7113\n"
          ]
        },
        {
          "output_type": "stream",
          "name": "stderr",
          "text": [
            "\r 67%|██████▋   | 10/15 [10:13<05:09, 61.85s/it]"
          ]
        },
        {
          "output_type": "stream",
          "name": "stdout",
          "text": [
            "\n",
            "Epoch 20:\n",
            "  Total Loss: 3.7357\n",
            "  Source Accuracy: 99.64%\n",
            "  Target Accuracy: 77.36%\n",
            "  Avg Gradient Cosine Similarity: 0.7121\n"
          ]
        },
        {
          "output_type": "stream",
          "name": "stderr",
          "text": [
            "\r 73%|███████▎  | 11/15 [11:19<04:12, 63.02s/it]"
          ]
        },
        {
          "output_type": "stream",
          "name": "stdout",
          "text": [
            "\n",
            "Epoch 21:\n",
            "  Total Loss: 3.7033\n",
            "  Source Accuracy: 99.58%\n",
            "  Target Accuracy: 75.83%\n",
            "  Avg Gradient Cosine Similarity: 0.7262\n"
          ]
        },
        {
          "output_type": "stream",
          "name": "stderr",
          "text": [
            "\r 80%|████████  | 12/15 [12:27<03:14, 64.69s/it]"
          ]
        },
        {
          "output_type": "stream",
          "name": "stdout",
          "text": [
            "\n",
            "Epoch 22:\n",
            "  Total Loss: 3.7042\n",
            "  Source Accuracy: 99.52%\n",
            "  Target Accuracy: 76.18%\n",
            "  Avg Gradient Cosine Similarity: 0.7055\n"
          ]
        },
        {
          "output_type": "stream",
          "name": "stderr",
          "text": [
            "\r 87%|████████▋ | 13/15 [13:38<02:13, 66.60s/it]"
          ]
        },
        {
          "output_type": "stream",
          "name": "stdout",
          "text": [
            "\n",
            "Epoch 23:\n",
            "  Total Loss: 3.7082\n",
            "  Source Accuracy: 99.34%\n",
            "  Target Accuracy: 76.12%\n",
            "  Avg Gradient Cosine Similarity: 0.6921\n"
          ]
        },
        {
          "output_type": "stream",
          "name": "stderr",
          "text": [
            "\r 93%|█████████▎| 14/15 [14:40<01:05, 65.20s/it]"
          ]
        },
        {
          "output_type": "stream",
          "name": "stdout",
          "text": [
            "\n",
            "Epoch 24:\n",
            "  Total Loss: 3.6679\n",
            "  Source Accuracy: 99.34%\n",
            "  Target Accuracy: 75.53%\n",
            "  Avg Gradient Cosine Similarity: 0.7158\n"
          ]
        },
        {
          "output_type": "stream",
          "name": "stderr",
          "text": [
            "100%|██████████| 15/15 [15:41<00:00, 62.77s/it]"
          ]
        },
        {
          "output_type": "stream",
          "name": "stdout",
          "text": [
            "\n",
            "Epoch 25:\n",
            "  Total Loss: 3.6741\n",
            "  Source Accuracy: 99.16%\n",
            "  Target Accuracy: 75.65%\n",
            "  Avg Gradient Cosine Similarity: 0.6995\n",
            "\n",
            "-----------------------------------------------------------------\n",
            "\n"
          ]
        },
        {
          "output_type": "stream",
          "name": "stderr",
          "text": [
            "\n"
          ]
        }
      ]
    },
    {
      "cell_type": "code",
      "source": [
        "import json\n",
        "import matplotlib.pyplot as plt\n",
        "\n",
        "# --- Load logs ---\n",
        "with open(\"training_logs3.json\", \"r\") as f:\n",
        "    logs = json.load(f)\n",
        "\n",
        "epochs = range(1, len(logs[\"epoch_loss\"]) + 1)\n",
        "\n",
        "# --- Plot Loss ---\n",
        "plt.figure(figsize=(6, 4))\n",
        "plt.plot(epochs, logs[\"epoch_loss\"], marker='o')\n",
        "plt.title(\"Training Loss per Epoch\")\n",
        "plt.xlabel(\"Epoch\")\n",
        "plt.ylabel(\"Total Loss\")\n",
        "plt.grid(True, linestyle='--', alpha=0.5)\n",
        "plt.tight_layout()\n",
        "plt.show()\n",
        "\n",
        "# --- Plot Source vs Target Accuracy ---\n",
        "plt.figure(figsize=(6, 4))\n",
        "plt.plot(epochs, logs[\"src_acc\"], marker='o', label='Source Accuracy')\n",
        "plt.plot(epochs, logs[\"tgt_acc\"], marker='o', label='Target Accuracy')\n",
        "plt.title(\"Accuracy per Epoch\")\n",
        "plt.xlabel(\"Epoch\")\n",
        "plt.ylabel(\"Accuracy\")\n",
        "plt.legend()\n",
        "plt.grid(True, linestyle='--', alpha=0.5)\n",
        "plt.tight_layout()\n",
        "plt.show()\n",
        "\n",
        "# --- Plot Gradient Cosine Similarity ---\n",
        "plt.figure(figsize=(6, 4))\n",
        "plt.plot(epochs, logs[\"grad_conflict\"], marker='o', color='orange')\n",
        "plt.title(\"Gradient Cosine Similarity per Epoch\")\n",
        "plt.xlabel(\"Epoch\")\n",
        "plt.ylabel(\"Cosine Similarity\")\n",
        "plt.grid(True, linestyle='--', alpha=0.5)\n",
        "plt.tight_layout()\n",
        "plt.show()"
      ],
      "metadata": {
        "colab": {
          "base_uri": "https://localhost:8080/",
          "height": 1000
        },
        "id": "ODhMdRjsuelW",
        "outputId": "8b2691f9-9e70-4499-8622-fd9e3e9f477c"
      },
      "execution_count": null,
      "outputs": [
        {
          "output_type": "display_data",
          "data": {
            "text/plain": [
              "<Figure size 600x400 with 1 Axes>"
            ],
            "image/png": "[encoded data removed]"
          },
          "metadata": {}
        },
        {
          "output_type": "display_data",
          "data": {
            "text/plain": [
              "<Figure size 600x400 with 1 Axes>"
            ],
            "image/png": "[encoded data removed]"
          },
          "metadata": {}
        },
        {
          "output_type": "display_data",
          "data": {
            "text/plain": [
              "<Figure size 600x400 with 1 Axes>"
            ],
            "image/png": "[encoded data removed]"
          },
          "metadata": {}
        }
      ]
    },
    {
      "cell_type": "code",
      "execution_count": null,
      "metadata": {
        "id": "tniXPRLORS-b",
        "colab": {
          "base_uri": "https://localhost:8080/"
        },
        "outputId": "e835f5c5-96c5-4cc5-949c-bced002c1241"
      },
      "outputs": [
        {
          "metadata": {
            "tags": null
          },
          "name": "stdout",
          "output_type": "stream",
          "text": [
            "-----------------------------------------------------------------\n",
            "Training Learnable Prompts on Source Domains with PCGrad\n",
            "\n"
          ]
        },
        {
          "metadata": {
            "tags": null
          },
          "name": "stderr",
          "output_type": "stream",
          "text": [
            "  7%|▋         | 1/15 [01:01<14:23, 61.70s/it]"
          ]
        },
        {
          "metadata": {
            "tags": null
          },
          "name": "stdout",
          "output_type": "stream",
          "text": [
            "\n",
            "Epoch 1:\n",
            "  Total Loss: 3.7953\n",
            "  Source Acc: 99.64% | Target Acc: 80.37%\n",
            "  Avg Gradient Cosine Similarity: 0.3048\n"
          ]
        },
        {
          "output_type": "stream",
          "name": "stderr",
          "text": [
            "\r 13%|█▎        | 2/15 [02:01<13:07, 60.57s/it]"
          ]
        },
        {
          "output_type": "stream",
          "name": "stdout",
          "text": [
            "\n",
            "Epoch 2:\n",
            "  Total Loss: 3.7350\n",
            "  Source Acc: 99.70% | Target Acc: 82.19%\n",
            "  Avg Gradient Cosine Similarity: 0.3644\n"
          ]
        },
        {
          "output_type": "stream",
          "name": "stderr",
          "text": [
            "\r 20%|██        | 3/15 [03:02<12:09, 60.81s/it]"
          ]
        },
        {
          "output_type": "stream",
          "name": "stdout",
          "text": [
            "\n",
            "Epoch 3:\n",
            "  Total Loss: 3.6757\n",
            "  Source Acc: 99.64% | Target Acc: 78.60%\n",
            "  Avg Gradient Cosine Similarity: 0.2024\n"
          ]
        },
        {
          "output_type": "stream",
          "name": "stderr",
          "text": [
            "\r 27%|██▋       | 4/15 [04:02<11:05, 60.47s/it]"
          ]
        },
        {
          "output_type": "stream",
          "name": "stdout",
          "text": [
            "\n",
            "Epoch 4:\n",
            "  Total Loss: 3.6240\n",
            "  Source Acc: 99.64% | Target Acc: 75.83%\n",
            "  Avg Gradient Cosine Similarity: 0.1109\n"
          ]
        },
        {
          "output_type": "stream",
          "name": "stderr",
          "text": [
            "\r 33%|███▎      | 5/15 [05:02<10:02, 60.28s/it]"
          ]
        },
        {
          "output_type": "stream",
          "name": "stdout",
          "text": [
            "\n",
            "Epoch 5:\n",
            "  Total Loss: 3.5824\n",
            "  Source Acc: 99.64% | Target Acc: 75.88%\n",
            "  Avg Gradient Cosine Similarity: 0.1081\n"
          ]
        },
        {
          "output_type": "stream",
          "name": "stderr",
          "text": [
            "\r 40%|████      | 6/15 [06:02<09:01, 60.11s/it]"
          ]
        },
        {
          "output_type": "stream",
          "name": "stdout",
          "text": [
            "\n",
            "Epoch 6:\n",
            "  Total Loss: 3.5459\n",
            "  Source Acc: 99.58% | Target Acc: 76.71%\n",
            "  Avg Gradient Cosine Similarity: 0.0799\n"
          ]
        },
        {
          "output_type": "stream",
          "name": "stderr",
          "text": [
            "\r 47%|████▋     | 7/15 [07:02<08:00, 60.07s/it]"
          ]
        },
        {
          "output_type": "stream",
          "name": "stdout",
          "text": [
            "\n",
            "Epoch 7:\n",
            "  Total Loss: 3.5220\n",
            "  Source Acc: 99.64% | Target Acc: 76.95%\n",
            "  Avg Gradient Cosine Similarity: 0.0778\n"
          ]
        }
      ],
      "source": [
        "torch.cuda.manual_seed(42)\n",
        "torch.manual_seed(42)\n",
        "\n",
        "def get_grads(model, only_ag=True):\n",
        "    grads = []\n",
        "    for name, p in model.named_parameters():\n",
        "        if p.grad is None:\n",
        "            continue\n",
        "        if only_ag and \"dom_ag_ctx\" not in name:\n",
        "            continue\n",
        "        grads.append(p.grad.view(-1))\n",
        "    return torch.cat(grads) if grads else torch.tensor([], device=device)\n",
        "\n",
        "epochs = 15\n",
        "loss_fn = nn.CrossEntropyLoss()\n",
        "optimizer = torch.optim.Adam(learnable_prompts.parameters(), lr=1e-3)\n",
        "\n",
        "logs_pcgrad = {\"epoch_loss\": [], \"src_acc\": [], \"tgt_acc\": [], \"grad_conflict\": []}\n",
        "\n",
        "print('-----------------------------------------------------------------')\n",
        "print(f\"Training Learnable Prompts on Source Domains with PCGrad\\n\")\n",
        "\n",
        "for epoch in tqdm(range(epochs)):\n",
        "    epoch_loss = 0.0\n",
        "    src_correct = tgt_correct = src_total = tgt_total = 0\n",
        "    grad_conflicts = []\n",
        "\n",
        "    for (src_imgs, src_labels), (tgt_imgs, tgt_labels) in zip(source_loader, target_loader):\n",
        "\n",
        "        optimizer.zero_grad()\n",
        "\n",
        "        # --- SOURCE ---\n",
        "        src_imgs, src_labels = src_imgs.to(device), src_labels.to(device)\n",
        "        src_img_feats = model.get_image_features(src_imgs)\n",
        "        src_img_feats = src_img_feats / src_img_feats.norm(dim=-1, keepdim=True)\n",
        "        src_txt_feats = create_text_features(model, processor, class_names, learnable_prompts, source_domain)\n",
        "        src_txt_feats = src_txt_feats / src_txt_feats.norm(dim=-1, keepdim=True)\n",
        "        src_sim = src_img_feats @ src_txt_feats.T\n",
        "        src_preds = src_sim.argmax(dim=1)\n",
        "        src_correct += (src_preds == src_labels).sum().item()\n",
        "        src_total += src_labels.size(0)\n",
        "        src_loss = loss_fn(src_sim, src_labels)\n",
        "\n",
        "        src_loss.backward(retain_graph=True)\n",
        "        src_grads = get_grads(learnable_prompts)\n",
        "\n",
        "        # --- TARGET ---\n",
        "        optimizer.zero_grad(set_to_none=True)\n",
        "        tgt_imgs, tgt_labels = tgt_imgs.to(device), tgt_labels.to(device)\n",
        "        tgt_img_feats = model.get_image_features(tgt_imgs)\n",
        "        tgt_img_feats = tgt_img_feats / tgt_img_feats.norm(dim=-1, keepdim=True)\n",
        "        tgt_txt_feats = create_text_features(model, processor, class_names, learnable_prompts, target_domain)\n",
        "        tgt_txt_feats = tgt_txt_feats / tgt_txt_feats.norm(dim=-1, keepdim=True)\n",
        "        tgt_sim = tgt_img_feats @ tgt_txt_feats.T\n",
        "        tgt_preds = tgt_sim.argmax(dim=1)\n",
        "        tgt_correct += (tgt_preds == tgt_labels).sum().item()\n",
        "        tgt_total += tgt_labels.size(0)\n",
        "        tgt_loss = loss_fn(tgt_sim, tgt_labels)\n",
        "\n",
        "        tgt_loss.backward(retain_graph=True)\n",
        "        tgt_grads = get_grads(learnable_prompts)\n",
        "\n",
        "        # --- PCGRAD Correction ---\n",
        "        dot = torch.dot(src_grads, tgt_grads)\n",
        "        if dot < 0:\n",
        "            tgt_grads = tgt_grads - (dot / (src_grads.norm() ** 2)) * src_grads\n",
        "\n",
        "        # --- Conflict measure ---\n",
        "        if len(src_grads) > 0 and len(tgt_grads) > 0:\n",
        "            conflict = F.cosine_similarity(src_grads.unsqueeze(0), tgt_grads.unsqueeze(0)).item()\n",
        "            grad_conflicts.append(conflict)\n",
        "        else:\n",
        "            grad_conflicts.append(0.0)\n",
        "\n",
        "        # --- Apply projected gradients manually ---\n",
        "        optimizer.zero_grad(set_to_none=True)\n",
        "        total_loss = src_loss + tgt_loss\n",
        "        total_loss.backward()\n",
        "        # Replace gradients of domain-agnostic params with projected ones\n",
        "        idx = 0\n",
        "        for name, p in learnable_prompts.named_parameters():\n",
        "            if p.grad is not None and \"dom_ag_ctx\" in name:\n",
        "                numel = p.grad.numel()\n",
        "                p.grad.copy_(tgt_grads[idx: idx + numel].view_as(p.grad))\n",
        "                idx += numel\n",
        "        optimizer.step()\n",
        "\n",
        "        epoch_loss += total_loss.item()\n",
        "\n",
        "    avg_loss = epoch_loss / len(source_loader)\n",
        "    src_acc = src_correct / src_total\n",
        "    tgt_acc = tgt_correct / tgt_total\n",
        "    avg_conflict = sum(grad_conflicts) / len(grad_conflicts)\n",
        "\n",
        "    logs_pcgrad[\"epoch_loss\"].append(avg_loss)\n",
        "    logs_pcgrad[\"src_acc\"].append(src_acc)\n",
        "    logs_pcgrad[\"tgt_acc\"].append(tgt_acc)\n",
        "    logs_pcgrad[\"grad_conflict\"].append(avg_conflict)\n",
        "\n",
        "    print(f\"\\nEpoch {epoch+1}:\")\n",
        "    print(f\"  Total Loss: {avg_loss:.4f}\")\n",
        "    print(f\"  Source Acc: {src_acc*100:.2f}% | Target Acc: {tgt_acc*100:.2f}%\")\n",
        "    print(f\"  Avg Gradient Cosine Similarity: {avg_conflict:.4f}\")\n",
        "\n",
        "print('\\n-----------------------------------------------------------------\\n')\n"
      ]
    },
    {
      "cell_type": "code",
      "source": [],
      "metadata": {
        "id": "lJLjDHxxulVg"
      },
      "execution_count": null,
      "outputs": []
    },
    {
      "cell_type": "code",
      "source": [],
      "metadata": {
        "id": "FHeJGTXKFrWE"
      },
      "execution_count": null,
      "outputs": []
    },
    {
      "cell_type": "markdown",
      "source": [
        "# Open Set Experiment"
      ],
      "metadata": {
        "id": "P36pSrBWX2iA"
      }
    },
    {
      "cell_type": "code",
      "source": [
        "def open_set_analysis(model, processor, dataloaders, classes, seen_classes, unseen_classes,\n",
        "                      tuned_prompt_embeds=None, zero_shot_prompt_embeds=None, prompt_model=None,):\n",
        "    \"\"\"\n",
        "    Evaluate open-set performance and prompt similarity metrics.\n",
        "    \"\"\"\n",
        "    label_map = {c: i for i, c in enumerate(seen_classes)}\n",
        "\n",
        "    # --- Text embeddings for seen classes ---\n",
        "    prompts = [f\"a photo of {c}\" for c in seen_classes]\n",
        "    with torch.inference_mode():\n",
        "        tokens = processor(text=prompts, return_tensors='pt', padding=True).to(device)\n",
        "        text_embeds = model.get_text_features(**tokens)\n",
        "        text_embeds = text_embeds.clone().detach()\n",
        "        text_embeds /= text_embeds.norm(dim=-1, keepdim=True)\n",
        "\n",
        "    msp_all, is_seen_all = [], []\n",
        "    correct, total = 0, 0\n",
        "\n",
        "    for domain in dataloaders.keys():\n",
        "        for imgs, labels in tqdm(dataloaders[domain], desc=f\"Domain {domain}\"):\n",
        "            imgs = imgs.to(device)\n",
        "            labels = labels.to(device)\n",
        "\n",
        "            img_embeds = model.get_image_features(imgs)\n",
        "            img_embeds = img_embeds.clone().detach()\n",
        "            img_embeds /= img_embeds.norm(dim=-1, keepdim=True)\n",
        "            sims = img_embeds @ text_embeds.T\n",
        "            probs = sims.softmax(dim=-1)\n",
        "\n",
        "            msp = probs.max(dim=-1)[0]\n",
        "            msp_all.append(msp.cpu())\n",
        "\n",
        "            is_seen = torch.tensor([1 if classes[l] in seen_classes else 0 for l in labels])\n",
        "            is_seen_all.append(is_seen)\n",
        "\n",
        "            mapped_labels = torch.tensor([\n",
        "                label_map[classes[l]] if classes[l] in seen_classes else -1 for l in labels\n",
        "            ])\n",
        "            preds = sims.argmax(dim=-1)\n",
        "            mask = mapped_labels != -1\n",
        "            correct += (preds[mask] == mapped_labels[mask].to(device)).sum().item()\n",
        "            total += mask.sum().item()\n",
        "\n",
        "    msp_all = torch.cat(msp_all)\n",
        "    is_seen_all = torch.cat(is_seen_all)\n",
        "\n",
        "    # --- Metrics ---\n",
        "    acc_seen = correct / total if total > 0 else 0\n",
        "    auroc = roc_auc_score(is_seen_all.numpy(), msp_all.numpy())\n",
        "\n",
        "    fpr, tpr, thresholds = roc_curve(is_seen_all.numpy(), msp_all.numpy())\n",
        "    fpr_at_95tpr = np.interp(0.95, tpr, fpr)\n",
        "\n",
        "    seen_msp = msp_all[is_seen_all == 1]\n",
        "    unseen_msp = msp_all[is_seen_all == 0]\n",
        "\n",
        "    print(f\"Seen Accuracy: {acc_seen*100:.2f}%\")\n",
        "    print(f\"AUROC (open-set): {auroc:.3f}\")\n",
        "    print(f\"FPR@95TPR: {fpr_at_95tpr:.3f}\")\n",
        "    print(f\"MSP (Seen mean ± std): {seen_msp.mean():.3f} ± {seen_msp.std():.3f}\")\n",
        "    print(f\"MSP (Unseen mean ± std): {unseen_msp.mean():.3f} ± {unseen_msp.std():.3f}\")\n",
        "\n",
        "    # --- Prompt metrics (if provided) ---\n",
        "    if tuned_prompt_embeds is not None and zero_shot_prompt_embeds is not None:\n",
        "        sim = F.cosine_similarity(\n",
        "            tuned_prompt_embeds.mean(dim=0, keepdim=True),\n",
        "            zero_shot_prompt_embeds.mean(dim=0, keepdim=True)\n",
        "        )\n",
        "        print(f\"Cosine similarity (tuned vs zero-shot prompt): {sim.item():.3f}\")\n",
        "\n",
        "    return {\n",
        "        \"acc_seen\": acc_seen,\n",
        "        \"auroc\": auroc,\n",
        "        \"fpr95\": fpr_at_95tpr,\n",
        "        \"seen_msp_mean\": seen_msp.mean().item(),\n",
        "        \"unseen_msp_mean\": unseen_msp.mean().item()\n",
        "    }"
      ],
      "metadata": {
        "id": "WlCNxtTaa_TB"
      },
      "execution_count": null,
      "outputs": []
    },
    {
      "cell_type": "code",
      "source": [
        "torch.manual_seed(42)\n",
        "torch.cuda.manual_seed(42)\n",
        "\n",
        "classes = ['dog', 'elephant', 'giraffe', 'guitar', 'horse', 'house', 'person']\n",
        "unseen_classes = ['dog', 'person']\n",
        "seen_classes = [c for c in classes if c not in unseen_classes]\n",
        "\n",
        "open_set_analysis(model, processor, dataloaders, classes, seen_classes, unseen_classes)"
      ],
      "metadata": {
        "colab": {
          "base_uri": "https://localhost:8080/"
        },
        "id": "kM8bonWbgBTM",
        "outputId": "72ea6bc4-2ab1-4ca3-dafc-32e223706775"
      },
      "execution_count": null,
      "outputs": [
        {
          "output_type": "stream",
          "name": "stderr",
          "text": [
            "Domain art_painting: 100%|██████████| 64/64 [00:09<00:00,  6.68it/s]\n",
            "Domain cartoon: 100%|██████████| 74/74 [00:10<00:00,  6.80it/s]\n",
            "Domain photo: 100%|██████████| 53/53 [00:07<00:00,  6.63it/s]\n",
            "Domain sketch: 100%|██████████| 123/123 [00:18<00:00,  6.57it/s]"
          ]
        },
        {
          "output_type": "stream",
          "name": "stdout",
          "text": [
            "Seen Accuracy: 94.37%\n",
            "AUROC (open-set): 0.962\n",
            "FPR@95TPR: 0.220\n",
            "MSP (Seen mean ± std): 0.213 ± 0.003\n",
            "MSP (Unseen mean ± std): 0.204 ± 0.002\n"
          ]
        },
        {
          "output_type": "stream",
          "name": "stderr",
          "text": [
            "\n"
          ]
        },
        {
          "output_type": "execute_result",
          "data": {
            "text/plain": [
              "{'acc_seen': 0.9436619718309859,\n",
              " 'auroc': np.float64(0.9623817742412479),\n",
              " 'fpr95': np.float64(0.22015748031496063),\n",
              " 'seen_msp_mean': 0.21263356506824493,\n",
              " 'unseen_msp_mean': 0.20436470210552216}"
            ]
          },
          "metadata": {},
          "execution_count": 19
        }
      ]
    },
    {
      "cell_type": "code",
      "source": [
        "class LearnablePrompts(nn.Module):\n",
        "  def __init__(self, domains, dom_ag=10, dom_sp=10, ctx_dim=512):\n",
        "    super().__init__()\n",
        "    self.dom_ag_ctx = nn.Parameter(torch.randn(dom_ag, ctx_dim), requires_grad=True)\n",
        "    self.dom_sp_ctx = nn.ParameterDict({\n",
        "          d: nn.Parameter(torch.randn(dom_sp, ctx_dim), requires_grad=True)\n",
        "          for d in domains\n",
        "        })\n",
        "  def get_ctx(self, domain):\n",
        "    return torch.cat([self.dom_ag_ctx, self.dom_sp_ctx[domain]], dim=0)\n",
        "\n",
        "\n",
        "def create_text_features(clip_model, processor, classnames, learnable_prompts, domain, device=\"cuda\", batch_size=16):\n",
        "    clip_model.eval()\n",
        "    all_text_features = []\n",
        "\n",
        "    for i in range(0, len(classnames), batch_size):\n",
        "        batch_classes = classnames[i:i + batch_size]\n",
        "        ctx = learnable_prompts.get_ctx(domain)  # (n_ctx, ctx_dim)\n",
        "        n_ctx = ctx.size(0)\n",
        "        num_classes = len(batch_classes)\n",
        "\n",
        "        # --- Tokenize batch ---\n",
        "        tokens = processor(text=batch_classes, return_tensors=\"pt\", padding=True, truncation=True).to(device)\n",
        "        token_embeds = clip_model.text_model.embeddings.token_embedding(tokens.input_ids)\n",
        "\n",
        "        # --- Insert learnable prompts after SOS ---\n",
        "        sos = token_embeds[:, :1, :]\n",
        "        rest = token_embeds[:, 1:, :]\n",
        "        prompt_ctx = ctx.unsqueeze(0).expand(num_classes, -1, -1)\n",
        "        new_embeds = torch.cat([sos, prompt_ctx, rest], dim=1)\n",
        "\n",
        "        # --- Add positional embeddings ---\n",
        "        pos_embeds = clip_model.text_model.embeddings.position_embedding(\n",
        "            torch.arange(new_embeds.size(1), device=device).unsqueeze(0)\n",
        "        )\n",
        "        final_embeds = new_embeds + pos_embeds\n",
        "\n",
        "        # --- Attention mask ---\n",
        "        prompt_mask = torch.ones((num_classes, n_ctx), dtype=torch.bool, device=device)\n",
        "        attention_mask = torch.cat(\n",
        "            [tokens.attention_mask[:, :1].bool(), prompt_mask, tokens.attention_mask[:, 1:].bool()],\n",
        "            dim=1\n",
        "        )\n",
        "        attention_mask = attention_mask[:, None, None, :]\n",
        "\n",
        "        # --- Encoder forward ---\n",
        "        encoder_out = clip_model.text_model.encoder(inputs_embeds=final_embeds, attention_mask=attention_mask)\n",
        "        hidden = encoder_out.last_hidden_state\n",
        "        hidden = clip_model.text_model.final_layer_norm(hidden)\n",
        "\n",
        "        # --- EOS-based pooling ---\n",
        "        eos_idx = attention_mask.squeeze().sum(dim=1) - 1\n",
        "        text_embeds = hidden[torch.arange(num_classes, device=device), eos_idx]\n",
        "        text_features = clip_model.text_projection(text_embeds)\n",
        "        text_features = text_features / text_features.norm(dim=-1, keepdim=True)\n",
        "\n",
        "        # --- Store on CPU to free VRAM ---\n",
        "        all_text_features.append(text_features.cpu())\n",
        "        torch.cuda.empty_cache()\n",
        "\n",
        "    return torch.cat(all_text_features, dim=0)\n"
      ],
      "metadata": {
        "id": "9dKfM9RZgwlp"
      },
      "execution_count": null,
      "outputs": []
    },
    {
      "cell_type": "code",
      "source": [
        "def train_prompts_on_seen_classes(\n",
        "    clip_model, processor, dataloaders, learnable_prompts,\n",
        "    classes, seen_classes, epochs=5, device=\"cuda\", reg_lambda=0.0\n",
        "):\n",
        "    clip_model.eval()                     # CLIP stays frozen\n",
        "    learnable_prompts.train()             # Train only prompts\n",
        "    optimizer = torch.optim.Adam(learnable_prompts.parameters(), lr=5e-3)\n",
        "\n",
        "    # Map global class names to local (seen-only) indices\n",
        "    class_to_local_idx = {cls: i for i, cls in enumerate(seen_classes)}\n",
        "    global_to_local_idx = {i: class_to_local_idx[c] for i, c in enumerate(classes) if c in seen_classes}\n",
        "    seen_global_indices = list(global_to_local_idx.keys())\n",
        "\n",
        "\n",
        "    for epoch in range(epochs):\n",
        "        total_loss = 0.0\n",
        "        total_correct = 0\n",
        "        total_samples = 0\n",
        "        total_batches = 0\n",
        "\n",
        "        for domain, loader in dataloaders.items():\n",
        "\n",
        "            for imgs, labels in tqdm(loader, desc=f\"Epoch {epoch+1}, Domain {domain}\", leave=False):\n",
        "\n",
        "                # --- FIX: Generate text features INSIDE the batch loop ---\n",
        "                # A fresh graph is created here for every batch.\n",
        "                text_features = create_text_features(clip_model, processor, seen_classes, learnable_prompts, domain)\n",
        "                text_features = text_features / text_features.norm(dim=-1, keepdim=True)\n",
        "                text_features = text_features.to(device)\n",
        "                # --------------------------------------------------------\n",
        "\n",
        "                imgs, labels = imgs.to(device), labels.to(device) # Labels are global indices (0 to N-1)\n",
        "\n",
        "                # Filter for seen classes only\n",
        "                mask = torch.isin(labels, torch.tensor(seen_global_indices, device=device))\n",
        "                if mask.sum() == 0:\n",
        "                    continue\n",
        "\n",
        "                imgs_seen = imgs[mask]\n",
        "                labels_global_seen = labels[mask].cpu().numpy()\n",
        "\n",
        "                # Convert global labels to local (seen-only) labels (0 to M-1)\n",
        "                labels_local_seen = torch.tensor([\n",
        "                    global_to_local_idx[l] for l in labels_global_seen\n",
        "                ], device=device)\n",
        "\n",
        "                with torch.no_grad():\n",
        "                    image_features = clip_model.get_image_features(imgs_seen)\n",
        "                    image_features = image_features / image_features.norm(dim=-1, keepdim=True)\n",
        "\n",
        "                # Logits computed against ONLY seen classes\n",
        "                logits = 100.0 * image_features @ text_features.T\n",
        "                loss = F.cross_entropy(logits, labels_local_seen)\n",
        "\n",
        "                optimizer.zero_grad()\n",
        "                loss.backward() # Consumes the graph built with text_features\n",
        "                optimizer.step()\n",
        "\n",
        "                # Accuracy\n",
        "                preds = logits.argmax(dim=-1)\n",
        "                correct = (preds == labels_local_seen).sum().item()\n",
        "                total_correct += correct\n",
        "                total_samples += len(labels_local_seen)\n",
        "                total_loss += loss.item()\n",
        "                total_batches += 1\n",
        "\n",
        "        avg_loss = total_loss / max(total_batches, 1)\n",
        "        acc = total_correct / max(total_samples, 1)\n",
        "\n",
        "        print(f\"Epoch {epoch+1}/{epochs} | Avg Loss: {avg_loss:.4f} | Seen Accuracy: {acc*100:.2f}%\")\n",
        "\n",
        "    print(\"✅ Prompt tuning on seen classes complete.\")"
      ],
      "metadata": {
        "id": "BceHvyXTiRw6"
      },
      "execution_count": null,
      "outputs": []
    },
    {
      "cell_type": "code",
      "source": [
        "torch.manual_seed(42)\n",
        "torch.cuda.manual_seed(42)\n",
        "\n",
        "\n",
        "classes = ['dog', 'elephant', 'giraffe', 'guitar', 'horse', 'house', 'person']\n",
        "unseen_classes = ['dog', 'person']\n",
        "seen_classes = [c for c in classes if c not in unseen_classes]\n",
        "\n",
        "learnable_prompts = LearnablePrompts(dataloaders.keys()).to(device)\n",
        "train_prompts_on_seen_classes(model, processor, dataloaders, learnable_prompts, classes, seen_classes)"
      ],
      "metadata": {
        "colab": {
          "base_uri": "https://localhost:8080/"
        },
        "id": "pgCeICMdpD--",
        "outputId": "7b638867-4842-403d-caff-f23d1e332c2a"
      },
      "execution_count": null,
      "outputs": [
        {
          "output_type": "stream",
          "name": "stderr",
          "text": []
        },
        {
          "output_type": "stream",
          "name": "stdout",
          "text": [
            "Epoch 1/5 | Avg Loss: 0.1001 | Seen Accuracy: 96.90%\n"
          ]
        },
        {
          "output_type": "stream",
          "name": "stderr",
          "text": []
        },
        {
          "output_type": "stream",
          "name": "stdout",
          "text": [
            "Epoch 2/5 | Avg Loss: 0.1078 | Seen Accuracy: 95.76%\n"
          ]
        },
        {
          "output_type": "stream",
          "name": "stderr",
          "text": []
        },
        {
          "output_type": "stream",
          "name": "stdout",
          "text": [
            "Epoch 3/5 | Avg Loss: 0.1132 | Seen Accuracy: 95.53%\n"
          ]
        },
        {
          "output_type": "stream",
          "name": "stderr",
          "text": []
        },
        {
          "output_type": "stream",
          "name": "stdout",
          "text": [
            "Epoch 4/5 | Avg Loss: 0.1004 | Seen Accuracy: 96.04%\n"
          ]
        },
        {
          "output_type": "stream",
          "name": "stderr",
          "text": [
            "                                                                         "
          ]
        },
        {
          "output_type": "stream",
          "name": "stdout",
          "text": [
            "Epoch 5/5 | Avg Loss: 0.0873 | Seen Accuracy: 96.74%\n",
            "✅ Prompt tuning on seen classes complete.\n"
          ]
        },
        {
          "output_type": "stream",
          "name": "stderr",
          "text": [
            "\r"
          ]
        }
      ]
    },
    {
      "cell_type": "code",
      "source": [
        "def open_set_analysis_learnable(clip_model, processor, dataloaders, classes,\n",
        "                                seen_classes, unseen_classes,\n",
        "                                prompt_model=None, tuned_prompt_embeds=None, zero_shot_prompt_embeds=None,\n",
        "                                device=\"cuda\"):\n",
        "\n",
        "    # Map classes to indices\n",
        "    # Global map (all classes: 0 to N-1)\n",
        "    class_to_global_idx = {cls: i for i, cls in enumerate(classes)}\n",
        "    # Local map (seen classes: 0 to M-1)\n",
        "    class_to_local_idx = {cls: i for i, cls in enumerate(seen_classes)}\n",
        "\n",
        "    # Indices of seen classes within the global 'classes' list\n",
        "    seen_indices_in_global = torch.tensor([\n",
        "        class_to_global_idx[c] for c in seen_classes\n",
        "    ], device=device)\n",
        "\n",
        "    msp_all, is_seen_all = [], []\n",
        "    correct, total = 0, 0\n",
        "    avg_cos_sim = None # Initialize for prompt similarity\n",
        "\n",
        "    clip_model.eval()\n",
        "    if prompt_model is not None:\n",
        "        prompt_model.eval()\n",
        "\n",
        "    with torch.inference_mode():\n",
        "      for domain in dataloaders.keys():\n",
        "        print(f\"\\n Evaluating domain: {domain}\")\n",
        "\n",
        "        # --- Text embeddings from learnable prompts ---\n",
        "        # Logits computed against ALL classes (seen + unseen) for open-set detection\n",
        "        text_embeds = create_text_features(clip_model, processor, classes, prompt_model, domain)\n",
        "        text_embeds = text_embeds / text_embeds.norm(dim=-1, keepdim=True)\n",
        "        text_embeds = text_embeds.to(device)\n",
        "\n",
        "        for imgs, labels in tqdm(dataloaders[domain], desc=f\"Domain {domain}\", leave=False):\n",
        "            imgs = imgs.to(device)\n",
        "            labels = labels.to(device) # Labels are global indices (0 to N-1)\n",
        "\n",
        "            # --- Image embeddings ---\n",
        "            img_embeds = clip_model.get_image_features(imgs)\n",
        "            img_embeds = img_embeds / img_embeds.norm(dim=-1, keepdim=True)\n",
        "\n",
        "            # --- Similarity and probabilities (Open-Set Metrics) ---\n",
        "            # sims is N_batch x N_classes (used for MSP)\n",
        "            sims = 100.0 * img_embeds @ text_embeds.T\n",
        "            probs = sims.softmax(dim=-1)\n",
        "            msp = probs.max(dim=-1)[0] # Maximum Softmax Probability\n",
        "\n",
        "            msp_all.append(msp.cpu())\n",
        "\n",
        "            # --- Identify seen/unseen samples ---\n",
        "            is_seen = torch.tensor([1 if classes[l] in seen_classes else 0 for l in labels.cpu()])\n",
        "            is_seen_all.append(is_seen)\n",
        "\n",
        "            # --- Classification Accuracy for Seen Samples (FIXED) ---\n",
        "            mask_seen = is_seen.to(device).bool() # Boolean mask for seen images\n",
        "\n",
        "            if mask_seen.sum() > 0:\n",
        "                # 1. Filter logits to include ONLY seen classes\n",
        "                sims_seen_only = sims[mask_seen][:, seen_indices_in_global]\n",
        "\n",
        "                # 2. Get local index prediction (0 to M-1)\n",
        "                preds_seen_only = sims_seen_only.argmax(dim=-1)\n",
        "\n",
        "                # 3. Map the global label to the local index (0 to M-1)\n",
        "                # We only consider labels that correspond to seen images (using mask_seen)\n",
        "                global_labels_seen = labels[mask_seen].cpu().numpy()\n",
        "                mapped_labels_seen = torch.tensor([\n",
        "                    class_to_local_idx[classes[l]] for l in global_labels_seen\n",
        "                ], device=device)\n",
        "\n",
        "                # 4. Compare local prediction with local label\n",
        "                correct += (preds_seen_only == mapped_labels_seen).sum().item()\n",
        "                total += mask_seen.sum().item()\n",
        "\n",
        "    # --- Combine all domains ---\n",
        "    msp_all = torch.cat(msp_all)\n",
        "    is_seen_all = torch.cat(is_seen_all)\n",
        "\n",
        "    # --- Compute metrics ---\n",
        "    acc_seen = correct / total if total > 0 else 0\n",
        "    # AUROC requires scores for the positive class (Seen=1)\n",
        "    # Since higher MSP should indicate \"Seen\", we use MSP directly.\n",
        "    auroc = roc_auc_score(is_seen_all.numpy(), msp_all.numpy())\n",
        "\n",
        "    fpr, tpr, thresholds = roc_curve(is_seen_all.numpy(), msp_all.numpy())\n",
        "    # Note: np.interp requires sorted arrays. roc_curve sorts them.\n",
        "    fpr_at_95tpr = np.interp(0.95, tpr, fpr)\n",
        "\n",
        "    seen_msp = msp_all[is_seen_all == 1]\n",
        "    unseen_msp = msp_all[is_seen_all == 0]\n",
        "\n",
        "    print(\"\\n📊 **Open-Set Metrics**\")\n",
        "    print(f\"Seen Accuracy: {acc_seen*100:.2f}%\")\n",
        "    print(f\"AUROC (open-set, MSP score): {auroc:.3f}\")\n",
        "    print(f\"FPR@95TPR: {fpr_at_95tpr:.3f}\")\n",
        "    print(f\"MSP (Seen mean ± std): {seen_msp.mean():.3f} ± {seen_msp.std():.3f}\")\n",
        "    print(f\"MSP (Unseen mean ± std): {unseen_msp.mean():.3f} ± {unseen_msp.std():.3f}\")\n",
        "\n",
        "    # --- Inter-prompt cosine similarity (FIXED) ---\n",
        "    if prompt_model is not None:\n",
        "        with torch.no_grad():\n",
        "            prompt_embeds = []\n",
        "            domains_list = list(prompt_model.dom_sp_ctx.keys())\n",
        "\n",
        "            for domain in domains_list:\n",
        "                # Get the full context (dom_ag_ctx + dom_sp_ctx[domain])\n",
        "                ctx = prompt_model.get_ctx(domain)\n",
        "                # Flatten the context vector for similarity comparison\n",
        "                prompt_embeds.append(ctx.flatten())\n",
        "\n",
        "            prompt_embeds = torch.stack(prompt_embeds, dim=0).to(device) # (N_domains, flattened_dim)\n",
        "\n",
        "            # Calculate pairwise cosine similarity\n",
        "            sim_matrix = F.cosine_similarity(\n",
        "                prompt_embeds.unsqueeze(1), prompt_embeds.unsqueeze(0), dim=-1\n",
        "            )\n",
        "\n",
        "            # The diagonal is 1.0 (prompt vs itself), so we exclude it for the mean\n",
        "            num_domains = prompt_embeds.size(0)\n",
        "            off_diag_mask = ~torch.eye(num_domains, dtype=torch.bool, device=device)\n",
        "\n",
        "            # Calculate the mean of all OFF-diagonal elements\n",
        "            avg_cos_sim = sim_matrix[off_diag_mask].mean().item()\n",
        "\n",
        "            print(f\"🔸 Average cosine similarity between learned full prompts across domains: {avg_cos_sim:.3f}\")\n",
        "\n",
        "    return {\n",
        "        \"acc_seen\": acc_seen,\n",
        "        \"auroc\": auroc,\n",
        "        \"fpr95\": fpr_at_95tpr,\n",
        "        \"seen_msp_mean\": seen_msp.mean().item(),\n",
        "        \"unseen_msp_mean\": unseen_msp.mean().item(),\n",
        "        \"avg_prompt_cosine\": avg_cos_sim\n",
        "    }"
      ],
      "metadata": {
        "id": "VyfTjlrAqCJk"
      },
      "execution_count": null,
      "outputs": []
    },
    {
      "cell_type": "code",
      "source": [
        "torch.manual_seed(42)\n",
        "torch.cuda.manual_seed(42)\n",
        "\n",
        "\n",
        "metrics = open_set_analysis_learnable(model, processor, dataloaders, classes, seen_classes, unseen_classes, learnable_prompts)"
      ],
      "metadata": {
        "colab": {
          "base_uri": "https://localhost:8080/"
        },
        "id": "zkH2SQQyrkuz",
        "outputId": "7265fb63-870a-4fda-d00c-7f1c15711600"
      },
      "execution_count": null,
      "outputs": [
        {
          "output_type": "stream",
          "name": "stdout",
          "text": [
            "\n",
            " Evaluating domain: art_painting\n"
          ]
        },
        {
          "output_type": "stream",
          "name": "stderr",
          "text": []
        },
        {
          "output_type": "stream",
          "name": "stdout",
          "text": [
            "\n",
            " Evaluating domain: cartoon\n"
          ]
        },
        {
          "output_type": "stream",
          "name": "stderr",
          "text": []
        },
        {
          "output_type": "stream",
          "name": "stdout",
          "text": [
            "\n",
            " Evaluating domain: photo\n"
          ]
        },
        {
          "output_type": "stream",
          "name": "stderr",
          "text": []
        },
        {
          "output_type": "stream",
          "name": "stdout",
          "text": [
            "\n",
            " Evaluating domain: sketch\n"
          ]
        },
        {
          "output_type": "stream",
          "name": "stderr",
          "text": []
        },
        {
          "output_type": "stream",
          "name": "stdout",
          "text": [
            "\n",
            "📊 **Open-Set Metrics**\n",
            "Seen Accuracy: 97.49%\n",
            "AUROC (open-set, MSP score): 0.872\n",
            "FPR@95TPR: 0.854\n",
            "MSP (Seen mean ± std): 0.965 ± 0.102\n",
            "MSP (Unseen mean ± std): 0.883 ± 0.148\n",
            "🔸 Average cosine similarity between learned full prompts across domains: 0.513\n"
          ]
        }
      ]
    },
    {
      "cell_type": "code",
      "source": [],
      "metadata": {
        "id": "TjLGYXaYsLg3"
      },
      "execution_count": null,
      "outputs": []
    }
  ],
  "metadata": {
    "colab": {
      "provenance": []
    },
    "kernelspec": {
      "display_name": "Python 3",
      "name": "python3"
    },
    "language_info": {
      "name": "python"
    },
    "widgets": {
      "application/vnd.jupyter.widget-state+json": {
        "4937310c090d4c5e832ee718c6f87eba": {
          "model_module": "@jupyter-widgets/controls",
          "model_name": "HBoxModel",
          "model_module_version": "1.5.0",
          "state": {
            "_dom_classes": [],
            "_model_module": "@jupyter-widgets/controls",
            "_model_module_version": "1.5.0",
            "_model_name": "HBoxModel",
            "_view_count": null,
            "_view_module": "@jupyter-widgets/controls",
            "_view_module_version": "1.5.0",
            "_view_name": "HBoxView",
            "box_style": "",
            "children": [
              "IPY_MODEL_18bac58619b14910a53d786524a696ee",
              "IPY_MODEL_f99df94c00d54e9898bef0fdd2c8b80a",
              "IPY_MODEL_7a0f48c3b68746d9bc6c8a07efacdbb2"
            ],
            "layout": "IPY_MODEL_12cdc86570bc4116a2570681a1a9f12b"
          }
        },
        "18bac58619b14910a53d786524a696ee": {
          "model_module": "@jupyter-widgets/controls",
          "model_name": "HTMLModel",
          "model_module_version": "1.5.0",
          "state": {
            "_dom_classes": [],
            "_model_module": "@jupyter-widgets/controls",
            "_model_module_version": "1.5.0",
            "_model_name": "HTMLModel",
            "_view_count": null,
            "_view_module": "@jupyter-widgets/controls",
            "_view_module_version": "1.5.0",
            "_view_name": "HTMLView",
            "description": "",
            "description_tooltip": null,
            "layout": "IPY_MODEL_062c7037c4744ffbb3aebe2b8b81ff5a",
            "placeholder": "​",
            "style": "IPY_MODEL_a145677deb904172a11f5d768841f45d",
            "value": "config.json: "
          }
        },
        "f99df94c00d54e9898bef0fdd2c8b80a": {
          "model_module": "@jupyter-widgets/controls",
          "model_name": "FloatProgressModel",
          "model_module_version": "1.5.0",
          "state": {
            "_dom_classes": [],
            "_model_module": "@jupyter-widgets/controls",
            "_model_module_version": "1.5.0",
            "_model_name": "FloatProgressModel",
            "_view_count": null,
            "_view_module": "@jupyter-widgets/controls",
            "_view_module_version": "1.5.0",
            "_view_name": "ProgressView",
            "bar_style": "success",
            "description": "",
            "description_tooltip": null,
            "layout": "IPY_MODEL_3541593a1f284052aeb1d7de5fe55f84",
            "max": 1,
            "min": 0,
            "orientation": "horizontal",
            "style": "IPY_MODEL_b10a54bd1ae744af86af38b55ce2c9af",
            "value": 1
          }
        },
        "7a0f48c3b68746d9bc6c8a07efacdbb2": {
          "model_module": "@jupyter-widgets/controls",
          "model_name": "HTMLModel",
          "model_module_version": "1.5.0",
          "state": {
            "_dom_classes": [],
            "_model_module": "@jupyter-widgets/controls",
            "_model_module_version": "1.5.0",
            "_model_name": "HTMLModel",
            "_view_count": null,
            "_view_module": "@jupyter-widgets/controls",
            "_view_module_version": "1.5.0",
            "_view_name": "HTMLView",
            "description": "",
            "description_tooltip": null,
            "layout": "IPY_MODEL_51b0cc2558cf45dfb7dd4e434cc53e9f",
            "placeholder": "​",
            "style": "IPY_MODEL_0fbbbd54c75b44d7b9dc0ccddd95af39",
            "value": " 4.19k/? [00:00&lt;00:00, 133kB/s]"
          }
        },
        "12cdc86570bc4116a2570681a1a9f12b": {
          "model_module": "@jupyter-widgets/base",
          "model_name": "LayoutModel",
          "model_module_version": "1.2.0",
          "state": {
            "_model_module": "@jupyter-widgets/base",
            "_model_module_version": "1.2.0",
            "_model_name": "LayoutModel",
            "_view_count": null,
            "_view_module": "@jupyter-widgets/base",
            "_view_module_version": "1.2.0",
            "_view_name": "LayoutView",
            "align_content": null,
            "align_items": null,
            "align_self": null,
            "border": null,
            "bottom": null,
            "display": null,
            "flex": null,
            "flex_flow": null,
            "grid_area": null,
            "grid_auto_columns": null,
            "grid_auto_flow": null,
            "grid_auto_rows": null,
            "grid_column": null,
            "grid_gap": null,
            "grid_row": null,
            "grid_template_areas": null,
            "grid_template_columns": null,
            "grid_template_rows": null,
            "height": null,
            "justify_content": null,
            "justify_items": null,
            "left": null,
            "margin": null,
            "max_height": null,
            "max_width": null,
            "min_height": null,
            "min_width": null,
            "object_fit": null,
            "object_position": null,
            "order": null,
            "overflow": null,
            "overflow_x": null,
            "overflow_y": null,
            "padding": null,
            "right": null,
            "top": null,
            "visibility": null,
            "width": null
          }
        },
        "062c7037c4744ffbb3aebe2b8b81ff5a": {
          "model_module": "@jupyter-widgets/base",
          "model_name": "LayoutModel",
          "model_module_version": "1.2.0",
          "state": {
            "_model_module": "@jupyter-widgets/base",
            "_model_module_version": "1.2.0",
            "_model_name": "LayoutModel",
            "_view_count": null,
            "_view_module": "@jupyter-widgets/base",
            "_view_module_version": "1.2.0",
            "_view_name": "LayoutView",
            "align_content": null,
            "align_items": null,
            "align_self": null,
            "border": null,
            "bottom": null,
            "display": null,
            "flex": null,
            "flex_flow": null,
            "grid_area": null,
            "grid_auto_columns": null,
            "grid_auto_flow": null,
            "grid_auto_rows": null,
            "grid_column": null,
            "grid_gap": null,
            "grid_row": null,
            "grid_template_areas": null,
            "grid_template_columns": null,
            "grid_template_rows": null,
            "height": null,
            "justify_content": null,
            "justify_items": null,
            "left": null,
            "margin": null,
            "max_height": null,
            "max_width": null,
            "min_height": null,
            "min_width": null,
            "object_fit": null,
            "object_position": null,
            "order": null,
            "overflow": null,
            "overflow_x": null,
            "overflow_y": null,
            "padding": null,
            "right": null,
            "top": null,
            "visibility": null,
            "width": null
          }
        },
        "a145677deb904172a11f5d768841f45d": {
          "model_module": "@jupyter-widgets/controls",
          "model_name": "DescriptionStyleModel",
          "model_module_version": "1.5.0",
          "state": {
            "_model_module": "@jupyter-widgets/controls",
            "_model_module_version": "1.5.0",
            "_model_name": "DescriptionStyleModel",
            "_view_count": null,
            "_view_module": "@jupyter-widgets/base",
            "_view_module_version": "1.2.0",
            "_view_name": "StyleView",
            "description_width": ""
          }
        },
        "3541593a1f284052aeb1d7de5fe55f84": {
          "model_module": "@jupyter-widgets/base",
          "model_name": "LayoutModel",
          "model_module_version": "1.2.0",
          "state": {
            "_model_module": "@jupyter-widgets/base",
            "_model_module_version": "1.2.0",
            "_model_name": "LayoutModel",
            "_view_count": null,
            "_view_module": "@jupyter-widgets/base",
            "_view_module_version": "1.2.0",
            "_view_name": "LayoutView",
            "align_content": null,
            "align_items": null,
            "align_self": null,
            "border": null,
            "bottom": null,
            "display": null,
            "flex": null,
            "flex_flow": null,
            "grid_area": null,
            "grid_auto_columns": null,
            "grid_auto_flow": null,
            "grid_auto_rows": null,
            "grid_column": null,
            "grid_gap": null,
            "grid_row": null,
            "grid_template_areas": null,
            "grid_template_columns": null,
            "grid_template_rows": null,
            "height": null,
            "justify_content": null,
            "justify_items": null,
            "left": null,
            "margin": null,
            "max_height": null,
            "max_width": null,
            "min_height": null,
            "min_width": null,
            "object_fit": null,
            "object_position": null,
            "order": null,
            "overflow": null,
            "overflow_x": null,
            "overflow_y": null,
            "padding": null,
            "right": null,
            "top": null,
            "visibility": null,
            "width": "20px"
          }
        },
        "b10a54bd1ae744af86af38b55ce2c9af": {
          "model_module": "@jupyter-widgets/controls",
          "model_name": "ProgressStyleModel",
          "model_module_version": "1.5.0",
          "state": {
            "_model_module": "@jupyter-widgets/controls",
            "_model_module_version": "1.5.0",
            "_model_name": "ProgressStyleModel",
            "_view_count": null,
            "_view_module": "@jupyter-widgets/base",
            "_view_module_version": "1.2.0",
            "_view_name": "StyleView",
            "bar_color": null,
            "description_width": ""
          }
        },
        "51b0cc2558cf45dfb7dd4e434cc53e9f": {
          "model_module": "@jupyter-widgets/base",
          "model_name": "LayoutModel",
          "model_module_version": "1.2.0",
          "state": {
            "_model_module": "@jupyter-widgets/base",
            "_model_module_version": "1.2.0",
            "_model_name": "LayoutModel",
            "_view_count": null,
            "_view_module": "@jupyter-widgets/base",
            "_view_module_version": "1.2.0",
            "_view_name": "LayoutView",
            "align_content": null,
            "align_items": null,
            "align_self": null,
            "border": null,
            "bottom": null,
            "display": null,
            "flex": null,
            "flex_flow": null,
            "grid_area": null,
            "grid_auto_columns": null,
            "grid_auto_flow": null,
            "grid_auto_rows": null,
            "grid_column": null,
            "grid_gap": null,
            "grid_row": null,
            "grid_template_areas": null,
            "grid_template_columns": null,
            "grid_template_rows": null,
            "height": null,
            "justify_content": null,
            "justify_items": null,
            "left": null,
            "margin": null,
            "max_height": null,
            "max_width": null,
            "min_height": null,
            "min_width": null,
            "object_fit": null,
            "object_position": null,
            "order": null,
            "overflow": null,
            "overflow_x": null,
            "overflow_y": null,
            "padding": null,
            "right": null,
            "top": null,
            "visibility": null,
            "width": null
          }
        },
        "0fbbbd54c75b44d7b9dc0ccddd95af39": {
          "model_module": "@jupyter-widgets/controls",
          "model_name": "DescriptionStyleModel",
          "model_module_version": "1.5.0",
          "state": {
            "_model_module": "@jupyter-widgets/controls",
            "_model_module_version": "1.5.0",
            "_model_name": "DescriptionStyleModel",
            "_view_count": null,
            "_view_module": "@jupyter-widgets/base",
            "_view_module_version": "1.2.0",
            "_view_name": "StyleView",
            "description_width": ""
          }
        },
        "f4c61a5aedb94fcf9e8acfe4bbf76d17": {
          "model_module": "@jupyter-widgets/controls",
          "model_name": "HBoxModel",
          "model_module_version": "1.5.0",
          "state": {
            "_dom_classes": [],
            "_model_module": "@jupyter-widgets/controls",
            "_model_module_version": "1.5.0",
            "_model_name": "HBoxModel",
            "_view_count": null,
            "_view_module": "@jupyter-widgets/controls",
            "_view_module_version": "1.5.0",
            "_view_name": "HBoxView",
            "box_style": "",
            "children": [
              "IPY_MODEL_55659e3dbc6c4bc1a91c60919b7ee7d7",
              "IPY_MODEL_7ab472ed805c47c98dfcd7ec33a1ccb2",
              "IPY_MODEL_403f571ba6ab4de79b0b3ef40a353c2e"
            ],
            "layout": "IPY_MODEL_f85a0a1360854edf97dc5bc281bc4c26"
          }
        },
        "55659e3dbc6c4bc1a91c60919b7ee7d7": {
          "model_module": "@jupyter-widgets/controls",
          "model_name": "HTMLModel",
          "model_module_version": "1.5.0",
          "state": {
            "_dom_classes": [],
            "_model_module": "@jupyter-widgets/controls",
            "_model_module_version": "1.5.0",
            "_model_name": "HTMLModel",
            "_view_count": null,
            "_view_module": "@jupyter-widgets/controls",
            "_view_module_version": "1.5.0",
            "_view_name": "HTMLView",
            "description": "",
            "description_tooltip": null,
            "layout": "IPY_MODEL_dc36912e851940129e56668eab2b0a22",
            "placeholder": "​",
            "style": "IPY_MODEL_ea914a768a634546a6480acabd9373de",
            "value": "pytorch_model.bin: 100%"
          }
        },
        "7ab472ed805c47c98dfcd7ec33a1ccb2": {
          "model_module": "@jupyter-widgets/controls",
          "model_name": "FloatProgressModel",
          "model_module_version": "1.5.0",
          "state": {
            "_dom_classes": [],
            "_model_module": "@jupyter-widgets/controls",
            "_model_module_version": "1.5.0",
            "_model_name": "FloatProgressModel",
            "_view_count": null,
            "_view_module": "@jupyter-widgets/controls",
            "_view_module_version": "1.5.0",
            "_view_name": "ProgressView",
            "bar_style": "success",
            "description": "",
            "description_tooltip": null,
            "layout": "IPY_MODEL_0a11d1a197ca4206b06c34cceb2374ff",
            "max": 605247071,
            "min": 0,
            "orientation": "horizontal",
            "style": "IPY_MODEL_81d81dc0cf09407a92cc48b221c6be2c",
            "value": 605247071
          }
        },
        "403f571ba6ab4de79b0b3ef40a353c2e": {
          "model_module": "@jupyter-widgets/controls",
          "model_name": "HTMLModel",
          "model_module_version": "1.5.0",
          "state": {
            "_dom_classes": [],
            "_model_module": "@jupyter-widgets/controls",
            "_model_module_version": "1.5.0",
            "_model_name": "HTMLModel",
            "_view_count": null,
            "_view_module": "@jupyter-widgets/controls",
            "_view_module_version": "1.5.0",
            "_view_name": "HTMLView",
            "description": "",
            "description_tooltip": null,
            "layout": "IPY_MODEL_b9c67f33b54f4bce82f6db0543dac69f",
            "placeholder": "​",
            "style": "IPY_MODEL_49f88105fd7043f296e44479ba4c71cc",
            "value": " 605M/605M [00:07&lt;00:00, 122MB/s]"
          }
        },
        "f85a0a1360854edf97dc5bc281bc4c26": {
          "model_module": "@jupyter-widgets/base",
          "model_name": "LayoutModel",
          "model_module_version": "1.2.0",
          "state": {
            "_model_module": "@jupyter-widgets/base",
            "_model_module_version": "1.2.0",
            "_model_name": "LayoutModel",
            "_view_count": null,
            "_view_module": "@jupyter-widgets/base",
            "_view_module_version": "1.2.0",
            "_view_name": "LayoutView",
            "align_content": null,
            "align_items": null,
            "align_self": null,
            "border": null,
            "bottom": null,
            "display": null,
            "flex": null,
            "flex_flow": null,
            "grid_area": null,
            "grid_auto_columns": null,
            "grid_auto_flow": null,
            "grid_auto_rows": null,
            "grid_column": null,
            "grid_gap": null,
            "grid_row": null,
            "grid_template_areas": null,
            "grid_template_columns": null,
            "grid_template_rows": null,
            "height": null,
            "justify_content": null,
            "justify_items": null,
            "left": null,
            "margin": null,
            "max_height": null,
            "max_width": null,
            "min_height": null,
            "min_width": null,
            "object_fit": null,
            "object_position": null,
            "order": null,
            "overflow": null,
            "overflow_x": null,
            "overflow_y": null,
            "padding": null,
            "right": null,
            "top": null,
            "visibility": null,
            "width": null
          }
        },
        "dc36912e851940129e56668eab2b0a22": {
          "model_module": "@jupyter-widgets/base",
          "model_name": "LayoutModel",
          "model_module_version": "1.2.0",
          "state": {
            "_model_module": "@jupyter-widgets/base",
            "_model_module_version": "1.2.0",
            "_model_name": "LayoutModel",
            "_view_count": null,
            "_view_module": "@jupyter-widgets/base",
            "_view_module_version": "1.2.0",
            "_view_name": "LayoutView",
            "align_content": null,
            "align_items": null,
            "align_self": null,
            "border": null,
            "bottom": null,
            "display": null,
            "flex": null,
            "flex_flow": null,
            "grid_area": null,
            "grid_auto_columns": null,
            "grid_auto_flow": null,
            "grid_auto_rows": null,
            "grid_column": null,
            "grid_gap": null,
            "grid_row": null,
            "grid_template_areas": null,
            "grid_template_columns": null,
            "grid_template_rows": null,
            "height": null,
            "justify_content": null,
            "justify_items": null,
            "left": null,
            "margin": null,
            "max_height": null,
            "max_width": null,
            "min_height": null,
            "min_width": null,
            "object_fit": null,
            "object_position": null,
            "order": null,
            "overflow": null,
            "overflow_x": null,
            "overflow_y": null,
            "padding": null,
            "right": null,
            "top": null,
            "visibility": null,
            "width": null
          }
        },
        "ea914a768a634546a6480acabd9373de": {
          "model_module": "@jupyter-widgets/controls",
          "model_name": "DescriptionStyleModel",
          "model_module_version": "1.5.0",
          "state": {
            "_model_module": "@jupyter-widgets/controls",
            "_model_module_version": "1.5.0",
            "_model_name": "DescriptionStyleModel",
            "_view_count": null,
            "_view_module": "@jupyter-widgets/base",
            "_view_module_version": "1.2.0",
            "_view_name": "StyleView",
            "description_width": ""
          }
        },
        "0a11d1a197ca4206b06c34cceb2374ff": {
          "model_module": "@jupyter-widgets/base",
          "model_name": "LayoutModel",
          "model_module_version": "1.2.0",
          "state": {
            "_model_module": "@jupyter-widgets/base",
            "_model_module_version": "1.2.0",
            "_model_name": "LayoutModel",
            "_view_count": null,
            "_view_module": "@jupyter-widgets/base",
            "_view_module_version": "1.2.0",
            "_view_name": "LayoutView",
            "align_content": null,
            "align_items": null,
            "align_self": null,
            "border": null,
            "bottom": null,
            "display": null,
            "flex": null,
            "flex_flow": null,
            "grid_area": null,
            "grid_auto_columns": null,
            "grid_auto_flow": null,
            "grid_auto_rows": null,
            "grid_column": null,
            "grid_gap": null,
            "grid_row": null,
            "grid_template_areas": null,
            "grid_template_columns": null,
            "grid_template_rows": null,
            "height": null,
            "justify_content": null,
            "justify_items": null,
            "left": null,
            "margin": null,
            "max_height": null,
            "max_width": null,
            "min_height": null,
            "min_width": null,
            "object_fit": null,
            "object_position": null,
            "order": null,
            "overflow": null,
            "overflow_x": null,
            "overflow_y": null,
            "padding": null,
            "right": null,
            "top": null,
            "visibility": null,
            "width": null
          }
        },
        "81d81dc0cf09407a92cc48b221c6be2c": {
          "model_module": "@jupyter-widgets/controls",
          "model_name": "ProgressStyleModel",
          "model_module_version": "1.5.0",
          "state": {
            "_model_module": "@jupyter-widgets/controls",
            "_model_module_version": "1.5.0",
            "_model_name": "ProgressStyleModel",
            "_view_count": null,
            "_view_module": "@jupyter-widgets/base",
            "_view_module_version": "1.2.0",
            "_view_name": "StyleView",
            "bar_color": null,
            "description_width": ""
          }
        },
        "b9c67f33b54f4bce82f6db0543dac69f": {
          "model_module": "@jupyter-widgets/base",
          "model_name": "LayoutModel",
          "model_module_version": "1.2.0",
          "state": {
            "_model_module": "@jupyter-widgets/base",
            "_model_module_version": "1.2.0",
            "_model_name": "LayoutModel",
            "_view_count": null,
            "_view_module": "@jupyter-widgets/base",
            "_view_module_version": "1.2.0",
            "_view_name": "LayoutView",
            "align_content": null,
            "align_items": null,
            "align_self": null,
            "border": null,
            "bottom": null,
            "display": null,
            "flex": null,
            "flex_flow": null,
            "grid_area": null,
            "grid_auto_columns": null,
            "grid_auto_flow": null,
            "grid_auto_rows": null,
            "grid_column": null,
            "grid_gap": null,
            "grid_row": null,
            "grid_template_areas": null,
            "grid_template_columns": null,
            "grid_template_rows": null,
            "height": null,
            "justify_content": null,
            "justify_items": null,
            "left": null,
            "margin": null,
            "max_height": null,
            "max_width": null,
            "min_height": null,
            "min_width": null,
            "object_fit": null,
            "object_position": null,
            "order": null,
            "overflow": null,
            "overflow_x": null,
            "overflow_y": null,
            "padding": null,
            "right": null,
            "top": null,
            "visibility": null,
            "width": null
          }
        },
        "49f88105fd7043f296e44479ba4c71cc": {
          "model_module": "@jupyter-widgets/controls",
          "model_name": "DescriptionStyleModel",
          "model_module_version": "1.5.0",
          "state": {
            "_model_module": "@jupyter-widgets/controls",
            "_model_module_version": "1.5.0",
            "_model_name": "DescriptionStyleModel",
            "_view_count": null,
            "_view_module": "@jupyter-widgets/base",
            "_view_module_version": "1.2.0",
            "_view_name": "StyleView",
            "description_width": ""
          }
        },
        "91216813b3fe4254835d0cb6d0adac35": {
          "model_module": "@jupyter-widgets/controls",
          "model_name": "HBoxModel",
          "model_module_version": "1.5.0",
          "state": {
            "_dom_classes": [],
            "_model_module": "@jupyter-widgets/controls",
            "_model_module_version": "1.5.0",
            "_model_name": "HBoxModel",
            "_view_count": null,
            "_view_module": "@jupyter-widgets/controls",
            "_view_module_version": "1.5.0",
            "_view_name": "HBoxView",
            "box_style": "",
            "children": [
              "IPY_MODEL_27355e1388634c4cb7d3e912ebcf59c4",
              "IPY_MODEL_3c1b21eb1b1e4a67b5e8ba039d052c3f",
              "IPY_MODEL_df150867d8e442749400beecf07642e3"
            ],
            "layout": "IPY_MODEL_56878034adba4855b980427fab5f0e8c"
          }
        },
        "27355e1388634c4cb7d3e912ebcf59c4": {
          "model_module": "@jupyter-widgets/controls",
          "model_name": "HTMLModel",
          "model_module_version": "1.5.0",
          "state": {
            "_dom_classes": [],
            "_model_module": "@jupyter-widgets/controls",
            "_model_module_version": "1.5.0",
            "_model_name": "HTMLModel",
            "_view_count": null,
            "_view_module": "@jupyter-widgets/controls",
            "_view_module_version": "1.5.0",
            "_view_name": "HTMLView",
            "description": "",
            "description_tooltip": null,
            "layout": "IPY_MODEL_48da0a645fbf4c3a9fef4350127c13d6",
            "placeholder": "​",
            "style": "IPY_MODEL_be7a9b9849f149168edd9d2d129938be",
            "value": "model.safetensors: 100%"
          }
        },
        "3c1b21eb1b1e4a67b5e8ba039d052c3f": {
          "model_module": "@jupyter-widgets/controls",
          "model_name": "FloatProgressModel",
          "model_module_version": "1.5.0",
          "state": {
            "_dom_classes": [],
            "_model_module": "@jupyter-widgets/controls",
            "_model_module_version": "1.5.0",
            "_model_name": "FloatProgressModel",
            "_view_count": null,
            "_view_module": "@jupyter-widgets/controls",
            "_view_module_version": "1.5.0",
            "_view_name": "ProgressView",
            "bar_style": "success",
            "description": "",
            "description_tooltip": null,
            "layout": "IPY_MODEL_98610a1b946448428391e2e7c72360b1",
            "max": 605157884,
            "min": 0,
            "orientation": "horizontal",
            "style": "IPY_MODEL_9fd02fdf642140d297772ad04a2dde00",
            "value": 605157884
          }
        },
        "df150867d8e442749400beecf07642e3": {
          "model_module": "@jupyter-widgets/controls",
          "model_name": "HTMLModel",
          "model_module_version": "1.5.0",
          "state": {
            "_dom_classes": [],
            "_model_module": "@jupyter-widgets/controls",
            "_model_module_version": "1.5.0",
            "_model_name": "HTMLModel",
            "_view_count": null,
            "_view_module": "@jupyter-widgets/controls",
            "_view_module_version": "1.5.0",
            "_view_name": "HTMLView",
            "description": "",
            "description_tooltip": null,
            "layout": "IPY_MODEL_9e95b3a1d31d496a962d5690b13293d5",
            "placeholder": "​",
            "style": "IPY_MODEL_8935e49621364c67b93bdd33ae14ffc6",
            "value": " 605M/605M [00:14&lt;00:00, 72.5MB/s]"
          }
        },
        "56878034adba4855b980427fab5f0e8c": {
          "model_module": "@jupyter-widgets/base",
          "model_name": "LayoutModel",
          "model_module_version": "1.2.0",
          "state": {
            "_model_module": "@jupyter-widgets/base",
            "_model_module_version": "1.2.0",
            "_model_name": "LayoutModel",
            "_view_count": null,
            "_view_module": "@jupyter-widgets/base",
            "_view_module_version": "1.2.0",
            "_view_name": "LayoutView",
            "align_content": null,
            "align_items": null,
            "align_self": null,
            "border": null,
            "bottom": null,
            "display": null,
            "flex": null,
            "flex_flow": null,
            "grid_area": null,
            "grid_auto_columns": null,
            "grid_auto_flow": null,
            "grid_auto_rows": null,
            "grid_column": null,
            "grid_gap": null,
            "grid_row": null,
            "grid_template_areas": null,
            "grid_template_columns": null,
            "grid_template_rows": null,
            "height": null,
            "justify_content": null,
            "justify_items": null,
            "left": null,
            "margin": null,
            "max_height": null,
            "max_width": null,
            "min_height": null,
            "min_width": null,
            "object_fit": null,
            "object_position": null,
            "order": null,
            "overflow": null,
            "overflow_x": null,
            "overflow_y": null,
            "padding": null,
            "right": null,
            "top": null,
            "visibility": null,
            "width": null
          }
        },
        "48da0a645fbf4c3a9fef4350127c13d6": {
          "model_module": "@jupyter-widgets/base",
          "model_name": "LayoutModel",
          "model_module_version": "1.2.0",
          "state": {
            "_model_module": "@jupyter-widgets/base",
            "_model_module_version": "1.2.0",
            "_model_name": "LayoutModel",
            "_view_count": null,
            "_view_module": "@jupyter-widgets/base",
            "_view_module_version": "1.2.0",
            "_view_name": "LayoutView",
            "align_content": null,
            "align_items": null,
            "align_self": null,
            "border": null,
            "bottom": null,
            "display": null,
            "flex": null,
            "flex_flow": null,
            "grid_area": null,
            "grid_auto_columns": null,
            "grid_auto_flow": null,
            "grid_auto_rows": null,
            "grid_column": null,
            "grid_gap": null,
            "grid_row": null,
            "grid_template_areas": null,
            "grid_template_columns": null,
            "grid_template_rows": null,
            "height": null,
            "justify_content": null,
            "justify_items": null,
            "left": null,
            "margin": null,
            "max_height": null,
            "max_width": null,
            "min_height": null,
            "min_width": null,
            "object_fit": null,
            "object_position": null,
            "order": null,
            "overflow": null,
            "overflow_x": null,
            "overflow_y": null,
            "padding": null,
            "right": null,
            "top": null,
            "visibility": null,
            "width": null
          }
        },
        "be7a9b9849f149168edd9d2d129938be": {
          "model_module": "@jupyter-widgets/controls",
          "model_name": "DescriptionStyleModel",
          "model_module_version": "1.5.0",
          "state": {
            "_model_module": "@jupyter-widgets/controls",
            "_model_module_version": "1.5.0",
            "_model_name": "DescriptionStyleModel",
            "_view_count": null,
            "_view_module": "@jupyter-widgets/base",
            "_view_module_version": "1.2.0",
            "_view_name": "StyleView",
            "description_width": ""
          }
        },
        "98610a1b946448428391e2e7c72360b1": {
          "model_module": "@jupyter-widgets/base",
          "model_name": "LayoutModel",
          "model_module_version": "1.2.0",
          "state": {
            "_model_module": "@jupyter-widgets/base",
            "_model_module_version": "1.2.0",
            "_model_name": "LayoutModel",
            "_view_count": null,
            "_view_module": "@jupyter-widgets/base",
            "_view_module_version": "1.2.0",
            "_view_name": "LayoutView",
            "align_content": null,
            "align_items": null,
            "align_self": null,
            "border": null,
            "bottom": null,
            "display": null,
            "flex": null,
            "flex_flow": null,
            "grid_area": null,
            "grid_auto_columns": null,
            "grid_auto_flow": null,
            "grid_auto_rows": null,
            "grid_column": null,
            "grid_gap": null,
            "grid_row": null,
            "grid_template_areas": null,
            "grid_template_columns": null,
            "grid_template_rows": null,
            "height": null,
            "justify_content": null,
            "justify_items": null,
            "left": null,
            "margin": null,
            "max_height": null,
            "max_width": null,
            "min_height": null,
            "min_width": null,
            "object_fit": null,
            "object_position": null,
            "order": null,
            "overflow": null,
            "overflow_x": null,
            "overflow_y": null,
            "padding": null,
            "right": null,
            "top": null,
            "visibility": null,
            "width": null
          }
        },
        "9fd02fdf642140d297772ad04a2dde00": {
          "model_module": "@jupyter-widgets/controls",
          "model_name": "ProgressStyleModel",
          "model_module_version": "1.5.0",
          "state": {
            "_model_module": "@jupyter-widgets/controls",
            "_model_module_version": "1.5.0",
            "_model_name": "ProgressStyleModel",
            "_view_count": null,
            "_view_module": "@jupyter-widgets/base",
            "_view_module_version": "1.2.0",
            "_view_name": "StyleView",
            "bar_color": null,
            "description_width": ""
          }
        },
        "9e95b3a1d31d496a962d5690b13293d5": {
          "model_module": "@jupyter-widgets/base",
          "model_name": "LayoutModel",
          "model_module_version": "1.2.0",
          "state": {
            "_model_module": "@jupyter-widgets/base",
            "_model_module_version": "1.2.0",
            "_model_name": "LayoutModel",
            "_view_count": null,
            "_view_module": "@jupyter-widgets/base",
            "_view_module_version": "1.2.0",
            "_view_name": "LayoutView",
            "align_content": null,
            "align_items": null,
            "align_self": null,
            "border": null,
            "bottom": null,
            "display": null,
            "flex": null,
            "flex_flow": null,
            "grid_area": null,
            "grid_auto_columns": null,
            "grid_auto_flow": null,
            "grid_auto_rows": null,
            "grid_column": null,
            "grid_gap": null,
            "grid_row": null,
            "grid_template_areas": null,
            "grid_template_columns": null,
            "grid_template_rows": null,
            "height": null,
            "justify_content": null,
            "justify_items": null,
            "left": null,
            "margin": null,
            "max_height": null,
            "max_width": null,
            "min_height": null,
            "min_width": null,
            "object_fit": null,
            "object_position": null,
            "order": null,
            "overflow": null,
            "overflow_x": null,
            "overflow_y": null,
            "padding": null,
            "right": null,
            "top": null,
            "visibility": null,
            "width": null
          }
        },
        "8935e49621364c67b93bdd33ae14ffc6": {
          "model_module": "@jupyter-widgets/controls",
          "model_name": "DescriptionStyleModel",
          "model_module_version": "1.5.0",
          "state": {
            "_model_module": "@jupyter-widgets/controls",
            "_model_module_version": "1.5.0",
            "_model_name": "DescriptionStyleModel",
            "_view_count": null,
            "_view_module": "@jupyter-widgets/base",
            "_view_module_version": "1.2.0",
            "_view_name": "StyleView",
            "description_width": ""
          }
        },
        "d5801d803d8742f7b0821e0d8e913563": {
          "model_module": "@jupyter-widgets/controls",
          "model_name": "HBoxModel",
          "model_module_version": "1.5.0",
          "state": {
            "_dom_classes": [],
            "_model_module": "@jupyter-widgets/controls",
            "_model_module_version": "1.5.0",
            "_model_name": "HBoxModel",
            "_view_count": null,
            "_view_module": "@jupyter-widgets/controls",
            "_view_module_version": "1.5.0",
            "_view_name": "HBoxView",
            "box_style": "",
            "children": [
              "IPY_MODEL_ac1d7a414cd141f9ad0cd1d2e1581d33",
              "IPY_MODEL_73e1ae39664d4ef58730c0d45e419fea",
              "IPY_MODEL_a549f16f19da46bab79b1269c6897746"
            ],
            "layout": "IPY_MODEL_804b3cc5b7994d95bb0e9c94d5b01ab6"
          }
        },
        "ac1d7a414cd141f9ad0cd1d2e1581d33": {
          "model_module": "@jupyter-widgets/controls",
          "model_name": "HTMLModel",
          "model_module_version": "1.5.0",
          "state": {
            "_dom_classes": [],
            "_model_module": "@jupyter-widgets/controls",
            "_model_module_version": "1.5.0",
            "_model_name": "HTMLModel",
            "_view_count": null,
            "_view_module": "@jupyter-widgets/controls",
            "_view_module_version": "1.5.0",
            "_view_name": "HTMLView",
            "description": "",
            "description_tooltip": null,
            "layout": "IPY_MODEL_247e6224781d432e8bb82a750a7864b7",
            "placeholder": "​",
            "style": "IPY_MODEL_99a1e2d9eab3430eb4c1ce9f6a5e5bb1",
            "value": "preprocessor_config.json: 100%"
          }
        },
        "73e1ae39664d4ef58730c0d45e419fea": {
          "model_module": "@jupyter-widgets/controls",
          "model_name": "FloatProgressModel",
          "model_module_version": "1.5.0",
          "state": {
            "_dom_classes": [],
            "_model_module": "@jupyter-widgets/controls",
            "_model_module_version": "1.5.0",
            "_model_name": "FloatProgressModel",
            "_view_count": null,
            "_view_module": "@jupyter-widgets/controls",
            "_view_module_version": "1.5.0",
            "_view_name": "ProgressView",
            "bar_style": "success",
            "description": "",
            "description_tooltip": null,
            "layout": "IPY_MODEL_a0a35582dd0c4941aaaeb2e7ec9b5e0c",
            "max": 316,
            "min": 0,
            "orientation": "horizontal",
            "style": "IPY_MODEL_bd1867b95c2a454eb57038b6c6afa7c6",
            "value": 316
          }
        },
        "a549f16f19da46bab79b1269c6897746": {
          "model_module": "@jupyter-widgets/controls",
          "model_name": "HTMLModel",
          "model_module_version": "1.5.0",
          "state": {
            "_dom_classes": [],
            "_model_module": "@jupyter-widgets/controls",
            "_model_module_version": "1.5.0",
            "_model_name": "HTMLModel",
            "_view_count": null,
            "_view_module": "@jupyter-widgets/controls",
            "_view_module_version": "1.5.0",
            "_view_name": "HTMLView",
            "description": "",
            "description_tooltip": null,
            "layout": "IPY_MODEL_dedb02ef1ec8433a8e9e89e59eaf4e68",
            "placeholder": "​",
            "style": "IPY_MODEL_9730612284b44a379e06ef49e9fe8fe4",
            "value": " 316/316 [00:00&lt;00:00, 5.69kB/s]"
          }
        },
        "804b3cc5b7994d95bb0e9c94d5b01ab6": {
          "model_module": "@jupyter-widgets/base",
          "model_name": "LayoutModel",
          "model_module_version": "1.2.0",
          "state": {
            "_model_module": "@jupyter-widgets/base",
            "_model_module_version": "1.2.0",
            "_model_name": "LayoutModel",
            "_view_count": null,
            "_view_module": "@jupyter-widgets/base",
            "_view_module_version": "1.2.0",
            "_view_name": "LayoutView",
            "align_content": null,
            "align_items": null,
            "align_self": null,
            "border": null,
            "bottom": null,
            "display": null,
            "flex": null,
            "flex_flow": null,
            "grid_area": null,
            "grid_auto_columns": null,
            "grid_auto_flow": null,
            "grid_auto_rows": null,
            "grid_column": null,
            "grid_gap": null,
            "grid_row": null,
            "grid_template_areas": null,
            "grid_template_columns": null,
            "grid_template_rows": null,
            "height": null,
            "justify_content": null,
            "justify_items": null,
            "left": null,
            "margin": null,
            "max_height": null,
            "max_width": null,
            "min_height": null,
            "min_width": null,
            "object_fit": null,
            "object_position": null,
            "order": null,
            "overflow": null,
            "overflow_x": null,
            "overflow_y": null,
            "padding": null,
            "right": null,
            "top": null,
            "visibility": null,
            "width": null
          }
        },
        "247e6224781d432e8bb82a750a7864b7": {
          "model_module": "@jupyter-widgets/base",
          "model_name": "LayoutModel",
          "model_module_version": "1.2.0",
          "state": {
            "_model_module": "@jupyter-widgets/base",
            "_model_module_version": "1.2.0",
            "_model_name": "LayoutModel",
            "_view_count": null,
            "_view_module": "@jupyter-widgets/base",
            "_view_module_version": "1.2.0",
            "_view_name": "LayoutView",
            "align_content": null,
            "align_items": null,
            "align_self": null,
            "border": null,
            "bottom": null,
            "display": null,
            "flex": null,
            "flex_flow": null,
            "grid_area": null,
            "grid_auto_columns": null,
            "grid_auto_flow": null,
            "grid_auto_rows": null,
            "grid_column": null,
            "grid_gap": null,
            "grid_row": null,
            "grid_template_areas": null,
            "grid_template_columns": null,
            "grid_template_rows": null,
            "height": null,
            "justify_content": null,
            "justify_items": null,
            "left": null,
            "margin": null,
            "max_height": null,
            "max_width": null,
            "min_height": null,
            "min_width": null,
            "object_fit": null,
            "object_position": null,
            "order": null,
            "overflow": null,
            "overflow_x": null,
            "overflow_y": null,
            "padding": null,
            "right": null,
            "top": null,
            "visibility": null,
            "width": null
          }
        },
        "99a1e2d9eab3430eb4c1ce9f6a5e5bb1": {
          "model_module": "@jupyter-widgets/controls",
          "model_name": "DescriptionStyleModel",
          "model_module_version": "1.5.0",
          "state": {
            "_model_module": "@jupyter-widgets/controls",
            "_model_module_version": "1.5.0",
            "_model_name": "DescriptionStyleModel",
            "_view_count": null,
            "_view_module": "@jupyter-widgets/base",
            "_view_module_version": "1.2.0",
            "_view_name": "StyleView",
            "description_width": ""
          }
        },
        "a0a35582dd0c4941aaaeb2e7ec9b5e0c": {
          "model_module": "@jupyter-widgets/base",
          "model_name": "LayoutModel",
          "model_module_version": "1.2.0",
          "state": {
            "_model_module": "@jupyter-widgets/base",
            "_model_module_version": "1.2.0",
            "_model_name": "LayoutModel",
            "_view_count": null,
            "_view_module": "@jupyter-widgets/base",
            "_view_module_version": "1.2.0",
            "_view_name": "LayoutView",
            "align_content": null,
            "align_items": null,
            "align_self": null,
            "border": null,
            "bottom": null,
            "display": null,
            "flex": null,
            "flex_flow": null,
            "grid_area": null,
            "grid_auto_columns": null,
            "grid_auto_flow": null,
            "grid_auto_rows": null,
            "grid_column": null,
            "grid_gap": null,
            "grid_row": null,
            "grid_template_areas": null,
            "grid_template_columns": null,
            "grid_template_rows": null,
            "height": null,
            "justify_content": null,
            "justify_items": null,
            "left": null,
            "margin": null,
            "max_height": null,
            "max_width": null,
            "min_height": null,
            "min_width": null,
            "object_fit": null,
            "object_position": null,
            "order": null,
            "overflow": null,
            "overflow_x": null,
            "overflow_y": null,
            "padding": null,
            "right": null,
            "top": null,
            "visibility": null,
            "width": null
          }
        },
        "bd1867b95c2a454eb57038b6c6afa7c6": {
          "model_module": "@jupyter-widgets/controls",
          "model_name": "ProgressStyleModel",
          "model_module_version": "1.5.0",
          "state": {
            "_model_module": "@jupyter-widgets/controls",
            "_model_module_version": "1.5.0",
            "_model_name": "ProgressStyleModel",
            "_view_count": null,
            "_view_module": "@jupyter-widgets/base",
            "_view_module_version": "1.2.0",
            "_view_name": "StyleView",
            "bar_color": null,
            "description_width": ""
          }
        },
        "dedb02ef1ec8433a8e9e89e59eaf4e68": {
          "model_module": "@jupyter-widgets/base",
          "model_name": "LayoutModel",
          "model_module_version": "1.2.0",
          "state": {
            "_model_module": "@jupyter-widgets/base",
            "_model_module_version": "1.2.0",
            "_model_name": "LayoutModel",
            "_view_count": null,
            "_view_module": "@jupyter-widgets/base",
            "_view_module_version": "1.2.0",
            "_view_name": "LayoutView",
            "align_content": null,
            "align_items": null,
            "align_self": null,
            "border": null,
            "bottom": null,
            "display": null,
            "flex": null,
            "flex_flow": null,
            "grid_area": null,
            "grid_auto_columns": null,
            "grid_auto_flow": null,
            "grid_auto_rows": null,
            "grid_column": null,
            "grid_gap": null,
            "grid_row": null,
            "grid_template_areas": null,
            "grid_template_columns": null,
            "grid_template_rows": null,
            "height": null,
            "justify_content": null,
            "justify_items": null,
            "left": null,
            "margin": null,
            "max_height": null,
            "max_width": null,
            "min_height": null,
            "min_width": null,
            "object_fit": null,
            "object_position": null,
            "order": null,
            "overflow": null,
            "overflow_x": null,
            "overflow_y": null,
            "padding": null,
            "right": null,
            "top": null,
            "visibility": null,
            "width": null
          }
        },
        "9730612284b44a379e06ef49e9fe8fe4": {
          "model_module": "@jupyter-widgets/controls",
          "model_name": "DescriptionStyleModel",
          "model_module_version": "1.5.0",
          "state": {
            "_model_module": "@jupyter-widgets/controls",
            "_model_module_version": "1.5.0",
            "_model_name": "DescriptionStyleModel",
            "_view_count": null,
            "_view_module": "@jupyter-widgets/base",
            "_view_module_version": "1.2.0",
            "_view_name": "StyleView",
            "description_width": ""
          }
        },
        "9cf6f1f06e474a28a6ca76b516424cb0": {
          "model_module": "@jupyter-widgets/controls",
          "model_name": "HBoxModel",
          "model_module_version": "1.5.0",
          "state": {
            "_dom_classes": [],
            "_model_module": "@jupyter-widgets/controls",
            "_model_module_version": "1.5.0",
            "_model_name": "HBoxModel",
            "_view_count": null,
            "_view_module": "@jupyter-widgets/controls",
            "_view_module_version": "1.5.0",
            "_view_name": "HBoxView",
            "box_style": "",
            "children": [
              "IPY_MODEL_1e156c562d7941dfbe242fcf70a5fa84",
              "IPY_MODEL_6d766fd014ca44d6ae2aee231c3643e3",
              "IPY_MODEL_8589a00a6fc546ddbdf575a2d0f9c4fb"
            ],
            "layout": "IPY_MODEL_a0eabf3aa5ce4a3badc33e5c67739418"
          }
        },
        "1e156c562d7941dfbe242fcf70a5fa84": {
          "model_module": "@jupyter-widgets/controls",
          "model_name": "HTMLModel",
          "model_module_version": "1.5.0",
          "state": {
            "_dom_classes": [],
            "_model_module": "@jupyter-widgets/controls",
            "_model_module_version": "1.5.0",
            "_model_name": "HTMLModel",
            "_view_count": null,
            "_view_module": "@jupyter-widgets/controls",
            "_view_module_version": "1.5.0",
            "_view_name": "HTMLView",
            "description": "",
            "description_tooltip": null,
            "layout": "IPY_MODEL_5ce3bc3b284e45b0ad05e0d38cc1ad69",
            "placeholder": "​",
            "style": "IPY_MODEL_cd17312057534d3abb0d19d2fee1c720",
            "value": "tokenizer_config.json: 100%"
          }
        },
        "6d766fd014ca44d6ae2aee231c3643e3": {
          "model_module": "@jupyter-widgets/controls",
          "model_name": "FloatProgressModel",
          "model_module_version": "1.5.0",
          "state": {
            "_dom_classes": [],
            "_model_module": "@jupyter-widgets/controls",
            "_model_module_version": "1.5.0",
            "_model_name": "FloatProgressModel",
            "_view_count": null,
            "_view_module": "@jupyter-widgets/controls",
            "_view_module_version": "1.5.0",
            "_view_name": "ProgressView",
            "bar_style": "success",
            "description": "",
            "description_tooltip": null,
            "layout": "IPY_MODEL_7121f20579234c55af9e4a79dc264a1f",
            "max": 592,
            "min": 0,
            "orientation": "horizontal",
            "style": "IPY_MODEL_f2ebccc9e4214d0c86763cfbe47b5a7a",
            "value": 592
          }
        },
        "8589a00a6fc546ddbdf575a2d0f9c4fb": {
          "model_module": "@jupyter-widgets/controls",
          "model_name": "HTMLModel",
          "model_module_version": "1.5.0",
          "state": {
            "_dom_classes": [],
            "_model_module": "@jupyter-widgets/controls",
            "_model_module_version": "1.5.0",
            "_model_name": "HTMLModel",
            "_view_count": null,
            "_view_module": "@jupyter-widgets/controls",
            "_view_module_version": "1.5.0",
            "_view_name": "HTMLView",
            "description": "",
            "description_tooltip": null,
            "layout": "IPY_MODEL_a0cd3161e5d34a14b2e3b99bb3b20923",
            "placeholder": "​",
            "style": "IPY_MODEL_3731bcee1a024a88a66cef2265769a67",
            "value": " 592/592 [00:00&lt;00:00, 9.11kB/s]"
          }
        },
        "a0eabf3aa5ce4a3badc33e5c67739418": {
          "model_module": "@jupyter-widgets/base",
          "model_name": "LayoutModel",
          "model_module_version": "1.2.0",
          "state": {
            "_model_module": "@jupyter-widgets/base",
            "_model_module_version": "1.2.0",
            "_model_name": "LayoutModel",
            "_view_count": null,
            "_view_module": "@jupyter-widgets/base",
            "_view_module_version": "1.2.0",
            "_view_name": "LayoutView",
            "align_content": null,
            "align_items": null,
            "align_self": null,
            "border": null,
            "bottom": null,
            "display": null,
            "flex": null,
            "flex_flow": null,
            "grid_area": null,
            "grid_auto_columns": null,
            "grid_auto_flow": null,
            "grid_auto_rows": null,
            "grid_column": null,
            "grid_gap": null,
            "grid_row": null,
            "grid_template_areas": null,
            "grid_template_columns": null,
            "grid_template_rows": null,
            "height": null,
            "justify_content": null,
            "justify_items": null,
            "left": null,
            "margin": null,
            "max_height": null,
            "max_width": null,
            "min_height": null,
            "min_width": null,
            "object_fit": null,
            "object_position": null,
            "order": null,
            "overflow": null,
            "overflow_x": null,
            "overflow_y": null,
            "padding": null,
            "right": null,
            "top": null,
            "visibility": null,
            "width": null
          }
        },
        "5ce3bc3b284e45b0ad05e0d38cc1ad69": {
          "model_module": "@jupyter-widgets/base",
          "model_name": "LayoutModel",
          "model_module_version": "1.2.0",
          "state": {
            "_model_module": "@jupyter-widgets/base",
            "_model_module_version": "1.2.0",
            "_model_name": "LayoutModel",
            "_view_count": null,
            "_view_module": "@jupyter-widgets/base",
            "_view_module_version": "1.2.0",
            "_view_name": "LayoutView",
            "align_content": null,
            "align_items": null,
            "align_self": null,
            "border": null,
            "bottom": null,
            "display": null,
            "flex": null,
            "flex_flow": null,
            "grid_area": null,
            "grid_auto_columns": null,
            "grid_auto_flow": null,
            "grid_auto_rows": null,
            "grid_column": null,
            "grid_gap": null,
            "grid_row": null,
            "grid_template_areas": null,
            "grid_template_columns": null,
            "grid_template_rows": null,
            "height": null,
            "justify_content": null,
            "justify_items": null,
            "left": null,
            "margin": null,
            "max_height": null,
            "max_width": null,
            "min_height": null,
            "min_width": null,
            "object_fit": null,
            "object_position": null,
            "order": null,
            "overflow": null,
            "overflow_x": null,
            "overflow_y": null,
            "padding": null,
            "right": null,
            "top": null,
            "visibility": null,
            "width": null
          }
        },
        "cd17312057534d3abb0d19d2fee1c720": {
          "model_module": "@jupyter-widgets/controls",
          "model_name": "DescriptionStyleModel",
          "model_module_version": "1.5.0",
          "state": {
            "_model_module": "@jupyter-widgets/controls",
            "_model_module_version": "1.5.0",
            "_model_name": "DescriptionStyleModel",
            "_view_count": null,
            "_view_module": "@jupyter-widgets/base",
            "_view_module_version": "1.2.0",
            "_view_name": "StyleView",
            "description_width": ""
          }
        },
        "7121f20579234c55af9e4a79dc264a1f": {
          "model_module": "@jupyter-widgets/base",
          "model_name": "LayoutModel",
          "model_module_version": "1.2.0",
          "state": {
            "_model_module": "@jupyter-widgets/base",
            "_model_module_version": "1.2.0",
            "_model_name": "LayoutModel",
            "_view_count": null,
            "_view_module": "@jupyter-widgets/base",
            "_view_module_version": "1.2.0",
            "_view_name": "LayoutView",
            "align_content": null,
            "align_items": null,
            "align_self": null,
            "border": null,
            "bottom": null,
            "display": null,
            "flex": null,
            "flex_flow": null,
            "grid_area": null,
            "grid_auto_columns": null,
            "grid_auto_flow": null,
            "grid_auto_rows": null,
            "grid_column": null,
            "grid_gap": null,
            "grid_row": null,
            "grid_template_areas": null,
            "grid_template_columns": null,
            "grid_template_rows": null,
            "height": null,
            "justify_content": null,
            "justify_items": null,
            "left": null,
            "margin": null,
            "max_height": null,
            "max_width": null,
            "min_height": null,
            "min_width": null,
            "object_fit": null,
            "object_position": null,
            "order": null,
            "overflow": null,
            "overflow_x": null,
            "overflow_y": null,
            "padding": null,
            "right": null,
            "top": null,
            "visibility": null,
            "width": null
          }
        },
        "f2ebccc9e4214d0c86763cfbe47b5a7a": {
          "model_module": "@jupyter-widgets/controls",
          "model_name": "ProgressStyleModel",
          "model_module_version": "1.5.0",
          "state": {
            "_model_module": "@jupyter-widgets/controls",
            "_model_module_version": "1.5.0",
            "_model_name": "ProgressStyleModel",
            "_view_count": null,
            "_view_module": "@jupyter-widgets/base",
            "_view_module_version": "1.2.0",
            "_view_name": "StyleView",
            "bar_color": null,
            "description_width": ""
          }
        },
        "a0cd3161e5d34a14b2e3b99bb3b20923": {
          "model_module": "@jupyter-widgets/base",
          "model_name": "LayoutModel",
          "model_module_version": "1.2.0",
          "state": {
            "_model_module": "@jupyter-widgets/base",
            "_model_module_version": "1.2.0",
            "_model_name": "LayoutModel",
            "_view_count": null,
            "_view_module": "@jupyter-widgets/base",
            "_view_module_version": "1.2.0",
            "_view_name": "LayoutView",
            "align_content": null,
            "align_items": null,
            "align_self": null,
            "border": null,
            "bottom": null,
            "display": null,
            "flex": null,
            "flex_flow": null,
            "grid_area": null,
            "grid_auto_columns": null,
            "grid_auto_flow": null,
            "grid_auto_rows": null,
            "grid_column": null,
            "grid_gap": null,
            "grid_row": null,
            "grid_template_areas": null,
            "grid_template_columns": null,
            "grid_template_rows": null,
            "height": null,
            "justify_content": null,
            "justify_items": null,
            "left": null,
            "margin": null,
            "max_height": null,
            "max_width": null,
            "min_height": null,
            "min_width": null,
            "object_fit": null,
            "object_position": null,
            "order": null,
            "overflow": null,
            "overflow_x": null,
            "overflow_y": null,
            "padding": null,
            "right": null,
            "top": null,
            "visibility": null,
            "width": null
          }
        },
        "3731bcee1a024a88a66cef2265769a67": {
          "model_module": "@jupyter-widgets/controls",
          "model_name": "DescriptionStyleModel",
          "model_module_version": "1.5.0",
          "state": {
            "_model_module": "@jupyter-widgets/controls",
            "_model_module_version": "1.5.0",
            "_model_name": "DescriptionStyleModel",
            "_view_count": null,
            "_view_module": "@jupyter-widgets/base",
            "_view_module_version": "1.2.0",
            "_view_name": "StyleView",
            "description_width": ""
          }
        },
        "e1c5473bf00149deb9a03400aabc4dac": {
          "model_module": "@jupyter-widgets/controls",
          "model_name": "HBoxModel",
          "model_module_version": "1.5.0",
          "state": {
            "_dom_classes": [],
            "_model_module": "@jupyter-widgets/controls",
            "_model_module_version": "1.5.0",
            "_model_name": "HBoxModel",
            "_view_count": null,
            "_view_module": "@jupyter-widgets/controls",
            "_view_module_version": "1.5.0",
            "_view_name": "HBoxView",
            "box_style": "",
            "children": [
              "IPY_MODEL_22d5317cb9fc4f21b37e1622afbdab20",
              "IPY_MODEL_347a28c104a248b8b519d9e4637b3a82",
              "IPY_MODEL_aecc0ec6fff242b9a078078633c92de1"
            ],
            "layout": "IPY_MODEL_e7cb89db61f543959db4380b101f459a"
          }
        },
        "22d5317cb9fc4f21b37e1622afbdab20": {
          "model_module": "@jupyter-widgets/controls",
          "model_name": "HTMLModel",
          "model_module_version": "1.5.0",
          "state": {
            "_dom_classes": [],
            "_model_module": "@jupyter-widgets/controls",
            "_model_module_version": "1.5.0",
            "_model_name": "HTMLModel",
            "_view_count": null,
            "_view_module": "@jupyter-widgets/controls",
            "_view_module_version": "1.5.0",
            "_view_name": "HTMLView",
            "description": "",
            "description_tooltip": null,
            "layout": "IPY_MODEL_cfaee6b7005640e7a8c085f1c80b1593",
            "placeholder": "​",
            "style": "IPY_MODEL_0a8ed636c2c84143805d696d713298e0",
            "value": "vocab.json: "
          }
        },
        "347a28c104a248b8b519d9e4637b3a82": {
          "model_module": "@jupyter-widgets/controls",
          "model_name": "FloatProgressModel",
          "model_module_version": "1.5.0",
          "state": {
            "_dom_classes": [],
            "_model_module": "@jupyter-widgets/controls",
            "_model_module_version": "1.5.0",
            "_model_name": "FloatProgressModel",
            "_view_count": null,
            "_view_module": "@jupyter-widgets/controls",
            "_view_module_version": "1.5.0",
            "_view_name": "ProgressView",
            "bar_style": "success",
            "description": "",
            "description_tooltip": null,
            "layout": "IPY_MODEL_2a3de02c8f3349b6abb6808ea1c72b82",
            "max": 1,
            "min": 0,
            "orientation": "horizontal",
            "style": "IPY_MODEL_77ad8fddcf7441be910fde0141b60cf8",
            "value": 1
          }
        },
        "aecc0ec6fff242b9a078078633c92de1": {
          "model_module": "@jupyter-widgets/controls",
          "model_name": "HTMLModel",
          "model_module_version": "1.5.0",
          "state": {
            "_dom_classes": [],
            "_model_module": "@jupyter-widgets/controls",
            "_model_module_version": "1.5.0",
            "_model_name": "HTMLModel",
            "_view_count": null,
            "_view_module": "@jupyter-widgets/controls",
            "_view_module_version": "1.5.0",
            "_view_name": "HTMLView",
            "description": "",
            "description_tooltip": null,
            "layout": "IPY_MODEL_c4c36c81838a476093a8f4e0d3c2f15c",
            "placeholder": "​",
            "style": "IPY_MODEL_47d68ffda8174db58842880ddb3b6f93",
            "value": " 862k/? [00:00&lt;00:00, 9.93MB/s]"
          }
        },
        "e7cb89db61f543959db4380b101f459a": {
          "model_module": "@jupyter-widgets/base",
          "model_name": "LayoutModel",
          "model_module_version": "1.2.0",
          "state": {
            "_model_module": "@jupyter-widgets/base",
            "_model_module_version": "1.2.0",
            "_model_name": "LayoutModel",
            "_view_count": null,
            "_view_module": "@jupyter-widgets/base",
            "_view_module_version": "1.2.0",
            "_view_name": "LayoutView",
            "align_content": null,
            "align_items": null,
            "align_self": null,
            "border": null,
            "bottom": null,
            "display": null,
            "flex": null,
            "flex_flow": null,
            "grid_area": null,
            "grid_auto_columns": null,
            "grid_auto_flow": null,
            "grid_auto_rows": null,
            "grid_column": null,
            "grid_gap": null,
            "grid_row": null,
            "grid_template_areas": null,
            "grid_template_columns": null,
            "grid_template_rows": null,
            "height": null,
            "justify_content": null,
            "justify_items": null,
            "left": null,
            "margin": null,
            "max_height": null,
            "max_width": null,
            "min_height": null,
            "min_width": null,
            "object_fit": null,
            "object_position": null,
            "order": null,
            "overflow": null,
            "overflow_x": null,
            "overflow_y": null,
            "padding": null,
            "right": null,
            "top": null,
            "visibility": null,
            "width": null
          }
        },
        "cfaee6b7005640e7a8c085f1c80b1593": {
          "model_module": "@jupyter-widgets/base",
          "model_name": "LayoutModel",
          "model_module_version": "1.2.0",
          "state": {
            "_model_module": "@jupyter-widgets/base",
            "_model_module_version": "1.2.0",
            "_model_name": "LayoutModel",
            "_view_count": null,
            "_view_module": "@jupyter-widgets/base",
            "_view_module_version": "1.2.0",
            "_view_name": "LayoutView",
            "align_content": null,
            "align_items": null,
            "align_self": null,
            "border": null,
            "bottom": null,
            "display": null,
            "flex": null,
            "flex_flow": null,
            "grid_area": null,
            "grid_auto_columns": null,
            "grid_auto_flow": null,
            "grid_auto_rows": null,
            "grid_column": null,
            "grid_gap": null,
            "grid_row": null,
            "grid_template_areas": null,
            "grid_template_columns": null,
            "grid_template_rows": null,
            "height": null,
            "justify_content": null,
            "justify_items": null,
            "left": null,
            "margin": null,
            "max_height": null,
            "max_width": null,
            "min_height": null,
            "min_width": null,
            "object_fit": null,
            "object_position": null,
            "order": null,
            "overflow": null,
            "overflow_x": null,
            "overflow_y": null,
            "padding": null,
            "right": null,
            "top": null,
            "visibility": null,
            "width": null
          }
        },
        "0a8ed636c2c84143805d696d713298e0": {
          "model_module": "@jupyter-widgets/controls",
          "model_name": "DescriptionStyleModel",
          "model_module_version": "1.5.0",
          "state": {
            "_model_module": "@jupyter-widgets/controls",
            "_model_module_version": "1.5.0",
            "_model_name": "DescriptionStyleModel",
            "_view_count": null,
            "_view_module": "@jupyter-widgets/base",
            "_view_module_version": "1.2.0",
            "_view_name": "StyleView",
            "description_width": ""
          }
        },
        "2a3de02c8f3349b6abb6808ea1c72b82": {
          "model_module": "@jupyter-widgets/base",
          "model_name": "LayoutModel",
          "model_module_version": "1.2.0",
          "state": {
            "_model_module": "@jupyter-widgets/base",
            "_model_module_version": "1.2.0",
            "_model_name": "LayoutModel",
            "_view_count": null,
            "_view_module": "@jupyter-widgets/base",
            "_view_module_version": "1.2.0",
            "_view_name": "LayoutView",
            "align_content": null,
            "align_items": null,
            "align_self": null,
            "border": null,
            "bottom": null,
            "display": null,
            "flex": null,
            "flex_flow": null,
            "grid_area": null,
            "grid_auto_columns": null,
            "grid_auto_flow": null,
            "grid_auto_rows": null,
            "grid_column": null,
            "grid_gap": null,
            "grid_row": null,
            "grid_template_areas": null,
            "grid_template_columns": null,
            "grid_template_rows": null,
            "height": null,
            "justify_content": null,
            "justify_items": null,
            "left": null,
            "margin": null,
            "max_height": null,
            "max_width": null,
            "min_height": null,
            "min_width": null,
            "object_fit": null,
            "object_position": null,
            "order": null,
            "overflow": null,
            "overflow_x": null,
            "overflow_y": null,
            "padding": null,
            "right": null,
            "top": null,
            "visibility": null,
            "width": "20px"
          }
        },
        "77ad8fddcf7441be910fde0141b60cf8": {
          "model_module": "@jupyter-widgets/controls",
          "model_name": "ProgressStyleModel",
          "model_module_version": "1.5.0",
          "state": {
            "_model_module": "@jupyter-widgets/controls",
            "_model_module_version": "1.5.0",
            "_model_name": "ProgressStyleModel",
            "_view_count": null,
            "_view_module": "@jupyter-widgets/base",
            "_view_module_version": "1.2.0",
            "_view_name": "StyleView",
            "bar_color": null,
            "description_width": ""
          }
        },
        "c4c36c81838a476093a8f4e0d3c2f15c": {
          "model_module": "@jupyter-widgets/base",
          "model_name": "LayoutModel",
          "model_module_version": "1.2.0",
          "state": {
            "_model_module": "@jupyter-widgets/base",
            "_model_module_version": "1.2.0",
            "_model_name": "LayoutModel",
            "_view_count": null,
            "_view_module": "@jupyter-widgets/base",
            "_view_module_version": "1.2.0",
            "_view_name": "LayoutView",
            "align_content": null,
            "align_items": null,
            "align_self": null,
            "border": null,
            "bottom": null,
            "display": null,
            "flex": null,
            "flex_flow": null,
            "grid_area": null,
            "grid_auto_columns": null,
            "grid_auto_flow": null,
            "grid_auto_rows": null,
            "grid_column": null,
            "grid_gap": null,
            "grid_row": null,
            "grid_template_areas": null,
            "grid_template_columns": null,
            "grid_template_rows": null,
            "height": null,
            "justify_content": null,
            "justify_items": null,
            "left": null,
            "margin": null,
            "max_height": null,
            "max_width": null,
            "min_height": null,
            "min_width": null,
            "object_fit": null,
            "object_position": null,
            "order": null,
            "overflow": null,
            "overflow_x": null,
            "overflow_y": null,
            "padding": null,
            "right": null,
            "top": null,
            "visibility": null,
            "width": null
          }
        },
        "47d68ffda8174db58842880ddb3b6f93": {
          "model_module": "@jupyter-widgets/controls",
          "model_name": "DescriptionStyleModel",
          "model_module_version": "1.5.0",
          "state": {
            "_model_module": "@jupyter-widgets/controls",
            "_model_module_version": "1.5.0",
            "_model_name": "DescriptionStyleModel",
            "_view_count": null,
            "_view_module": "@jupyter-widgets/base",
            "_view_module_version": "1.2.0",
            "_view_name": "StyleView",
            "description_width": ""
          }
        },
        "3f3e8b4fe16d487c9870ce5a3d7ada67": {
          "model_module": "@jupyter-widgets/controls",
          "model_name": "HBoxModel",
          "model_module_version": "1.5.0",
          "state": {
            "_dom_classes": [],
            "_model_module": "@jupyter-widgets/controls",
            "_model_module_version": "1.5.0",
            "_model_name": "HBoxModel",
            "_view_count": null,
            "_view_module": "@jupyter-widgets/controls",
            "_view_module_version": "1.5.0",
            "_view_name": "HBoxView",
            "box_style": "",
            "children": [
              "IPY_MODEL_8a120a359dc443dab8df3c2f2165a647",
              "IPY_MODEL_31ae155bbc9a4d50ad33abec8051583d",
              "IPY_MODEL_49d0bab4581a471483415f5f7f95dcd2"
            ],
            "layout": "IPY_MODEL_01ac485b468c4597a48a3340a6db6d4a"
          }
        },
        "8a120a359dc443dab8df3c2f2165a647": {
          "model_module": "@jupyter-widgets/controls",
          "model_name": "HTMLModel",
          "model_module_version": "1.5.0",
          "state": {
            "_dom_classes": [],
            "_model_module": "@jupyter-widgets/controls",
            "_model_module_version": "1.5.0",
            "_model_name": "HTMLModel",
            "_view_count": null,
            "_view_module": "@jupyter-widgets/controls",
            "_view_module_version": "1.5.0",
            "_view_name": "HTMLView",
            "description": "",
            "description_tooltip": null,
            "layout": "IPY_MODEL_97e1b869b69f49e181bc5b820109d18b",
            "placeholder": "​",
            "style": "IPY_MODEL_e95fb06b70834672b6353aeb6631e637",
            "value": "merges.txt: "
          }
        },
        "31ae155bbc9a4d50ad33abec8051583d": {
          "model_module": "@jupyter-widgets/controls",
          "model_name": "FloatProgressModel",
          "model_module_version": "1.5.0",
          "state": {
            "_dom_classes": [],
            "_model_module": "@jupyter-widgets/controls",
            "_model_module_version": "1.5.0",
            "_model_name": "FloatProgressModel",
            "_view_count": null,
            "_view_module": "@jupyter-widgets/controls",
            "_view_module_version": "1.5.0",
            "_view_name": "ProgressView",
            "bar_style": "success",
            "description": "",
            "description_tooltip": null,
            "layout": "IPY_MODEL_1583a0aaad9f43849364205d52f374a2",
            "max": 1,
            "min": 0,
            "orientation": "horizontal",
            "style": "IPY_MODEL_acecd5bc3f2b4b76a45459bb67432edf",
            "value": 1
          }
        },
        "49d0bab4581a471483415f5f7f95dcd2": {
          "model_module": "@jupyter-widgets/controls",
          "model_name": "HTMLModel",
          "model_module_version": "1.5.0",
          "state": {
            "_dom_classes": [],
            "_model_module": "@jupyter-widgets/controls",
            "_model_module_version": "1.5.0",
            "_model_name": "HTMLModel",
            "_view_count": null,
            "_view_module": "@jupyter-widgets/controls",
            "_view_module_version": "1.5.0",
            "_view_name": "HTMLView",
            "description": "",
            "description_tooltip": null,
            "layout": "IPY_MODEL_2a21a6a5b61246bd8619fb953ebddf8a",
            "placeholder": "​",
            "style": "IPY_MODEL_c6d40dbe382b4c1e99c250c7d768f36b",
            "value": " 525k/? [00:00&lt;00:00, 7.71MB/s]"
          }
        },
        "01ac485b468c4597a48a3340a6db6d4a": {
          "model_module": "@jupyter-widgets/base",
          "model_name": "LayoutModel",
          "model_module_version": "1.2.0",
          "state": {
            "_model_module": "@jupyter-widgets/base",
            "_model_module_version": "1.2.0",
            "_model_name": "LayoutModel",
            "_view_count": null,
            "_view_module": "@jupyter-widgets/base",
            "_view_module_version": "1.2.0",
            "_view_name": "LayoutView",
            "align_content": null,
            "align_items": null,
            "align_self": null,
            "border": null,
            "bottom": null,
            "display": null,
            "flex": null,
            "flex_flow": null,
            "grid_area": null,
            "grid_auto_columns": null,
            "grid_auto_flow": null,
            "grid_auto_rows": null,
            "grid_column": null,
            "grid_gap": null,
            "grid_row": null,
            "grid_template_areas": null,
            "grid_template_columns": null,
            "grid_template_rows": null,
            "height": null,
            "justify_content": null,
            "justify_items": null,
            "left": null,
            "margin": null,
            "max_height": null,
            "max_width": null,
            "min_height": null,
            "min_width": null,
            "object_fit": null,
            "object_position": null,
            "order": null,
            "overflow": null,
            "overflow_x": null,
            "overflow_y": null,
            "padding": null,
            "right": null,
            "top": null,
            "visibility": null,
            "width": null
          }
        },
        "97e1b869b69f49e181bc5b820109d18b": {
          "model_module": "@jupyter-widgets/base",
          "model_name": "LayoutModel",
          "model_module_version": "1.2.0",
          "state": {
            "_model_module": "@jupyter-widgets/base",
            "_model_module_version": "1.2.0",
            "_model_name": "LayoutModel",
            "_view_count": null,
            "_view_module": "@jupyter-widgets/base",
            "_view_module_version": "1.2.0",
            "_view_name": "LayoutView",
            "align_content": null,
            "align_items": null,
            "align_self": null,
            "border": null,
            "bottom": null,
            "display": null,
            "flex": null,
            "flex_flow": null,
            "grid_area": null,
            "grid_auto_columns": null,
            "grid_auto_flow": null,
            "grid_auto_rows": null,
            "grid_column": null,
            "grid_gap": null,
            "grid_row": null,
            "grid_template_areas": null,
            "grid_template_columns": null,
            "grid_template_rows": null,
            "height": null,
            "justify_content": null,
            "justify_items": null,
            "left": null,
            "margin": null,
            "max_height": null,
            "max_width": null,
            "min_height": null,
            "min_width": null,
            "object_fit": null,
            "object_position": null,
            "order": null,
            "overflow": null,
            "overflow_x": null,
            "overflow_y": null,
            "padding": null,
            "right": null,
            "top": null,
            "visibility": null,
            "width": null
          }
        },
        "e95fb06b70834672b6353aeb6631e637": {
          "model_module": "@jupyter-widgets/controls",
          "model_name": "DescriptionStyleModel",
          "model_module_version": "1.5.0",
          "state": {
            "_model_module": "@jupyter-widgets/controls",
            "_model_module_version": "1.5.0",
            "_model_name": "DescriptionStyleModel",
            "_view_count": null,
            "_view_module": "@jupyter-widgets/base",
            "_view_module_version": "1.2.0",
            "_view_name": "StyleView",
            "description_width": ""
          }
        },
        "1583a0aaad9f43849364205d52f374a2": {
          "model_module": "@jupyter-widgets/base",
          "model_name": "LayoutModel",
          "model_module_version": "1.2.0",
          "state": {
            "_model_module": "@jupyter-widgets/base",
            "_model_module_version": "1.2.0",
            "_model_name": "LayoutModel",
            "_view_count": null,
            "_view_module": "@jupyter-widgets/base",
            "_view_module_version": "1.2.0",
            "_view_name": "LayoutView",
            "align_content": null,
            "align_items": null,
            "align_self": null,
            "border": null,
            "bottom": null,
            "display": null,
            "flex": null,
            "flex_flow": null,
            "grid_area": null,
            "grid_auto_columns": null,
            "grid_auto_flow": null,
            "grid_auto_rows": null,
            "grid_column": null,
            "grid_gap": null,
            "grid_row": null,
            "grid_template_areas": null,
            "grid_template_columns": null,
            "grid_template_rows": null,
            "height": null,
            "justify_content": null,
            "justify_items": null,
            "left": null,
            "margin": null,
            "max_height": null,
            "max_width": null,
            "min_height": null,
            "min_width": null,
            "object_fit": null,
            "object_position": null,
            "order": null,
            "overflow": null,
            "overflow_x": null,
            "overflow_y": null,
            "padding": null,
            "right": null,
            "top": null,
            "visibility": null,
            "width": "20px"
          }
        },
        "acecd5bc3f2b4b76a45459bb67432edf": {
          "model_module": "@jupyter-widgets/controls",
          "model_name": "ProgressStyleModel",
          "model_module_version": "1.5.0",
          "state": {
            "_model_module": "@jupyter-widgets/controls",
            "_model_module_version": "1.5.0",
            "_model_name": "ProgressStyleModel",
            "_view_count": null,
            "_view_module": "@jupyter-widgets/base",
            "_view_module_version": "1.2.0",
            "_view_name": "StyleView",
            "bar_color": null,
            "description_width": ""
          }
        },
        "2a21a6a5b61246bd8619fb953ebddf8a": {
          "model_module": "@jupyter-widgets/base",
          "model_name": "LayoutModel",
          "model_module_version": "1.2.0",
          "state": {
            "_model_module": "@jupyter-widgets/base",
            "_model_module_version": "1.2.0",
            "_model_name": "LayoutModel",
            "_view_count": null,
            "_view_module": "@jupyter-widgets/base",
            "_view_module_version": "1.2.0",
            "_view_name": "LayoutView",
            "align_content": null,
            "align_items": null,
            "align_self": null,
            "border": null,
            "bottom": null,
            "display": null,
            "flex": null,
            "flex_flow": null,
            "grid_area": null,
            "grid_auto_columns": null,
            "grid_auto_flow": null,
            "grid_auto_rows": null,
            "grid_column": null,
            "grid_gap": null,
            "grid_row": null,
            "grid_template_areas": null,
            "grid_template_columns": null,
            "grid_template_rows": null,
            "height": null,
            "justify_content": null,
            "justify_items": null,
            "left": null,
            "margin": null,
            "max_height": null,
            "max_width": null,
            "min_height": null,
            "min_width": null,
            "object_fit": null,
            "object_position": null,
            "order": null,
            "overflow": null,
            "overflow_x": null,
            "overflow_y": null,
            "padding": null,
            "right": null,
            "top": null,
            "visibility": null,
            "width": null
          }
        },
        "c6d40dbe382b4c1e99c250c7d768f36b": {
          "model_module": "@jupyter-widgets/controls",
          "model_name": "DescriptionStyleModel",
          "model_module_version": "1.5.0",
          "state": {
            "_model_module": "@jupyter-widgets/controls",
            "_model_module_version": "1.5.0",
            "_model_name": "DescriptionStyleModel",
            "_view_count": null,
            "_view_module": "@jupyter-widgets/base",
            "_view_module_version": "1.2.0",
            "_view_name": "StyleView",
            "description_width": ""
          }
        },
        "8376e808d2ec4f88899a675729e06f62": {
          "model_module": "@jupyter-widgets/controls",
          "model_name": "HBoxModel",
          "model_module_version": "1.5.0",
          "state": {
            "_dom_classes": [],
            "_model_module": "@jupyter-widgets/controls",
            "_model_module_version": "1.5.0",
            "_model_name": "HBoxModel",
            "_view_count": null,
            "_view_module": "@jupyter-widgets/controls",
            "_view_module_version": "1.5.0",
            "_view_name": "HBoxView",
            "box_style": "",
            "children": [
              "IPY_MODEL_581cc51cbff943a58e68923eccda9e04",
              "IPY_MODEL_7eaf802b8ebf4c3b805ce7c995c90b95",
              "IPY_MODEL_06b5d2642af24312a5b92bc6c356a298"
            ],
            "layout": "IPY_MODEL_4f4a434aff2c41d58c926f69247c4557"
          }
        },
        "581cc51cbff943a58e68923eccda9e04": {
          "model_module": "@jupyter-widgets/controls",
          "model_name": "HTMLModel",
          "model_module_version": "1.5.0",
          "state": {
            "_dom_classes": [],
            "_model_module": "@jupyter-widgets/controls",
            "_model_module_version": "1.5.0",
            "_model_name": "HTMLModel",
            "_view_count": null,
            "_view_module": "@jupyter-widgets/controls",
            "_view_module_version": "1.5.0",
            "_view_name": "HTMLView",
            "description": "",
            "description_tooltip": null,
            "layout": "IPY_MODEL_2ba11c9d6c974e9695825b7ca4104c00",
            "placeholder": "​",
            "style": "IPY_MODEL_b007d7a92ceb418db6a08ee093edbc84",
            "value": "tokenizer.json: "
          }
        },
        "7eaf802b8ebf4c3b805ce7c995c90b95": {
          "model_module": "@jupyter-widgets/controls",
          "model_name": "FloatProgressModel",
          "model_module_version": "1.5.0",
          "state": {
            "_dom_classes": [],
            "_model_module": "@jupyter-widgets/controls",
            "_model_module_version": "1.5.0",
            "_model_name": "FloatProgressModel",
            "_view_count": null,
            "_view_module": "@jupyter-widgets/controls",
            "_view_module_version": "1.5.0",
            "_view_name": "ProgressView",
            "bar_style": "success",
            "description": "",
            "description_tooltip": null,
            "layout": "IPY_MODEL_cb9e2b18b1f14b638f5850ad84a5863f",
            "max": 1,
            "min": 0,
            "orientation": "horizontal",
            "style": "IPY_MODEL_dc43588302514577985996f2a0381bd4",
            "value": 1
          }
        },
        "06b5d2642af24312a5b92bc6c356a298": {
          "model_module": "@jupyter-widgets/controls",
          "model_name": "HTMLModel",
          "model_module_version": "1.5.0",
          "state": {
            "_dom_classes": [],
            "_model_module": "@jupyter-widgets/controls",
            "_model_module_version": "1.5.0",
            "_model_name": "HTMLModel",
            "_view_count": null,
            "_view_module": "@jupyter-widgets/controls",
            "_view_module_version": "1.5.0",
            "_view_name": "HTMLView",
            "description": "",
            "description_tooltip": null,
            "layout": "IPY_MODEL_18aa050bcb3a4d4688a6ca391c6fdd7d",
            "placeholder": "​",
            "style": "IPY_MODEL_68cca188f9344fbaa6ccfa65f507bf13",
            "value": " 2.22M/? [00:00&lt;00:00, 26.3MB/s]"
          }
        },
        "4f4a434aff2c41d58c926f69247c4557": {
          "model_module": "@jupyter-widgets/base",
          "model_name": "LayoutModel",
          "model_module_version": "1.2.0",
          "state": {
            "_model_module": "@jupyter-widgets/base",
            "_model_module_version": "1.2.0",
            "_model_name": "LayoutModel",
            "_view_count": null,
            "_view_module": "@jupyter-widgets/base",
            "_view_module_version": "1.2.0",
            "_view_name": "LayoutView",
            "align_content": null,
            "align_items": null,
            "align_self": null,
            "border": null,
            "bottom": null,
            "display": null,
            "flex": null,
            "flex_flow": null,
            "grid_area": null,
            "grid_auto_columns": null,
            "grid_auto_flow": null,
            "grid_auto_rows": null,
            "grid_column": null,
            "grid_gap": null,
            "grid_row": null,
            "grid_template_areas": null,
            "grid_template_columns": null,
            "grid_template_rows": null,
            "height": null,
            "justify_content": null,
            "justify_items": null,
            "left": null,
            "margin": null,
            "max_height": null,
            "max_width": null,
            "min_height": null,
            "min_width": null,
            "object_fit": null,
            "object_position": null,
            "order": null,
            "overflow": null,
            "overflow_x": null,
            "overflow_y": null,
            "padding": null,
            "right": null,
            "top": null,
            "visibility": null,
            "width": null
          }
        },
        "2ba11c9d6c974e9695825b7ca4104c00": {
          "model_module": "@jupyter-widgets/base",
          "model_name": "LayoutModel",
          "model_module_version": "1.2.0",
          "state": {
            "_model_module": "@jupyter-widgets/base",
            "_model_module_version": "1.2.0",
            "_model_name": "LayoutModel",
            "_view_count": null,
            "_view_module": "@jupyter-widgets/base",
            "_view_module_version": "1.2.0",
            "_view_name": "LayoutView",
            "align_content": null,
            "align_items": null,
            "align_self": null,
            "border": null,
            "bottom": null,
            "display": null,
            "flex": null,
            "flex_flow": null,
            "grid_area": null,
            "grid_auto_columns": null,
            "grid_auto_flow": null,
            "grid_auto_rows": null,
            "grid_column": null,
            "grid_gap": null,
            "grid_row": null,
            "grid_template_areas": null,
            "grid_template_columns": null,
            "grid_template_rows": null,
            "height": null,
            "justify_content": null,
            "justify_items": null,
            "left": null,
            "margin": null,
            "max_height": null,
            "max_width": null,
            "min_height": null,
            "min_width": null,
            "object_fit": null,
            "object_position": null,
            "order": null,
            "overflow": null,
            "overflow_x": null,
            "overflow_y": null,
            "padding": null,
            "right": null,
            "top": null,
            "visibility": null,
            "width": null
          }
        },
        "b007d7a92ceb418db6a08ee093edbc84": {
          "model_module": "@jupyter-widgets/controls",
          "model_name": "DescriptionStyleModel",
          "model_module_version": "1.5.0",
          "state": {
            "_model_module": "@jupyter-widgets/controls",
            "_model_module_version": "1.5.0",
            "_model_name": "DescriptionStyleModel",
            "_view_count": null,
            "_view_module": "@jupyter-widgets/base",
            "_view_module_version": "1.2.0",
            "_view_name": "StyleView",
            "description_width": ""
          }
        },
        "cb9e2b18b1f14b638f5850ad84a5863f": {
          "model_module": "@jupyter-widgets/base",
          "model_name": "LayoutModel",
          "model_module_version": "1.2.0",
          "state": {
            "_model_module": "@jupyter-widgets/base",
            "_model_module_version": "1.2.0",
            "_model_name": "LayoutModel",
            "_view_count": null,
            "_view_module": "@jupyter-widgets/base",
            "_view_module_version": "1.2.0",
            "_view_name": "LayoutView",
            "align_content": null,
            "align_items": null,
            "align_self": null,
            "border": null,
            "bottom": null,
            "display": null,
            "flex": null,
            "flex_flow": null,
            "grid_area": null,
            "grid_auto_columns": null,
            "grid_auto_flow": null,
            "grid_auto_rows": null,
            "grid_column": null,
            "grid_gap": null,
            "grid_row": null,
            "grid_template_areas": null,
            "grid_template_columns": null,
            "grid_template_rows": null,
            "height": null,
            "justify_content": null,
            "justify_items": null,
            "left": null,
            "margin": null,
            "max_height": null,
            "max_width": null,
            "min_height": null,
            "min_width": null,
            "object_fit": null,
            "object_position": null,
            "order": null,
            "overflow": null,
            "overflow_x": null,
            "overflow_y": null,
            "padding": null,
            "right": null,
            "top": null,
            "visibility": null,
            "width": "20px"
          }
        },
        "dc43588302514577985996f2a0381bd4": {
          "model_module": "@jupyter-widgets/controls",
          "model_name": "ProgressStyleModel",
          "model_module_version": "1.5.0",
          "state": {
            "_model_module": "@jupyter-widgets/controls",
            "_model_module_version": "1.5.0",
            "_model_name": "ProgressStyleModel",
            "_view_count": null,
            "_view_module": "@jupyter-widgets/base",
            "_view_module_version": "1.2.0",
            "_view_name": "StyleView",
            "bar_color": null,
            "description_width": ""
          }
        },
        "18aa050bcb3a4d4688a6ca391c6fdd7d": {
          "model_module": "@jupyter-widgets/base",
          "model_name": "LayoutModel",
          "model_module_version": "1.2.0",
          "state": {
            "_model_module": "@jupyter-widgets/base",
            "_model_module_version": "1.2.0",
            "_model_name": "LayoutModel",
            "_view_count": null,
            "_view_module": "@jupyter-widgets/base",
            "_view_module_version": "1.2.0",
            "_view_name": "LayoutView",
            "align_content": null,
            "align_items": null,
            "align_self": null,
            "border": null,
            "bottom": null,
            "display": null,
            "flex": null,
            "flex_flow": null,
            "grid_area": null,
            "grid_auto_columns": null,
            "grid_auto_flow": null,
            "grid_auto_rows": null,
            "grid_column": null,
            "grid_gap": null,
            "grid_row": null,
            "grid_template_areas": null,
            "grid_template_columns": null,
            "grid_template_rows": null,
            "height": null,
            "justify_content": null,
            "justify_items": null,
            "left": null,
            "margin": null,
            "max_height": null,
            "max_width": null,
            "min_height": null,
            "min_width": null,
            "object_fit": null,
            "object_position": null,
            "order": null,
            "overflow": null,
            "overflow_x": null,
            "overflow_y": null,
            "padding": null,
            "right": null,
            "top": null,
            "visibility": null,
            "width": null
          }
        },
        "68cca188f9344fbaa6ccfa65f507bf13": {
          "model_module": "@jupyter-widgets/controls",
          "model_name": "DescriptionStyleModel",
          "model_module_version": "1.5.0",
          "state": {
            "_model_module": "@jupyter-widgets/controls",
            "_model_module_version": "1.5.0",
            "_model_name": "DescriptionStyleModel",
            "_view_count": null,
            "_view_module": "@jupyter-widgets/base",
            "_view_module_version": "1.2.0",
            "_view_name": "StyleView",
            "description_width": ""
          }
        },
        "c01dd55bec21466bb5e390587ee02b5f": {
          "model_module": "@jupyter-widgets/controls",
          "model_name": "HBoxModel",
          "model_module_version": "1.5.0",
          "state": {
            "_dom_classes": [],
            "_model_module": "@jupyter-widgets/controls",
            "_model_module_version": "1.5.0",
            "_model_name": "HBoxModel",
            "_view_count": null,
            "_view_module": "@jupyter-widgets/controls",
            "_view_module_version": "1.5.0",
            "_view_name": "HBoxView",
            "box_style": "",
            "children": [
              "IPY_MODEL_a31bd2f9a6364ad280ecdba2438e8c7f",
              "IPY_MODEL_89087d107ed148c79a893951a457cfff",
              "IPY_MODEL_46bce74e1acf4e549a7cd710d569e2fa"
            ],
            "layout": "IPY_MODEL_f1de5e1c8dac4b39bbb652d887c7299b"
          }
        },
        "a31bd2f9a6364ad280ecdba2438e8c7f": {
          "model_module": "@jupyter-widgets/controls",
          "model_name": "HTMLModel",
          "model_module_version": "1.5.0",
          "state": {
            "_dom_classes": [],
            "_model_module": "@jupyter-widgets/controls",
            "_model_module_version": "1.5.0",
            "_model_name": "HTMLModel",
            "_view_count": null,
            "_view_module": "@jupyter-widgets/controls",
            "_view_module_version": "1.5.0",
            "_view_name": "HTMLView",
            "description": "",
            "description_tooltip": null,
            "layout": "IPY_MODEL_6cf59672d07f471985865ae33e43e561",
            "placeholder": "​",
            "style": "IPY_MODEL_a568ce92f18840898ac1c96c561e0379",
            "value": "special_tokens_map.json: 100%"
          }
        },
        "89087d107ed148c79a893951a457cfff": {
          "model_module": "@jupyter-widgets/controls",
          "model_name": "FloatProgressModel",
          "model_module_version": "1.5.0",
          "state": {
            "_dom_classes": [],
            "_model_module": "@jupyter-widgets/controls",
            "_model_module_version": "1.5.0",
            "_model_name": "FloatProgressModel",
            "_view_count": null,
            "_view_module": "@jupyter-widgets/controls",
            "_view_module_version": "1.5.0",
            "_view_name": "ProgressView",
            "bar_style": "success",
            "description": "",
            "description_tooltip": null,
            "layout": "IPY_MODEL_800c350bb04b4538ba27d18da3cbb39b",
            "max": 389,
            "min": 0,
            "orientation": "horizontal",
            "style": "IPY_MODEL_a488717f84d340d48545ac0df5e3dbed",
            "value": 389
          }
        },
        "46bce74e1acf4e549a7cd710d569e2fa": {
          "model_module": "@jupyter-widgets/controls",
          "model_name": "HTMLModel",
          "model_module_version": "1.5.0",
          "state": {
            "_dom_classes": [],
            "_model_module": "@jupyter-widgets/controls",
            "_model_module_version": "1.5.0",
            "_model_name": "HTMLModel",
            "_view_count": null,
            "_view_module": "@jupyter-widgets/controls",
            "_view_module_version": "1.5.0",
            "_view_name": "HTMLView",
            "description": "",
            "description_tooltip": null,
            "layout": "IPY_MODEL_b3da9352c6024736ba83983bd78dc5a9",
            "placeholder": "​",
            "style": "IPY_MODEL_f1aada47fa8e494990ca0b1e1b8aac59",
            "value": " 389/389 [00:00&lt;00:00, 8.05kB/s]"
          }
        },
        "f1de5e1c8dac4b39bbb652d887c7299b": {
          "model_module": "@jupyter-widgets/base",
          "model_name": "LayoutModel",
          "model_module_version": "1.2.0",
          "state": {
            "_model_module": "@jupyter-widgets/base",
            "_model_module_version": "1.2.0",
            "_model_name": "LayoutModel",
            "_view_count": null,
            "_view_module": "@jupyter-widgets/base",
            "_view_module_version": "1.2.0",
            "_view_name": "LayoutView",
            "align_content": null,
            "align_items": null,
            "align_self": null,
            "border": null,
            "bottom": null,
            "display": null,
            "flex": null,
            "flex_flow": null,
            "grid_area": null,
            "grid_auto_columns": null,
            "grid_auto_flow": null,
            "grid_auto_rows": null,
            "grid_column": null,
            "grid_gap": null,
            "grid_row": null,
            "grid_template_areas": null,
            "grid_template_columns": null,
            "grid_template_rows": null,
            "height": null,
            "justify_content": null,
            "justify_items": null,
            "left": null,
            "margin": null,
            "max_height": null,
            "max_width": null,
            "min_height": null,
            "min_width": null,
            "object_fit": null,
            "object_position": null,
            "order": null,
            "overflow": null,
            "overflow_x": null,
            "overflow_y": null,
            "padding": null,
            "right": null,
            "top": null,
            "visibility": null,
            "width": null
          }
        },
        "6cf59672d07f471985865ae33e43e561": {
          "model_module": "@jupyter-widgets/base",
          "model_name": "LayoutModel",
          "model_module_version": "1.2.0",
          "state": {
            "_model_module": "@jupyter-widgets/base",
            "_model_module_version": "1.2.0",
            "_model_name": "LayoutModel",
            "_view_count": null,
            "_view_module": "@jupyter-widgets/base",
            "_view_module_version": "1.2.0",
            "_view_name": "LayoutView",
            "align_content": null,
            "align_items": null,
            "align_self": null,
            "border": null,
            "bottom": null,
            "display": null,
            "flex": null,
            "flex_flow": null,
            "grid_area": null,
            "grid_auto_columns": null,
            "grid_auto_flow": null,
            "grid_auto_rows": null,
            "grid_column": null,
            "grid_gap": null,
            "grid_row": null,
            "grid_template_areas": null,
            "grid_template_columns": null,
            "grid_template_rows": null,
            "height": null,
            "justify_content": null,
            "justify_items": null,
            "left": null,
            "margin": null,
            "max_height": null,
            "max_width": null,
            "min_height": null,
            "min_width": null,
            "object_fit": null,
            "object_position": null,
            "order": null,
            "overflow": null,
            "overflow_x": null,
            "overflow_y": null,
            "padding": null,
            "right": null,
            "top": null,
            "visibility": null,
            "width": null
          }
        },
        "a568ce92f18840898ac1c96c561e0379": {
          "model_module": "@jupyter-widgets/controls",
          "model_name": "DescriptionStyleModel",
          "model_module_version": "1.5.0",
          "state": {
            "_model_module": "@jupyter-widgets/controls",
            "_model_module_version": "1.5.0",
            "_model_name": "DescriptionStyleModel",
            "_view_count": null,
            "_view_module": "@jupyter-widgets/base",
            "_view_module_version": "1.2.0",
            "_view_name": "StyleView",
            "description_width": ""
          }
        },
        "800c350bb04b4538ba27d18da3cbb39b": {
          "model_module": "@jupyter-widgets/base",
          "model_name": "LayoutModel",
          "model_module_version": "1.2.0",
          "state": {
            "_model_module": "@jupyter-widgets/base",
            "_model_module_version": "1.2.0",
            "_model_name": "LayoutModel",
            "_view_count": null,
            "_view_module": "@jupyter-widgets/base",
            "_view_module_version": "1.2.0",
            "_view_name": "LayoutView",
            "align_content": null,
            "align_items": null,
            "align_self": null,
            "border": null,
            "bottom": null,
            "display": null,
            "flex": null,
            "flex_flow": null,
            "grid_area": null,
            "grid_auto_columns": null,
            "grid_auto_flow": null,
            "grid_auto_rows": null,
            "grid_column": null,
            "grid_gap": null,
            "grid_row": null,
            "grid_template_areas": null,
            "grid_template_columns": null,
            "grid_template_rows": null,
            "height": null,
            "justify_content": null,
            "justify_items": null,
            "left": null,
            "margin": null,
            "max_height": null,
            "max_width": null,
            "min_height": null,
            "min_width": null,
            "object_fit": null,
            "object_position": null,
            "order": null,
            "overflow": null,
            "overflow_x": null,
            "overflow_y": null,
            "padding": null,
            "right": null,
            "top": null,
            "visibility": null,
            "width": null
          }
        },
        "a488717f84d340d48545ac0df5e3dbed": {
          "model_module": "@jupyter-widgets/controls",
          "model_name": "ProgressStyleModel",
          "model_module_version": "1.5.0",
          "state": {
            "_model_module": "@jupyter-widgets/controls",
            "_model_module_version": "1.5.0",
            "_model_name": "ProgressStyleModel",
            "_view_count": null,
            "_view_module": "@jupyter-widgets/base",
            "_view_module_version": "1.2.0",
            "_view_name": "StyleView",
            "bar_color": null,
            "description_width": ""
          }
        },
        "b3da9352c6024736ba83983bd78dc5a9": {
          "model_module": "@jupyter-widgets/base",
          "model_name": "LayoutModel",
          "model_module_version": "1.2.0",
          "state": {
            "_model_module": "@jupyter-widgets/base",
            "_model_module_version": "1.2.0",
            "_model_name": "LayoutModel",
            "_view_count": null,
            "_view_module": "@jupyter-widgets/base",
            "_view_module_version": "1.2.0",
            "_view_name": "LayoutView",
            "align_content": null,
            "align_items": null,
            "align_self": null,
            "border": null,
            "bottom": null,
            "display": null,
            "flex": null,
            "flex_flow": null,
            "grid_area": null,
            "grid_auto_columns": null,
            "grid_auto_flow": null,
            "grid_auto_rows": null,
            "grid_column": null,
            "grid_gap": null,
            "grid_row": null,
            "grid_template_areas": null,
            "grid_template_columns": null,
            "grid_template_rows": null,
            "height": null,
            "justify_content": null,
            "justify_items": null,
            "left": null,
            "margin": null,
            "max_height": null,
            "max_width": null,
            "min_height": null,
            "min_width": null,
            "object_fit": null,
            "object_position": null,
            "order": null,
            "overflow": null,
            "overflow_x": null,
            "overflow_y": null,
            "padding": null,
            "right": null,
            "top": null,
            "visibility": null,
            "width": null
          }
        },
        "f1aada47fa8e494990ca0b1e1b8aac59": {
          "model_module": "@jupyter-widgets/controls",
          "model_name": "DescriptionStyleModel",
          "model_module_version": "1.5.0",
          "state": {
            "_model_module": "@jupyter-widgets/controls",
            "_model_module_version": "1.5.0",
            "_model_name": "DescriptionStyleModel",
            "_view_count": null,
            "_view_module": "@jupyter-widgets/base",
            "_view_module_version": "1.2.0",
            "_view_name": "StyleView",
            "description_width": ""
          }
        }
      }
    }
  },
  "nbformat": 4,
  "nbformat_minor": 0
}